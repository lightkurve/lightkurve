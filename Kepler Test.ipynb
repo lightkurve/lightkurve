{
 "cells": [
  {
   "cell_type": "code",
   "execution_count": 1,
   "metadata": {},
   "outputs": [],
   "source": [
    "import lightkurve as lk\n",
    "from lightkurve import search_lightcurvefile\n",
    "import numpy as np\n",
    "from tqdm import tqdm"
   ]
  },
  {
   "cell_type": "code",
   "execution_count": 2,
   "metadata": {},
   "outputs": [],
   "source": [
    "# Boeing + stars listed in table 1. Yu et al 2018\n",
    "kics = [4448777, 2570518, 4682420, 4946632] \n",
    "#         5340720, 5446355, 6197448, 6429836, \n",
    "#         6435899, 6756156, 7445517, 8265154,\n",
    "#         8509198, 9285761, 9475300, 10318430, \n",
    "#         10420502, 10675935, 11026843, 11600442, \n",
    "#         12555883]"
   ]
  },
  {
   "cell_type": "code",
   "execution_count": null,
   "metadata": {},
   "outputs": [
    {
     "name": "stderr",
     "output_type": "stream",
     "text": [
      " 50%|█████     | 2/4 [00:15<00:16,  8.31s/it]"
     ]
    }
   ],
   "source": [
    "lcs = {}\n",
    "\n",
    "for target in tqdm(kics):\n",
    "    lc_ = search_lightcurvefile(target).download_all()\n",
    "    lc = lc_[0].PDCSAP_FLUX\n",
    "    for l in lc_:\n",
    "        lc = lc.append(l.PDCSAP_FLUX)\n",
    "    lcs[target] = lc"
   ]
  },
  {
   "cell_type": "code",
   "execution_count": null,
   "metadata": {},
   "outputs": [],
   "source": [
    "lcs[kics[np.random.randint(len(kics))]].plot()"
   ]
  },
  {
   "cell_type": "code",
   "execution_count": null,
   "metadata": {},
   "outputs": [],
   "source": [
    "corr_lcs = {}\n",
    "for k,v in lcs.items():\n",
    "    print(k,v)\n",
    "    corr_lcs[k] = v.normalize().remove_nans().flatten(window_length=101).remove_outliers(4)"
   ]
  },
  {
   "cell_type": "code",
   "execution_count": null,
   "metadata": {},
   "outputs": [],
   "source": [
    "corr_lcs[kics[np.random.randint(len(kics))]].plot()"
   ]
  },
  {
   "cell_type": "code",
   "execution_count": null,
   "metadata": {},
   "outputs": [],
   "source": [
    "snr = {}\n",
    "for k,v in corr_lcs.items():\n",
    "    snr[k] = v.to_periodogram(normalization='psd',\n",
    "                              maximum_frequency=288, minimum_frequency=1).flatten()"
   ]
  },
  {
   "cell_type": "code",
   "execution_count": null,
   "metadata": {},
   "outputs": [],
   "source": [
    "snr[kics[np.random.randint(len(kics))]].plot()"
   ]
  },
  {
   "cell_type": "code",
   "execution_count": null,
   "metadata": {},
   "outputs": [],
   "source": [
    "seismo = {}\n",
    "for k,v in snr.items():\n",
    "    numax = v.estimate_numax()\n",
    "    dnu = v.estimate_dnu(numax=numax)\n",
    "    seismo[k] = [numax, dnu]"
   ]
  },
  {
   "cell_type": "code",
   "execution_count": null,
   "metadata": {},
   "outputs": [],
   "source": [
    "import matplotlib.pyplot as plt\n",
    "fig, ax = plt.subplots(figsize=[16,9])\n",
    "for k, v in seismo.items():\n",
    "    ax.scatter(v[0], v[1], label=k, s=50)\n",
    "    ax.scatter(v[0], v[1], c='w', s=25)\n",
    "    ax.text(v[0].value, v[1].value, str(k))\n",
    "#ax.set_xlim([60, 288])\n",
    "#ax.set_ylim([5, 20])\n",
    "ax.set_xscale('log')\n",
    "ax.set_yscale('log')"
   ]
  },
  {
   "cell_type": "code",
   "execution_count": null,
   "metadata": {},
   "outputs": [],
   "source": [
    "inspect = 5446355 #kics[np.random.randint(len(kics))]\n",
    "print(seismo[inspect])\n",
    "snr[inspect].plot()"
   ]
  },
  {
   "cell_type": "code",
   "execution_count": null,
   "metadata": {},
   "outputs": [],
   "source": [
    "fig, ax = plt.subplots(figsize=[16,9])\n",
    "f = snr[inspect].frequency.value\n",
    "p = snr[inspect].power.value\n",
    "\n",
    "ax.plot(f, 1- (np.exp(-p/2)))\n",
    "# ax.set_yscale('log')\n",
    "ax.set_ylim([0.95,1.0])"
   ]
  },
  {
   "cell_type": "code",
   "execution_count": null,
   "metadata": {},
   "outputs": [],
   "source": [
    "h0 = 1-np.exp(-p/2)\n",
    "width = snr[inspect]._get_fwhm(numax.value)\n",
    "det = f[h0 > 0.98]"
   ]
  },
  {
   "cell_type": "code",
   "execution_count": null,
   "metadata": {},
   "outputs": [],
   "source": [
    "np.abs(det - numax.value)"
   ]
  },
  {
   "cell_type": "code",
   "execution_count": null,
   "metadata": {},
   "outputs": [],
   "source": []
  },
  {
   "cell_type": "code",
   "execution_count": null,
   "metadata": {},
   "outputs": [],
   "source": []
  },
  {
   "cell_type": "code",
   "execution_count": null,
   "metadata": {},
   "outputs": [],
   "source": [
    "numax = snr[inspect].estimate_numax(show_plots=True)[0]\n",
    "print(numax)"
   ]
  },
  {
   "cell_type": "code",
   "execution_count": null,
   "metadata": {},
   "outputs": [],
   "source": [
    "dnu = snr[inspect].estimate_dnu(numax=numax, show_plots=True)[0]\n",
    "print(dnu)\n"
   ]
  },
  {
   "cell_type": "code",
   "execution_count": null,
   "metadata": {},
   "outputs": [],
   "source": [
    "snr[inspect].plot_echelle(dnu=dnu, numax=numax, power_log=False)"
   ]
  },
  {
   "cell_type": "code",
   "execution_count": null,
   "metadata": {},
   "outputs": [],
   "source": [
    "snr[inspect].smooth(filter_width=0.3).plot_echelle(dnu=dnu, numax=numax, power_log=False)"
   ]
  },
  {
   "cell_type": "code",
   "execution_count": null,
   "metadata": {},
   "outputs": [],
   "source": [
    "snr[inspect]._get_fwhm(numax)"
   ]
  },
  {
   "cell_type": "code",
   "execution_count": null,
   "metadata": {},
   "outputs": [],
   "source": []
  }
 ],
 "metadata": {
  "kernelspec": {
   "display_name": "Python 3",
   "language": "python",
   "name": "python3"
  },
  "language_info": {
   "codemirror_mode": {
    "name": "ipython",
    "version": 3
   },
   "file_extension": ".py",
   "mimetype": "text/x-python",
   "name": "python",
   "nbconvert_exporter": "python",
   "pygments_lexer": "ipython3",
   "version": "3.6.7"
  }
 },
 "nbformat": 4,
 "nbformat_minor": 2
}
