{
 "cells": [
  {
   "cell_type": "markdown",
   "metadata": {},
   "source": [
    "# How to cut out Target Pixel Files from Kepler Superstamps or TESS FFIs?\n",
    "\n"
   ]
  },
  {
   "cell_type": "markdown",
   "metadata": {},
   "source": [
    "You can use `lightkurve` to cut Target Pixel Files (TPFs) out of a series of standard astronomical images, such as [K2 Superstamp Mosaics](https://archive.stsci.edu/prepds/k2superstamp/) or TESS [Full-Frame-Images (FFIs)](https://heasarc.gsfc.nasa.gov/docs/tess/data-products.html#full-frame-images). This brief tutorial will demonstrate how."
   ]
  },
  {
   "cell_type": "code",
   "execution_count": null,
   "metadata": {},
   "outputs": [],
   "source": [
    "import lightkurve as lk"
   ]
  },
  {
   "cell_type": "code",
   "execution_count": null,
   "metadata": {},
   "outputs": [],
   "source": [
    "search_result = lk.search_tesscut('HAT-P-11', sector=14)\n",
    "search_result"
   ]
  },
  {
   "cell_type": "markdown",
   "metadata": {},
   "source": [
    "TESS observed the Kepler prime field in Sector 14--- let's see if we can detect planet b.  \n",
    "At the time of writing, the downloading from MAST can be fickle due to 504 HTTP Gateway Timeout errors.  You can increase the logging level to find out more information if the TESScut service is down."
   ]
  },
  {
   "cell_type": "code",
   "execution_count": null,
   "metadata": {},
   "outputs": [],
   "source": [
    "lk.log.setLevel('INFO')"
   ]
  },
  {
   "cell_type": "markdown",
   "metadata": {},
   "source": [
    "You can specify the `cutout_size`---in number of TESS pixels on a side---as an argument to [.download()](https://docs.lightkurve.org/reference/search.html?highlight=download).  The default is a meager 5 $\\times$ 5 square.  Let's go with 20 pixels square."
   ]
  },
  {
   "cell_type": "code",
   "execution_count": null,
   "metadata": {},
   "outputs": [],
   "source": [
    "tpf = search_result.download(cutout_size=20)"
   ]
  },
  {
   "cell_type": "markdown",
   "metadata": {},
   "source": [
    "You have to make your own aperture mask for these custom TESS FFI cutouts.  Many decisions go into the choice of aperture mask, including the significant blending of the large TESS pixels.  "
   ]
  },
  {
   "cell_type": "code",
   "execution_count": null,
   "metadata": {},
   "outputs": [],
   "source": [
    "target_mask = tpf.create_threshold_mask(threshold=15, reference_pixel='center')\n",
    "n_target_pixels = target_mask.sum()\n",
    "n_target_pixels"
   ]
  },
  {
   "cell_type": "code",
   "execution_count": null,
   "metadata": {},
   "outputs": [],
   "source": [
    "tpf.plot(aperture_mask=target_mask, mask_color='k');"
   ]
  },
  {
   "cell_type": "markdown",
   "metadata": {},
   "source": [
    "Nice!  We see our target mask centered on the ten brightest pixels in the center of the image.  Let's see what the uncorrected \"Simple Aperture Photometry\" (**SAP**) lightcurve looks like.  For now, we will make no attempt at local background subtraction."
   ]
  },
  {
   "cell_type": "code",
   "execution_count": null,
   "metadata": {},
   "outputs": [],
   "source": [
    "target_lc = tpf.to_lightcurve(aperture_mask=target_mask)"
   ]
  },
  {
   "cell_type": "code",
   "execution_count": null,
   "metadata": {},
   "outputs": [],
   "source": [
    "target_lc.plot(label='Target + background');"
   ]
  },
  {
   "cell_type": "markdown",
   "metadata": {},
   "source": [
    "The lightcurve clearly shows a 3% signal arising from significant time-variable background in these 10 pixels.  Background flux is uncorrected in these TESS FFI cutouts, so we will have to estimate it directly.  We can make a clever threshold mask:"
   ]
  },
  {
   "cell_type": "code",
   "execution_count": null,
   "metadata": {},
   "outputs": [],
   "source": [
    "background_mask = ~tpf.create_threshold_mask(threshold=0.001, reference_pixel=None)"
   ]
  },
  {
   "cell_type": "code",
   "execution_count": null,
   "metadata": {},
   "outputs": [],
   "source": [
    "tpf.plot(aperture_mask=background_mask, mask_color='w');"
   ]
  },
  {
   "cell_type": "code",
   "execution_count": null,
   "metadata": {},
   "outputs": [],
   "source": [
    "n_background_pixels = background_mask.sum()\n",
    "n_background_pixels"
   ]
  },
  {
   "cell_type": "markdown",
   "metadata": {},
   "source": [
    "We identified 201 \"empty\" pixels that could be suitable for estimating the background.  The 20x20 cutout has 400 pixels, so these 201 pixels are roughly the pixels with fluxes below the median.\n",
    "\n",
    "One may object that these ostensibly empty pixels contain background stars, so there is some uncertain zero-point level from imperfect background estimation.  That's true!  Background estimation is ultimately a challenge for working with TESS cutouts, especially since background varies in both space and time.  Such effects should diminish as your background model approaches reality by modeling or ignoring known background sources and as more instrumental characterization proceeds.  The Gaia background sources can be examined using [.interact_sky()](https://docs.lightkurve.org/reference/api/lightkurve.KeplerTargetPixelFile.interact_sky.html?highlight=interact_sky#lightkurve.KeplerTargetPixelFile.interact_sky):"
   ]
  },
  {
   "cell_type": "code",
   "execution_count": null,
   "metadata": {},
   "outputs": [],
   "source": [
    "#tpf.interact_sky()"
   ]
  },
  {
   "cell_type": "code",
   "execution_count": null,
   "metadata": {},
   "outputs": [],
   "source": [
    "background_lc_per_pixel = tpf.to_lightcurve(aperture_mask=background_mask) / n_background_pixels"
   ]
  },
  {
   "cell_type": "markdown",
   "metadata": {},
   "source": [
    "The amount of background seen in the target aperture is the background flux per pixel times the number of pixels in the target aperture."
   ]
  },
  {
   "cell_type": "code",
   "execution_count": null,
   "metadata": {},
   "outputs": [],
   "source": [
    "background_estimate_lc = background_lc_per_pixel * n_target_pixels"
   ]
  },
  {
   "cell_type": "code",
   "execution_count": null,
   "metadata": {},
   "outputs": [],
   "source": [
    "import numpy as np"
   ]
  },
  {
   "cell_type": "code",
   "execution_count": null,
   "metadata": {},
   "outputs": [],
   "source": [
    "common_normalization = np.nanpercentile(target_lc.flux, 10)\n",
    "ax = (target_lc / common_normalization).plot(normalize=False, label='Target + Background', lw=1);\n",
    "(background_estimate_lc / common_normalization +1).plot(ax=ax, normalize=False, label='Background', \n",
    "                                                        ylabel='Normalized, shifted flux');"
   ]
  },
  {
   "cell_type": "markdown",
   "metadata": {},
   "source": [
    "The time variable structure of the background flux resembles that of the target + background."
   ]
  },
  {
   "cell_type": "code",
   "execution_count": null,
   "metadata": {},
   "outputs": [],
   "source": [
    "corrected_lc = target_lc - background_estimate_lc.flux"
   ]
  },
  {
   "cell_type": "code",
   "execution_count": null,
   "metadata": {},
   "outputs": [],
   "source": [
    "corrected_lc.plot();"
   ]
  },
  {
   "cell_type": "markdown",
   "metadata": {},
   "source": [
    "Woohoo! We see the transit signal of HAT-P-11 b!  Let's fold it on its known period 4.887802443 days [(Huber et al. 2017)](https://arxiv.org/abs/1611.00153)."
   ]
  },
  {
   "cell_type": "code",
   "execution_count": null,
   "metadata": {},
   "outputs": [],
   "source": [
    "period_days = 4.887802443\n",
    "epoch_time = 2454605.89132 - 2457000"
   ]
  },
  {
   "cell_type": "code",
   "execution_count": null,
   "metadata": {},
   "outputs": [],
   "source": [
    "ax = corrected_lc.flatten(101).fold(period_days, epoch_time=epoch_time).scatter();"
   ]
  },
  {
   "cell_type": "markdown",
   "metadata": {},
   "source": [
    "Nice!"
   ]
  },
  {
   "cell_type": "markdown",
   "metadata": {},
   "source": [
    "## Cut out Target Pixel Files from local Kepler Superstamps or native TESS FFIs"
   ]
  },
  {
   "cell_type": "markdown",
   "metadata": {},
   "source": [
    "It's also possible to manually construct TPFs from the native TESS FFIs or Kepler superstamps if you have the individual fits files saved locally.\n",
    "\n",
    "\n",
    "Let's assume you have downloaded a set of raw TESS FFIs to a local directory called `data`. `lightkurve` will assume that the files are given in *time order*. So you have to sort the filenames first with `glob`:"
   ]
  },
  {
   "cell_type": "code",
   "execution_count": null,
   "metadata": {},
   "outputs": [],
   "source": [
    "from glob import glob\n",
    "import numpy as np"
   ]
  },
  {
   "cell_type": "markdown",
   "metadata": {},
   "source": [
    "Now we use the `KeplerTargetPixelFile` class and its function [from_fits_images()](https://docs.lightkurve.org/reference/api/lightkurve.KeplerTargetPixelFile.from_fits_images.html?highlight=from_fits_images) to create the new TPF. This will cut out around the position keyword. You can pass a pixel position in units of the original image or RA and Dec coordinates."
   ]
  },
  {
   "cell_type": "code",
   "execution_count": null,
   "metadata": {},
   "outputs": [],
   "source": [
    "from lightkurve import KeplerTargetPixelFile\n",
    "from astropy.coordinates import SkyCoord"
   ]
  },
  {
   "cell_type": "markdown",
   "metadata": {},
   "source": [
    "```python\n",
    "fnames = np.sort(glob('data/*.fits'))\n",
    "tpf = KeplerTargetPixelFile.from_fits_images(images=fnames, \n",
    "                                             position=SkyCoord(257.13700, 24.48958, unit='deg'), \n",
    "                                             size=(9,9),\n",
    "                                             target_id='MyCutOut')\n",
    "```"
   ]
  },
  {
   "cell_type": "markdown",
   "metadata": {},
   "source": [
    "The resulting object is a fully functioning `KeplerTargetPixelFile`.  You can read more about such objects in the [tutorial on their use](https://docs.lightkurve.org/tutorials/01-target-pixel-files.html)."
   ]
  }
 ],
 "metadata": {
  "kernelspec": {
   "display_name": "Python 3",
   "language": "python",
   "name": "python3"
  },
  "language_info": {
   "codemirror_mode": {
    "name": "ipython",
    "version": 3
   },
   "file_extension": ".py",
   "mimetype": "text/x-python",
   "name": "python",
   "nbconvert_exporter": "python",
   "pygments_lexer": "ipython3",
   "version": "3.6.10"
  }
 },
 "nbformat": 4,
 "nbformat_minor": 4
}
