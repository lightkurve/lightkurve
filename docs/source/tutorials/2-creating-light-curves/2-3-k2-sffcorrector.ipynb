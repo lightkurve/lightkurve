{
 "cells": [
  {
   "cell_type": "markdown",
   "metadata": {},
   "source": [
    "# Removing noise from K2 light curves using Self Flat Fielding (`SFFCorrector`)"
   ]
  },
  {
   "cell_type": "markdown",
   "metadata": {},
   "source": [
    "You can use `lightkurve` to remove the spacecraft motion noise from K2 data. Targets in K2 data move over multiple pixels during the exposure due to thruster firings. This can be corrected using the Self Flat Fielding method (SFF), which you can read more about [here](https://docs.lightkurve.org/tutorials/04-replicate-vanderburg-2014-k2sff).\n",
    "\n",
    "This tutorial demonstrates how you can apply the method on your light curves Using `lightkurve`.\n",
    "\n",
    "Let's start by downloading a K2 light curve of an exoplanet host star."
   ]
  },
  {
   "cell_type": "code",
   "execution_count": null,
   "metadata": {},
   "outputs": [],
   "source": [
    "from lightkurve import search_lightcurve\n",
    "lc = search_lightcurve(\"EPIC 247887989\", author=\"K2\").download()  # returns a LightCurve\n",
    "\n",
    "# Remove nans and outliers\n",
    "lc = lc.remove_nans().remove_outliers()              \n",
    "\n",
    "# Remove long term trends\n",
    "lc = lc.flatten(window_length=401)"
   ]
  },
  {
   "cell_type": "code",
   "execution_count": null,
   "metadata": {},
   "outputs": [],
   "source": [
    "lc.scatter();"
   ]
  },
  {
   "cell_type": "markdown",
   "metadata": {},
   "source": [
    "This light curve of the object [K2-133](https://exoplanetarchive.ipac.caltech.edu/cgi-bin/DisplayOverview/nph-DisplayOverview?objname=K2-133+b&type=CONFIRMED_PLANET), which is known to host an exoplanet with a period of 3.0712 days.  The light curve shows a lot of motion noise on K2's typical 6-hour motion timescale.\n",
    "\n",
    "Let's plot the folded version of it to see what the signal of the known transiting exoplanet looks like."
   ]
  },
  {
   "cell_type": "code",
   "execution_count": null,
   "metadata": {},
   "outputs": [],
   "source": [
    "lc.fold(period=3.0712).scatter();"
   ]
  },
  {
   "cell_type": "markdown",
   "metadata": {},
   "source": [
    "We can see the hint of an exoplanet transit close to the center, but the motion of the spacecraft has made it difficult to make out above the noise.\n",
    "\n",
    "We can use the `SFFCorrector` class to remove this motion. An in-depth look into how the algorithm works can be found [here](https://docs.lightkurve.org/tutorials/04-replicate-vanderburg-2014-k2sff.html). You can tune the algorithm using a number of optional keywords, including:\n",
    "\n",
    "* `degree` : *int*\n",
    "        The degree of polynomials in the splines in time and arclength. \n",
    "* `niters` : *int*\n",
    "        Number of iterations\n",
    "* `bins` : *int*\n",
    "        Number of bins to be used to create the piece-wise interpolation of arclength vs flux correction.\n",
    "* `windows` : *int*\n",
    "        Number of windows to subdivide the data.  The SFF algorithm is run independently in each window.\n",
    "\n",
    "This [tutorial](https://docs.lightkurve.org/tutorials/04-replicate-vanderburg-2014-lightkurve.html) will teach you more about how to tune these parameters. For this problem, we will use the defaults, but increase the number of windows to 20."
   ]
  },
  {
   "cell_type": "code",
   "execution_count": null,
   "metadata": {},
   "outputs": [],
   "source": [
    "corr_lc = lc.to_corrector(\"sff\").correct(windows=20)"
   ]
  },
  {
   "cell_type": "markdown",
   "metadata": {},
   "source": [
    "Note: this is identical to the following command:"
   ]
  },
  {
   "cell_type": "code",
   "execution_count": null,
   "metadata": {},
   "outputs": [],
   "source": [
    "from lightkurve.correctors import SFFCorrector\n",
    "corr_lc = SFFCorrector(lc).correct(windows=20)"
   ]
  },
  {
   "cell_type": "markdown",
   "metadata": {},
   "source": [
    "Now when we compare the two light curves we can see the clear signal from the exoplanet."
   ]
  },
  {
   "cell_type": "code",
   "execution_count": null,
   "metadata": {},
   "outputs": [],
   "source": [
    "ax = lc.fold(period=3.0712).scatter(color='red', alpha=0.5, label='Original light curve')\n",
    "ax = corr_lc.fold(period=3.0712).scatter(ax=ax, color='blue', alpha=0.5, label='Motion noise removed using SFF');"
   ]
  },
  {
   "cell_type": "markdown",
   "metadata": {},
   "source": [
    "Voilà!  Correcting motion systematics can vastly improve the signal-to-noise ratio in your lightcurve."
   ]
  }
 ],
 "metadata": {
  "kernelspec": {
   "display_name": "Python 3",
   "language": "python",
   "name": "python3"
  },
  "language_info": {
   "codemirror_mode": {
    "name": "ipython",
    "version": 3
   },
   "file_extension": ".py",
   "mimetype": "text/x-python",
   "name": "python",
   "nbconvert_exporter": "python",
   "pygments_lexer": "ipython3",
   "version": "3.8.6"
  }
 },
 "nbformat": 4,
 "nbformat_minor": 4
}
