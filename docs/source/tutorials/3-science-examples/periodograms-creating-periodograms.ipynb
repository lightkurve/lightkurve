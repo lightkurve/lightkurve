{
 "cells": [
  {
   "cell_type": "markdown",
   "metadata": {
    "colab_type": "text",
    "id": "SQ373GlLUmAo"
   },
   "source": [
    "# Creating periodograms and identifying significant peaks"
   ]
  },
  {
   "cell_type": "markdown",
   "metadata": {
    "colab_type": "text",
    "id": "iTCqL18hUxya"
   },
   "source": [
    "## Learning Goals\n",
    "\n",
    "By the end of this tutorial, you will:\n",
    "\n",
    "- Understand the definition and utility of the frequency domain.\n",
    "- Understand the concept of a periodogram.\n",
    "- Be able to create a periodogram from *Kepler* data using Lightkurve.\n",
    "- Be able to interpret a periodogram."
   ]
  },
  {
   "cell_type": "markdown",
   "metadata": {
    "colab_type": "text",
    "id": "f0_oL7t-VB3x"
   },
   "source": [
    "## Introduction\n",
    "\n",
    "The [*Kepler*](https://www.nasa.gov/mission_pages/kepler/main/index.html) and [*TESS*](https://tess.mit.edu/) telescopes observe stars for long periods of time, from just under a month to four years. By doing so they observe how the brightnesses of stars change over time.\n",
    "\n",
    "Some signals that appear in these time series will form repeating patterns. In other words, they oscillate. These oscillations are better studied in frequency space, through the means of a *periodogram*. This tutorial provides an explanation of what a periodogram is, and how you can use Lightkurve's tools to study a *Kepler* observation in the frequency domain.\n",
    "\n",
    "Stars of all shapes, sizes, and ages experience changes in brightness. This variability repeats over time, forming oscillation signals that we can observe in *Kepler* data. \n",
    "\n",
    "Stellar brightness variability can have various sources. Some stars will vary in brightness due to star spots rotating in and out of view. Others pulsate, shrinking and expanding due to waves forming inside of the star. And still others may vary in brightness due to interaction with a nearby companion. By understanding the stellar variability, we can learn a lot about the conditions on, within, and around the star itself.\n",
    "\n",
    "Because stellar variablity produces oscillating signals, and *Kepler* data can span up to four years, it is often cumbersome to study these oscillations in the time domain. Instead, we can study them in the frequency domain, where signals are separated into bins of frequency, and strong repeating patterns are more readily discerned.\n"
   ]
  },
  {
   "cell_type": "markdown",
   "metadata": {
    "colab_type": "text",
    "id": "L8bDU6OgWJfN"
   },
   "source": [
    "## Imports\n",
    "This tutorial requires **[Lightkurve](https://docs.lightkurve.org)**, which in turn uses **[matplotlib](https://matplotlib.org/stable/index.html)** for plotting."
   ]
  },
  {
   "cell_type": "code",
   "execution_count": null,
   "metadata": {
    "colab": {},
    "colab_type": "code",
    "id": "TRtQcR3rYy0E"
   },
   "outputs": [],
   "source": [
    "import lightkurve as lk\n",
    "%matplotlib inline"
   ]
  },
  {
   "cell_type": "markdown",
   "metadata": {
    "colab_type": "text",
    "id": "d2krG6SjWhhf"
   },
   "source": [
    "## 1. The Frequency Domain"
   ]
  },
  {
   "cell_type": "markdown",
   "metadata": {
    "colab_type": "text",
    "id": "XZk7jSIj_XBP"
   },
   "source": [
    "To understand the frequency domain, we must first understand a little about the concept of a [Fourier Transform (FT)](https://en.wikipedia.org/wiki/Fourier_transform), the mathematical transformation we can use to translate time-domain data into the frequency domain.\n",
    "\n",
    "If we have a function of time $x(t)$, such as the brightness of a star, the FT of this function, $X(\\nu)$, is given as \n",
    "\n",
    "$$X(\\nu) = \\int^{+\\infty}_{-\\infty}x(t)e^{-2\\pi i\\nu t}\\rm{d}t\\, ,$$\n",
    "\n",
    "where $t$ is time, $i$ is the imaginary unit, and $\\nu$ is frequency. This equation looks like a bit of a handful, so let's try to break it down:\n",
    "\n",
    "A Fourier Transform...\n",
    "\n",
    "- for a frequency $\\nu$,\n",
    "- $e^{-2\\pi i \\nu t}$: takes a cosine and a sine of that frequency*, and\n",
    "-  $x(t) e^{-2\\pi i \\nu t}$: multiplies it with the function at time $t$, and\n",
    "-  $\\int^{+\\infty}_{-\\infty} x(t) e^{-2\\pi i \\nu t} \\rm{d}t$ : integrates over the full range of time:\n",
    "- The result of this is the value of the Fourier Transform at that frequency: $X(\\nu)$. \n",
    "\n",
    "*through [Euler's formula](https://en.wikipedia.org/wiki/Euler%27s_formula)."
   ]
  },
  {
   "cell_type": "markdown",
   "metadata": {
    "colab_type": "text",
    "id": "mD9AlXra_XKD"
   },
   "source": [
    "For example, if you had a function that was a sine wave with a frequency of $5\\, \\rm Hz$, $X(5\\, \\rm Hz)$ would be large. But if you had a sine wave with a vastly different frequency (like $100\\, \\rm Hz$), $X(5\\, \\rm Hz)$ would be small. And $X(100\\, \\rm Hz)$ would be large!\n",
    "\n",
    "In short, the FT of a function shows us the frequencies of periodic signals. This is incredibly useful when studying stars, which exhibit all kinds of variability due to rotation, activity, granulation, and sound waves under their surface. A FT lets us extract the oscillation frequencies of these events more clearly."
   ]
  },
  {
   "cell_type": "markdown",
   "metadata": {
    "colab_type": "text",
    "id": "jKDel3pv8ATf"
   },
   "source": [
    "## 2. Creating a Periodogram from *Kepler* Data"
   ]
  },
  {
   "cell_type": "markdown",
   "metadata": {
    "colab_type": "text",
    "id": "pL3WbBu__X4U"
   },
   "source": [
    "If we want to study *Kepler* data in the frequency domain, there are a couple of approximations we need to make. Mainly, we need to account for the fact that our data is *not* a continuous function, but a discrete set of observations. The required operation to convert a discrete function to the frequency domain is called a Discrete Fourier Transform (DFT).\n",
    "\n",
    "One of the methods people use to estimate the DFT of a light curve is the *Lomb-Scargle periodogram*. Without delving into the details here, a periodogram is an estimation of what the FT of the data would look like were it a continuous function. You can find a thorough explanation of both the Fourier Transform as well as the Lomb-Scargle periodogram in [Vanderplas (2017)](https://arxiv.org/pdf/1703.09824.pdf).\n",
    "\n",
    "Lightkurve's built-in functions use the [Astropy Lomb-Scargle](https://docs.astropy.org/en/stable/timeseries/lombscargle.html) implementation. Let's use it below to have a look at a periodogram of an eclipsing binary star, KIC 10264202."
   ]
  },
  {
   "cell_type": "code",
   "execution_count": null,
   "metadata": {
    "colab": {
     "base_uri": "https://localhost:8080/",
     "height": 387
    },
    "colab_type": "code",
    "executionInfo": {
     "elapsed": 3562,
     "status": "ok",
     "timestamp": 1599617686029,
     "user": {
      "displayName": "Geert Barentsen",
      "photoUrl": "https://lh3.googleusercontent.com/a-/AOh14Gj8sjdnDeqdejfe7OoouYPIclAQV0KSTpsU469Jyeo=s64",
      "userId": "05704237875861987058"
     },
     "user_tz": 420
    },
    "id": "wDcWJTOX_X-y",
    "outputId": "6c638765-3f36-4274-ce92-8fee97c5dc8d"
   },
   "outputs": [],
   "source": [
    "lc = lk.search_lightcurve('KIC 10264202', author=\"Kepler\", quarter=10).download()\n",
    "lc.plot();"
   ]
  },
  {
   "cell_type": "markdown",
   "metadata": {
    "colab_type": "text",
    "id": "BIfzwTMi_YE8"
   },
   "source": [
    " An eclipsing binary is a pair of stars which orbit one another in such a way that they periodically eclipse each other with respect to us, the observers. The eclipse produces a repeating pattern of two \"dips\" per orbit, creating a rich pattern of ups and downs in the light curve. These stars [show up frequently](https://iopscience.iop.org/article/10.3847/0004-6256/151/3/68) in *Kepler* observations. From looking at this light curve, we might expect two strong peaks in the periodogram, namely:\n",
    "- at the frequency of the very long period (low frequency), variability visible with peaks around $7100\\, e^-s^{-1}$\n",
    "- at the frequency of the very short period (high frequency), spikes are visible peaking near $7200\\, e^-s^{-1}$\n",
    "\n",
    "The \"spikes\" here are the eclipsing binary pair components transiting in front of one another, and it is this signal that we should expect to have the largest peak in the periodogram, because it has the largest amplitude in the time domain."
   ]
  },
  {
   "cell_type": "markdown",
   "metadata": {
    "colab_type": "text",
    "id": "iAUW3JL9_YKW"
   },
   "source": [
    "We can create a periodogram of this light curve using the [to_periodogram()](https://docs.lightkurve.org/reference/api/lightkurve.LightCurve.to_periodogram.html?highlight=to_periodogram) function. We first normalize the flux units to parts per million (`ppm`), which gives a more intuitive impression of the relative power of these oscillations."
   ]
  },
  {
   "cell_type": "code",
   "execution_count": null,
   "metadata": {
    "colab": {
     "base_uri": "https://localhost:8080/",
     "height": 34
    },
    "colab_type": "code",
    "executionInfo": {
     "elapsed": 365,
     "status": "ok",
     "timestamp": 1599617786592,
     "user": {
      "displayName": "Geert Barentsen",
      "photoUrl": "https://lh3.googleusercontent.com/a-/AOh14Gj8sjdnDeqdejfe7OoouYPIclAQV0KSTpsU469Jyeo=s64",
      "userId": "05704237875861987058"
     },
     "user_tz": 420
    },
    "id": "egeYKtrC_YlS",
    "outputId": "1d547b31-651f-4a6f-cce8-64e2c41a67ad"
   },
   "outputs": [],
   "source": [
    "pg = lc.normalize(unit='ppm').to_periodogram()\n",
    "pg"
   ]
  },
  {
   "cell_type": "markdown",
   "metadata": {
    "colab_type": "text",
    "id": "vW8N0Qp0gRL7"
   },
   "source": [
    "Here, the object `pg` is a [LombScarglePeriodogram](https://docs.lightkurve.org/reference/api/lightkurve.periodogram.LombScarglePeriodogram.from_lightcurve.html). This object contains all of the properties of the [Periodogram](https://docs.lightkurve.org/reference/api/lightkurve.periodogram.Periodogram.html) class, as well as some features unique to Lomb-Scargle periodograms, which will be discussed in the next tutorial.\n",
    "\n",
    "As with a [LightCurve](https://docs.lightkurve.org/reference/api/lightkurve.LightCurve.html#lightkurve.LightCurve) or [TargetPixelFile](https://docs.lightkurve.org/reference/targetpixelfile.html?highlight=targetpixelfil) object, we can plot the periodogram using the [plot()](https://docs.lightkurve.org/reference/api/lightkurve.periodogram.Periodogram.plot.html?highlight=plot#lightkurve.periodogram.Periodogram.plot) function."
   ]
  },
  {
   "cell_type": "code",
   "execution_count": null,
   "metadata": {
    "colab": {
     "base_uri": "https://localhost:8080/",
     "height": 401
    },
    "colab_type": "code",
    "executionInfo": {
     "elapsed": 946,
     "status": "ok",
     "timestamp": 1599617803437,
     "user": {
      "displayName": "Geert Barentsen",
      "photoUrl": "https://lh3.googleusercontent.com/a-/AOh14Gj8sjdnDeqdejfe7OoouYPIclAQV0KSTpsU469Jyeo=s64",
      "userId": "05704237875861987058"
     },
     "user_tz": 420
    },
    "id": "pdsrapNlgRV8",
    "outputId": "42711fb7-cceb-4c62-e6d2-ce8b0f08f32e"
   },
   "outputs": [],
   "source": [
    "pg.plot();"
   ]
  },
  {
   "cell_type": "markdown",
   "metadata": {
    "colab_type": "text",
    "id": "VAYBCOW2b8G8"
   },
   "source": [
    "While at first glance it may look like there are lots of different signals, the repeating, evenly spaced peaks in this instance are likely *alias harmonics* of the true oscillation frequency. Harmonics are integer multiples of the oscillation frequency. They occur when a light curve is finite in duration or contains gaps, in which case it is common for a DFT to identify integer multiples as additional candidate signals. For example, an eclipse with a period of 10 days can easily be mistaken for an eclipse with a period of 20 days, in particular when the data contains gaps near the transit times. The [Vanderplas (2017)](https://arxiv.org/pdf/1703.09824.pdf) paper provides a detailed explanation of this phenomenon.\n",
    "\n",
    "Repeating harmonic peaks and aliasing is a common issue in frequency-domain analysis, particularly when the time-domain signal isn't exactly shaped like a sine wave, as is the case here.  All of the harmonic peaks are of the same origin — the period of the star — but only one of them represents the truth. In what follows below, we will demonstrate a trial and error method to identify the true peak."
   ]
  },
  {
   "cell_type": "markdown",
   "metadata": {
    "colab_type": "text",
    "id": "GxkBR8-u9BMi"
   },
   "source": [
    "**Note**: As we will see below, the frequencies on display here correspond to the short period (high frequency) \"spikes\" we identified in the time domain. The long period (low frequency) oscillation we identified is at much lower frequencies. We can see this more clearly if we plot the x-axis in log space."
   ]
  },
  {
   "cell_type": "code",
   "execution_count": null,
   "metadata": {
    "colab": {
     "base_uri": "https://localhost:8080/",
     "height": 404
    },
    "colab_type": "code",
    "executionInfo": {
     "elapsed": 1300,
     "status": "ok",
     "timestamp": 1599618114448,
     "user": {
      "displayName": "Geert Barentsen",
      "photoUrl": "https://lh3.googleusercontent.com/a-/AOh14Gj8sjdnDeqdejfe7OoouYPIclAQV0KSTpsU469Jyeo=s64",
      "userId": "05704237875861987058"
     },
     "user_tz": 420
    },
    "id": "BKZQJQIU8_3F",
    "outputId": "56041e64-7fb3-4263-b84b-51bd44eccead"
   },
   "outputs": [],
   "source": [
    "pg.plot(scale='log');"
   ]
  },
  {
   "cell_type": "markdown",
   "metadata": {
    "colab_type": "text",
    "id": "B8lLLdNT-MH6"
   },
   "source": [
    "The low-frequency peak can be seen around $0.09$ cycles per day."
   ]
  },
  {
   "cell_type": "markdown",
   "metadata": {
    "colab_type": "text",
    "id": "xnTYmB3m8D9A"
   },
   "source": [
    "## 3. Using a *Kepler* Periodogram to Identify a Significant Period"
   ]
  },
  {
   "cell_type": "markdown",
   "metadata": {
    "colab_type": "text",
    "id": "2LXNoLWa_Y_J"
   },
   "source": [
    "We now have a decent grasp on how the periodogram represents the repeating signals in the light curve of our eclipsing binary target. If we wanted to measure what the binary pair's orbital period is, our first port of call would be to look at the period of the highest peak. A [Periodogram](https://docs.lightkurve.org/reference/api/lightkurve.periodogram.Periodogram.html?highlight=periodogram#lightkurve.periodogram.Periodogram) object will store a number of details about the periodogram, which can be accessed through the [show_properties()](https://docs.lightkurve.org/reference/api/lightkurve.periodogram.Periodogram.show_properties.html?highlight=show_properties) method."
   ]
  },
  {
   "cell_type": "code",
   "execution_count": null,
   "metadata": {
    "colab": {
     "base_uri": "https://localhost:8080/",
     "height": 289
    },
    "colab_type": "code",
    "executionInfo": {
     "elapsed": 450,
     "status": "ok",
     "timestamp": 1599618170163,
     "user": {
      "displayName": "Geert Barentsen",
      "photoUrl": "https://lh3.googleusercontent.com/a-/AOh14Gj8sjdnDeqdejfe7OoouYPIclAQV0KSTpsU469Jyeo=s64",
      "userId": "05704237875861987058"
     },
     "user_tz": 420
    },
    "id": "IbCMZxCS_ZGL",
    "outputId": "948968bc-5f86-46c2-958d-67ad3c140a02"
   },
   "outputs": [],
   "source": [
    "pg.show_properties()"
   ]
  },
  {
   "cell_type": "markdown",
   "metadata": {
    "colab_type": "text",
    "id": "J11pLEa2_ZMT"
   },
   "source": [
    "Besides the `frequency` and `power` arrays we've seen plotted, there's also some other important information here. The `period` array is the inverse of the `frequency` array and the `ls_method` specifies the [Astropy Lomb-Scargle](https://docs.astropy.org/en/stable/timeseries/lombscargle.html) method used ([see more on periodogram algorithms here](https://docs.astropy.org/en/stable/timeseries/lombscargle.html#periodogram-algorithms)). The `nyquist` parameter is maximum oscillation frequency that can be reliably determined from a time series signal. It is defined as $\\nu_{\\rm nyq} = \\frac{1}{2\\Delta t}$ where $\\Delta t$ is the observing cadence, and its use will be explored in the companion tutorials.\n",
    "\n",
    "The information we're particularly interested in here is the [period_at_max_power](https://docs.lightkurve.org/reference/api/lightkurve.periodogram.Periodogram.period_at_max_power.html?highlight=period_at_max_power), which is the period corresponding to the highest peak. Let's extract this value, and then use the [fold()](https://docs.lightkurve.org/reference/api/lightkurve.LightCurve.fold.html?highlight=fold) function to see if it causes the eclipsing binary transits to align."
   ]
  },
  {
   "cell_type": "code",
   "execution_count": null,
   "metadata": {
    "colab": {
     "base_uri": "https://localhost:8080/",
     "height": 37
    },
    "colab_type": "code",
    "executionInfo": {
     "elapsed": 485,
     "status": "ok",
     "timestamp": 1599618274115,
     "user": {
      "displayName": "Geert Barentsen",
      "photoUrl": "https://lh3.googleusercontent.com/a-/AOh14Gj8sjdnDeqdejfe7OoouYPIclAQV0KSTpsU469Jyeo=s64",
      "userId": "05704237875861987058"
     },
     "user_tz": 420
    },
    "id": "yvuGBrm0_ZS9",
    "outputId": "e7c2b71d-5345-4c72-906c-87bdbc2f0d06"
   },
   "outputs": [],
   "source": [
    "period = pg.period_at_max_power\n",
    "period"
   ]
  },
  {
   "cell_type": "code",
   "execution_count": null,
   "metadata": {
    "colab": {
     "base_uri": "https://localhost:8080/",
     "height": 387
    },
    "colab_type": "code",
    "executionInfo": {
     "elapsed": 1355,
     "status": "ok",
     "timestamp": 1599618279765,
     "user": {
      "displayName": "Geert Barentsen",
      "photoUrl": "https://lh3.googleusercontent.com/a-/AOh14Gj8sjdnDeqdejfe7OoouYPIclAQV0KSTpsU469Jyeo=s64",
      "userId": "05704237875861987058"
     },
     "user_tz": 420
    },
    "id": "QqqUWgbE_ZaK",
    "outputId": "acde41ef-9190-4686-c44b-51f5ee7f1beb"
   },
   "outputs": [],
   "source": [
    "lc.fold(period).scatter(label=f'Period = {period.value:.3f} d');"
   ]
  },
  {
   "cell_type": "markdown",
   "metadata": {
    "colab_type": "text",
    "id": "4jMtNuOB_ZiN"
   },
   "source": [
    "This doesn't look quite right — it seems like there are two transits of different depths overlapping. The largest peak in the spectrum must be a harmonic of the true period. In fact, what seems to be happening here is that both transits are being interpreted as resulting from the same signal, when in reality the two transits will have slightly different depths and shapes.\n",
    "\n",
    "Let's try this again, but at double the period value we just measured instead."
   ]
  },
  {
   "cell_type": "code",
   "execution_count": null,
   "metadata": {
    "colab": {
     "base_uri": "https://localhost:8080/",
     "height": 387
    },
    "colab_type": "code",
    "executionInfo": {
     "elapsed": 1130,
     "status": "ok",
     "timestamp": 1599618393438,
     "user": {
      "displayName": "Geert Barentsen",
      "photoUrl": "https://lh3.googleusercontent.com/a-/AOh14Gj8sjdnDeqdejfe7OoouYPIclAQV0KSTpsU469Jyeo=s64",
      "userId": "05704237875861987058"
     },
     "user_tz": 420
    },
    "id": "4YjA5Y_sjKWS",
    "outputId": "6f85f727-e416-43f0-e1b4-db6f9a3fdd3b"
   },
   "outputs": [],
   "source": [
    "lc.fold(2*period).scatter(label=fr'Period = {2*period.value:.5f} d');"
   ]
  },
  {
   "cell_type": "markdown",
   "metadata": {
    "colab_type": "text",
    "id": "YWReUlLGjf1J"
   },
   "source": [
    "This looks much more sensible! We can see that the two different transits have separated out, and that their differences are clearly visible.\n",
    "\n",
    "While the precision on the period still has something left to be desired (as there is still a lot of scatter around the transits), it would be fair to say this eclipsing binary pair has an orbital period of roughly one day."
   ]
  },
  {
   "cell_type": "markdown",
   "metadata": {
    "colab_type": "text",
    "id": "Iqr53NKTkJJ1"
   },
   "source": [
    "## Exercises\n",
    "\n",
    "Finding the period of this eclipsing binary is all good and well, but it's not yet very precise, as the [fold()](https://docs.lightkurve.org/reference/api/lightkurve.LightCurve.fold.html?highlight=fold) plot indicates. Using keyword arguments of the [to_periodogram()](https://docs.lightkurve.org/reference/api/lightkurve.LightCurve.to_periodogram.html?highlight=to_periodogram) function, we can improve this estimate. Try one or both of the following:\n",
    "- Use the `minimum_period` and `maximum_period` arguments to limit the range of the periodogram to the area around the peak we are interested in.\n",
    "- Increase the `oversample_factor` argument from the default value of 1, which increases the resolution of the periodogram (this is at the expense of correlating the power values, but that is not a problem for the type of analysis we're doing here).\n",
    "\n",
    "Tip: you can plot a periodogram in power-period space by using `plot(view='period')`."
   ]
  },
  {
   "cell_type": "code",
   "execution_count": null,
   "metadata": {
    "colab": {},
    "colab_type": "code",
    "id": "fn2LT0AQ_ixd"
   },
   "outputs": [],
   "source": [
    "#pg = lc.to_periodogram(minimum_period = ..., \n",
    "#                       maximum_period = ...,\n",
    "#                       oversample_factor = ...)"
   ]
  },
  {
   "cell_type": "code",
   "execution_count": null,
   "metadata": {
    "colab": {
     "base_uri": "https://localhost:8080/",
     "height": 390
    },
    "colab_type": "code",
    "executionInfo": {
     "elapsed": 1033,
     "status": "ok",
     "timestamp": 1599618435642,
     "user": {
      "displayName": "Geert Barentsen",
      "photoUrl": "https://lh3.googleusercontent.com/a-/AOh14Gj8sjdnDeqdejfe7OoouYPIclAQV0KSTpsU469Jyeo=s64",
      "userId": "05704237875861987058"
     },
     "user_tz": 420
    },
    "id": "SgUg_PHQlyhI",
    "outputId": "b766630f-ea61-40d8-afff-9b99a0355d5f"
   },
   "outputs": [],
   "source": [
    "#Solution:\n",
    "pg = lc.to_periodogram(minimum_period = 1.02, \n",
    "                      maximum_period = 1.05,\n",
    "                      oversample_factor=100)\n",
    "pg.plot(view='period');"
   ]
  },
  {
   "cell_type": "code",
   "execution_count": null,
   "metadata": {
    "colab": {
     "base_uri": "https://localhost:8080/",
     "height": 387
    },
    "colab_type": "code",
    "executionInfo": {
     "elapsed": 1053,
     "status": "ok",
     "timestamp": 1599618444089,
     "user": {
      "displayName": "Geert Barentsen",
      "photoUrl": "https://lh3.googleusercontent.com/a-/AOh14Gj8sjdnDeqdejfe7OoouYPIclAQV0KSTpsU469Jyeo=s64",
      "userId": "05704237875861987058"
     },
     "user_tz": 420
    },
    "id": "AOHw5CcilyoN",
    "outputId": "01058576-5e76-4d93-cd65-8d7cdde2570b"
   },
   "outputs": [],
   "source": [
    "new_period = pg.period_at_max_power\n",
    "lc.fold(new_period).scatter(label=rf'Period = {new_period.value:.5f} d');"
   ]
  },
  {
   "cell_type": "markdown",
   "metadata": {
    "colab_type": "text",
    "id": "JMrH7qyC9G8x"
   },
   "source": [
    "## About this Notebook\n",
    "\n",
    "**Authors**: Oliver Hall (oliver.hall@esa.int), Geert Barentsen\n",
    "\n",
    "**Updated On**: 2020-09-15"
   ]
  },
  {
   "cell_type": "markdown",
   "metadata": {
    "colab_type": "text",
    "id": "AQknrSCV9PuY"
   },
   "source": [
    "## Citing Lightkurve and Astropy\n",
    "\n",
    "If you use `lightkurve` or `astropy` for published research, please cite the authors. Click the buttons below to copy BibTeX entries to your clipboard."
   ]
  },
  {
   "cell_type": "code",
   "execution_count": null,
   "metadata": {
    "colab": {
     "base_uri": "https://localhost:8080/",
     "height": 85
    },
    "colab_type": "code",
    "executionInfo": {
     "elapsed": 29228,
     "status": "ok",
     "timestamp": 1597998185976,
     "user": {
      "displayName": "Oliver Hall",
      "photoUrl": "",
      "userId": "08831861496876617563"
     },
     "user_tz": -120
    },
    "id": "AmAGa51_9Vyo",
    "outputId": "31cc61c5-ac3e-40c3-9aa8-2bb620dbe40f"
   },
   "outputs": [],
   "source": [
    "lk.show_citation_instructions()"
   ]
  },
  {
   "cell_type": "markdown",
   "metadata": {
    "colab_type": "text",
    "id": "OOnhHhZR9bXo"
   },
   "source": [
    "<img style=\"float: right;\" src=\"https://raw.githubusercontent.com/spacetelescope/notebooks/master/assets/stsci_pri_combo_mark_horizonal_white_bkgd.png\" alt=\"Space Telescope Logo\" width=\"200px\"/>\n"
   ]
  }
 ],
 "metadata": {
  "colab": {
   "collapsed_sections": [],
   "name": "How-to-create-periodograms-and-identify-significant-peaks.ipynb",
   "provenance": []
  },
  "kernelspec": {
   "display_name": "Python 3",
   "language": "python",
   "name": "python3"
  },
  "language_info": {
   "codemirror_mode": {
    "name": "ipython",
    "version": 3
   },
   "file_extension": ".py",
   "mimetype": "text/x-python",
   "name": "python",
   "nbconvert_exporter": "python",
   "pygments_lexer": "ipython3",
   "version": "3.6.10"
  }
 },
 "nbformat": 4,
 "nbformat_minor": 4
}
