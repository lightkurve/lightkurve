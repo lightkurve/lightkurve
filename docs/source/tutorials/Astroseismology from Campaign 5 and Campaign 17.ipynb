{
 "cells": [
  {
   "cell_type": "code",
   "execution_count": 1,
   "metadata": {},
   "outputs": [],
   "source": [
    "from lightkurve import KeplerLightCurveFile, LightCurve, KeplerTargetPixelFile\n",
    "import matplotlib.pyplot as plt\n",
    "import numpy as np\n",
    "import pandas as pd\n",
    "from astroquery.vizier import Vizier\n",
    "import astropy.units as u\n",
    "from astropy.stats import LombScargle\n",
    "from astropy.convolution import Box2DKernel, convolve\n",
    "from copy import deepcopy"
   ]
  },
  {
   "cell_type": "code",
   "execution_count": null,
   "metadata": {},
   "outputs": [],
   "source": [
    "ID = 211416749"
   ]
  },
  {
   "cell_type": "code",
   "execution_count": null,
   "metadata": {},
   "outputs": [
    {
     "name": "stderr",
     "output_type": "stream",
     "text": [
      "/Users/JZ/anaconda3/lib/python3.6/site-packages/numpy/lib/nanfunctions.py:907: RuntimeWarning: All-NaN slice encountered\n",
      "  result = np.apply_along_axis(_nanmedian1d, axis, a, overwrite_input)\n",
      "/Users/JZ/anaconda3/lib/python3.6/site-packages/ipykernel_launcher.py:2: RuntimeWarning: invalid value encountered in greater\n",
      "  \n",
      " 15%|█▌        | 3/20 [00:02<00:16,  1.01it/s]"
     ]
    }
   ],
   "source": [
    "tpf = KeplerTargetPixelFile.from_archive(ID, campaign=5, cadence='short', quality_bitmask='hardest')\n",
    "aper = np.nanmedian(tpf.flux, axis=0) > np.nanpercentile(np.nanmedian(tpf.flux, axis=0), 70)\n",
    "tpf.plot(aperture_mask=aper)\n",
    "lc1 = tpf.to_lightcurve().normalize().remove_nans().remove_outliers().correct(windows=20).remove_outliers()\n"
   ]
  },
  {
   "cell_type": "code",
   "execution_count": null,
   "metadata": {},
   "outputs": [],
   "source": [
    "lc1 = lc1.fill_nans()"
   ]
  },
  {
   "cell_type": "code",
   "execution_count": null,
   "metadata": {},
   "outputs": [],
   "source": [
    "# The first ~3800 cadences have a large gap, it breaks our SFF detrender. Let's get rid of them.\n",
    "tpf = KeplerTargetPixelFile.from_archive(ID, campaign=16, cadence='short', quality_bitmask='hardest')\n",
    "aper = np.nanmedian(tpf.flux, axis=0) > np.nanpercentile(np.nanmedian(tpf.flux, axis=0), 70)\n",
    "tpf.plot(aperture_mask=aper)\n",
    "lc2 = tpf.to_lightcurve('all')[3800:].normalize().remove_nans().remove_outliers().correct(windows=20).remove_outliers()\n",
    "lc2 = lc2.fill_nans()"
   ]
  },
  {
   "cell_type": "code",
   "execution_count": null,
   "metadata": {},
   "outputs": [],
   "source": [
    "%reload_ext autoreload\n",
    "%autoreload 2\n",
    "\n",
    "from lightkurve.periodogram import Periodogram\n",
    "\n",
    "pd1 = Periodogram.from_lightcurve(lc1)\n",
    "pd2 = Periodogram.from_lightcurve(lc2)"
   ]
  },
  {
   "cell_type": "code",
   "execution_count": null,
   "metadata": {},
   "outputs": [],
   "source": [
    "ax = pd1.plot()\n",
    "ax.set_xlim(100, 400)\n",
    "ax.set_ylim(0, 60)\n",
    "pd2.plot(ax=ax)"
   ]
  },
  {
   "cell_type": "code",
   "execution_count": null,
   "metadata": {},
   "outputs": [],
   "source": []
  },
  {
   "cell_type": "code",
   "execution_count": null,
   "metadata": {},
   "outputs": [],
   "source": [
    "ax3  = lc1.periodogram().plot()\n",
    "ax3.set_xlim(100, 400)\n",
    "ax3.set_ylim(0, 60)"
   ]
  },
  {
   "cell_type": "code",
   "execution_count": null,
   "metadata": {},
   "outputs": [],
   "source": [
    "pd1.normalized_plot()"
   ]
  },
  {
   "cell_type": "code",
   "execution_count": null,
   "metadata": {},
   "outputs": [],
   "source": []
  },
  {
   "cell_type": "code",
   "execution_count": null,
   "metadata": {},
   "outputs": [],
   "source": []
  },
  {
   "cell_type": "code",
   "execution_count": null,
   "metadata": {},
   "outputs": [],
   "source": []
  },
  {
   "cell_type": "code",
   "execution_count": null,
   "metadata": {},
   "outputs": [],
   "source": []
  }
 ],
 "metadata": {
  "kernelspec": {
   "display_name": "Python 3",
   "language": "python",
   "name": "python3"
  },
  "language_info": {
   "codemirror_mode": {
    "name": "ipython",
    "version": 3
   },
   "file_extension": ".py",
   "mimetype": "text/x-python",
   "name": "python",
   "nbconvert_exporter": "python",
   "pygments_lexer": "ipython3",
   "version": "3.6.4"
  }
 },
 "nbformat": 4,
 "nbformat_minor": 2
}
