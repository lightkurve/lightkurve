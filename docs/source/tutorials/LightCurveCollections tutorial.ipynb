{
 "cells": [
  {
   "cell_type": "markdown",
   "metadata": {},
   "source": [
    "# How to combine lightcurves from different Kepler quarters using LightCurveCollections!"
   ]
  },
  {
   "cell_type": "markdown",
   "metadata": {},
   "source": [
    "Lets create a few different lightcurves, all from unique stars in Kepler data.(*Note: We'll use the jupyter notebook magic command `%%capture` to supress the output for the cell so that it doesn't print a long download message*)"
   ]
  },
  {
   "cell_type": "code",
   "execution_count": 1,
   "metadata": {},
   "outputs": [],
   "source": [
    "from lightkurve import (KeplerLightCurveFile, LightCurveCollection)\n",
    "target_1 = 'Kepler-8b'\n",
    "target_2 = 'Kepler-10b'\n",
    "target_3 = 'Kepler-16b'\n",
    "target_4 = 'Kepler-19'"
   ]
  },
  {
   "cell_type": "code",
   "execution_count": 2,
   "metadata": {},
   "outputs": [],
   "source": [
    "%%capture\n",
    "lc_1 = KeplerLightCurveFile.from_archive(target_1, quarter=1).PDCSAP_FLUX\n",
    "lc_2 = KeplerLightCurveFile.from_archive(target_2, quarter=3).PDCSAP_FLUX\n",
    "lc_3 = KeplerLightCurveFile.from_archive(target_3, quarter=7).PDCSAP_FLUX"
   ]
  },
  {
   "cell_type": "markdown",
   "metadata": {},
   "source": [
    "Above we have created multiple `KeplerLightCurve` objects from the first, third, and seventh quarters of the data, choosing to use the PDCSAP_FLUX. We can now collect all of these lightcurves into a single LightCurveCollection object."
   ]
  },
  {
   "cell_type": "code",
   "execution_count": 3,
   "metadata": {},
   "outputs": [],
   "source": [
    "lc_sequence = (lc_1,lc_2,lc_3)\n",
    "lc_collection = LightCurveCollection(lc_sequence)"
   ]
  },
  {
   "cell_type": "markdown",
   "metadata": {},
   "source": [
    "To initialize our Collection object, we need to give it an array/tuple/etc. that we can parse through."
   ]
  },
  {
   "cell_type": "markdown",
   "metadata": {
    "collapsed": true
   },
   "source": [
    "Now we can do all kinds of fun stuff like plot multiple lightcurves on one figure"
   ]
  },
  {
   "cell_type": "code",
   "execution_count": 4,
   "metadata": {},
   "outputs": [
    {
     "data": {
      "text/plain": [
       "<matplotlib.axes._subplots.AxesSubplot at 0x1c1d279b70>"
      ]
     },
     "execution_count": 4,
     "metadata": {},
     "output_type": "execute_result"
    },
    {
     "data": {
      "image/png": "[encoded data removed]",
      "text/plain": [
       "<matplotlib.figure.Figure at 0x1100ca860>"
      ]
     },
     "metadata": {},
     "output_type": "display_data"
    }
   ],
   "source": [
    "lc_collection.plot()"
   ]
  },
  {
   "cell_type": "markdown",
   "metadata": {},
   "source": [
    "If we want to add another LightCurve to our collection, we can easily append it like so:"
   ]
  },
  {
   "cell_type": "code",
   "execution_count": 9,
   "metadata": {},
   "outputs": [],
   "source": [
    "lc_4 = KeplerLightCurveFile.from_archive('Kepler-19', quarter=3).PDCSAP_FLUX\n",
    "\n",
    "lc_collection.append(lc_4)"
   ]
  },
  {
   "cell_type": "markdown",
   "metadata": {},
   "source": [
    "We can view all of the targets in our collection via the _ids() method like so: This will return the keplerid associated with each LC."
   ]
  },
  {
   "cell_type": "code",
   "execution_count": 10,
   "metadata": {},
   "outputs": [
    {
     "data": {
      "text/plain": [
       "dict_keys([6922244, 11904151, 12644769, 2571238])"
      ]
     },
     "execution_count": 10,
     "metadata": {},
     "output_type": "execute_result"
    }
   ],
   "source": [
    "lc_collection._ids()"
   ]
  }
 ],
 "metadata": {
  "kernelspec": {
   "display_name": "Python 3",
   "language": "python",
   "name": "python3"
  },
  "language_info": {
   "codemirror_mode": {
    "name": "ipython",
    "version": 3
   },
   "file_extension": ".py",
   "mimetype": "text/x-python",
   "name": "python",
   "nbconvert_exporter": "python",
   "pygments_lexer": "ipython3",
   "version": "3.6.4"
  }
 },
 "nbformat": 4,
 "nbformat_minor": 2
}
