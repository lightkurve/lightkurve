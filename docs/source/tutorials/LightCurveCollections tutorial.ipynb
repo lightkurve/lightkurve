{
 "cells": [
  {
   "cell_type": "markdown",
   "metadata": {},
   "source": [
    "# How to combine lightcurves from different Kepler quarters using LightCurveCollections!"
   ]
  },
  {
   "cell_type": "markdown",
   "metadata": {},
   "source": [
    "Lets create a few different lightcurves, all from unique stars in Kepler data.(*Note: We'll use the jupyter notebook magic command `%%capture` to supress the output for the cell so that it doesn't print a long download message*)"
   ]
  },
  {
   "cell_type": "code",
   "execution_count": 1,
   "metadata": {},
   "outputs": [
    {
     "ename": "ImportError",
     "evalue": "cannot import name 'LightCurveCollection'",
     "output_type": "error",
     "traceback": [
      "\u001b[0;31m---------------------------------------------------------------------------\u001b[0m",
      "\u001b[0;31mImportError\u001b[0m                               Traceback (most recent call last)",
      "\u001b[0;32m<ipython-input-1-3280f85d355d>\u001b[0m in \u001b[0;36m<module>\u001b[0;34m()\u001b[0m\n\u001b[0;32m----> 1\u001b[0;31m \u001b[0;32mfrom\u001b[0m \u001b[0mlightkurve\u001b[0m \u001b[0;32mimport\u001b[0m \u001b[0;34m(\u001b[0m\u001b[0mKeplerLightCurveFile\u001b[0m\u001b[0;34m,\u001b[0m \u001b[0mLightCurveCollection\u001b[0m\u001b[0;34m)\u001b[0m\u001b[0;34m\u001b[0m\u001b[0m\n\u001b[0m\u001b[1;32m      2\u001b[0m \u001b[0mtarget_1\u001b[0m \u001b[0;34m=\u001b[0m \u001b[0;34m'Kepler-8b'\u001b[0m\u001b[0;34m\u001b[0m\u001b[0m\n\u001b[1;32m      3\u001b[0m \u001b[0mtarget_2\u001b[0m \u001b[0;34m=\u001b[0m \u001b[0;34m'Kepler-10b'\u001b[0m\u001b[0;34m\u001b[0m\u001b[0m\n\u001b[1;32m      4\u001b[0m \u001b[0mtarget_3\u001b[0m \u001b[0;34m=\u001b[0m \u001b[0;34m'Kepler-16b'\u001b[0m\u001b[0;34m\u001b[0m\u001b[0m\n",
      "\u001b[0;31mImportError\u001b[0m: cannot import name 'LightCurveCollection'"
     ]
    }
   ],
   "source": [
    "from lightkurve import (KeplerLightCurveFile, LightCurveCollection)\n",
    "target_1 = 'Kepler-8b'\n",
    "target_2 = 'Kepler-10b'\n",
    "target_3 = 'Kepler-16b'"
   ]
  },
  {
   "cell_type": "code",
   "execution_count": 2,
   "metadata": {
    "collapsed": true
   },
   "outputs": [],
   "source": [
    "%%capture\n",
    "lc_1 = KeplerLightCurveFile.from_archive(target_1, quarter=1).PDCSAP_FLUX\n",
    "lc_2 = KeplerLightCurveFile.from_archive(target_2, quarter=3).PDCSAP_FLUX\n",
    "lc_3 = KeplerLightCurveFile.from_archive(target_3, quarter=7).PDCSAP_FLUX"
   ]
  },
  {
   "cell_type": "markdown",
   "metadata": {},
   "source": [
    "Above we have created multiple `KeplerLightCurve` objects from the first, third, and seventh quarters of the data, choosing to use the PDCSAP_FLUX. We can now collect all of these lightcurves into a single LightCurveCollection object."
   ]
  },
  {
   "cell_type": "code",
   "execution_count": null,
   "metadata": {},
   "outputs": [],
   "source": [
    "lc_sequence = (lc_1,lc_2,lc_3)\n",
    "lc_collection = LightCurveCollection(lc_sequence)"
   ]
  },
  {
   "cell_type": "markdown",
   "metadata": {},
   "source": [
    "To initialize our Collection object, we need to give it an array/tuple/etc. that we can parse through."
   ]
  },
  {
   "cell_type": "markdown",
   "metadata": {
    "collapsed": true
   },
   "source": [
    "Now we can do all kinds of fun stuff like plot multiple lightcurves on one figure"
   ]
  },
  {
   "cell_type": "code",
   "execution_count": null,
   "metadata": {},
   "outputs": [],
   "source": [
    "lc_collection.plot()"
   ]
  },
  {
   "cell_type": "markdown",
   "metadata": {},
   "source": [
    "We can also generate all the "
   ]
  }
 ],
 "metadata": {
  "kernelspec": {
   "display_name": "Python 3",
   "language": "python",
   "name": "python3"
  },
  "language_info": {
   "codemirror_mode": {
    "name": "ipython",
    "version": 3
   },
   "file_extension": ".py",
   "mimetype": "text/x-python",
   "name": "python",
   "nbconvert_exporter": "python",
   "pygments_lexer": "ipython3",
   "version": "3.6.4"
  }
 },
 "nbformat": 4,
 "nbformat_minor": 2
}
