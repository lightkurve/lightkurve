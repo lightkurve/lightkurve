{
 "cells": [
  {
   "cell_type": "markdown",
   "metadata": {},
   "source": [
    "# How does the SFF method work?"
   ]
  },
  {
   "cell_type": "markdown",
   "metadata": {},
   "source": [
    "Vanderburg and Johnson (2014) introduced a method for \"Self Flat Fielding\" by tracking how the lightcurve changes with motion of the spacecraft:\n",
    "\n",
    "[A Technique for Extracting Highly Precise Photometry for the Two-Wheeled Kepler Mission](http://adsabs.harvard.edu/abs/2014PASP..126..948V)\n",
    "\n",
    "In this notebook we replicate the K2SFF method following the same example source, #60021426, as that in the publication.  We aim to demystify the technique, which is extremely popular within the K2 community.  We have focused on reproducibility, so that we achieve the same result at the publication.\n",
    "\n",
    "The Vanderburg & Johnson 2014 paper uses data from the Kepler two-wheel \"Concept Engineering Test\", predating campaign 0, and sometimes called campaign *\"eng\"* or abbreviated CET.  This vestigal \"campaign\" lacks some of the standardization of later K2 campaigns--- it was much shorter, only about 9 days long, it lacks some of the standard quality flags, targets have non-traditional EPIC IDs, and other quirks."
   ]
  },
  {
   "cell_type": "code",
   "execution_count": 1,
   "metadata": {
    "collapsed": true
   },
   "outputs": [],
   "source": [
    "%matplotlib inline\n",
    "import numpy as np\n",
    "import matplotlib.pyplot as plt\n",
    "from astropy.io import fits\n",
    "import pandas as pd"
   ]
  },
  {
   "cell_type": "markdown",
   "metadata": {},
   "source": [
    "## Retrieve the K2SFF data for ENG test source `60021426`"
   ]
  },
  {
   "cell_type": "markdown",
   "metadata": {},
   "source": [
    "First we will retrieve data and inspect the mask used in the paper."
   ]
  },
  {
   "cell_type": "code",
   "execution_count": 2,
   "metadata": {
    "collapsed": true
   },
   "outputs": [],
   "source": [
    "#! wget -q http://archive.stsci.edu/hlsps/k2sff/cet/060000000/21426/hlsp_k2sff_k2_lightcurve_060021426-cet_kepler_v1_llc.fits"
   ]
  },
  {
   "cell_type": "code",
   "execution_count": 3,
   "metadata": {
    "collapsed": true
   },
   "outputs": [],
   "source": [
    "vdb_fits = fits.open('hlsp_k2sff_k2_lightcurve_060021426-cet_kepler_v1_llc.fits')"
   ]
  },
  {
   "cell_type": "markdown",
   "metadata": {},
   "source": [
    "The `BESTAPER` keyword explains which aperture was chosen as the \"best\" by Vanderburg & Johnson 2014.  The FITS header for that slice contains the metadata needed to reproduce the mask."
   ]
  },
  {
   "cell_type": "code",
   "execution_count": 4,
   "metadata": {},
   "outputs": [
    {
     "name": "stdout",
     "output_type": "stream",
     "text": [
      "MASKTYPE  :  PRF FIT\n",
      "MASKINDE  :  4\n",
      "NPIXSAP  :  29.0\n"
     ]
    }
   ],
   "source": [
    "keys = ['MASKTYPE', 'MASKINDE', 'NPIXSAP']\n",
    "_ = [print(key, ' : ', vdb_fits['BESTAPER'].header[key]) for key in keys]"
   ]
  },
  {
   "cell_type": "markdown",
   "metadata": {},
   "source": [
    "We want the *exact same* mask as Vanderburg & Johnson 2014, but the publication version and MAST version differ!\n",
    "\n",
    "Publication version:\n",
    "![img](https://www.cfa.harvard.edu/~avanderb/k2/ep60021426image.png)"
   ]
  },
  {
   "cell_type": "markdown",
   "metadata": {},
   "source": [
    "MAST Version:\n",
    "![MAST Version](http://archive.stsci.edu/hlsps/k2sff/cet/060000000/21426/hlsp_k2sff_k2_lightcurve_060021426-cet_kepler_v1_image.png)"
   ]
  },
  {
   "cell_type": "markdown",
   "metadata": {},
   "source": [
    "Aperture 7 should yield a bigger mask, more similar to what was used in the paper."
   ]
  },
  {
   "cell_type": "code",
   "execution_count": 5,
   "metadata": {},
   "outputs": [
    {
     "data": {
      "text/plain": [
       "53"
      ]
     },
     "execution_count": 5,
     "metadata": {},
     "output_type": "execute_result"
    }
   ],
   "source": [
    "VDB_J_mask = vdb_fits['PRF_APER_TBL'].data[7,:, :] == True\n",
    "VDB_J_mask.sum()"
   ]
  },
  {
   "cell_type": "markdown",
   "metadata": {},
   "source": [
    "Save the mask for easy use in our next notebook."
   ]
  },
  {
   "cell_type": "code",
   "execution_count": 6,
   "metadata": {
    "collapsed": true
   },
   "outputs": [],
   "source": [
    "np.save('VDB_J_2014_mask.npy', VDB_J_mask)"
   ]
  },
  {
   "cell_type": "markdown",
   "metadata": {},
   "source": [
    "## Manually reproduce with the Vanderburg-provided diagnostic data\n",
    "Retrieve the Vanderburg-provided diagnostic data for the Kepler ENG testing.  \n",
    "Uncomment the line below to retrieve the data programmatically, or manually get the linked file in a browser and save it to this directory."
   ]
  },
  {
   "cell_type": "code",
   "execution_count": 7,
   "metadata": {},
   "outputs": [
    {
     "name": "stdout",
     "output_type": "stream",
     "text": [
      "--2018-05-22 14:24:12--  https://www.cfa.harvard.edu/~avanderb/k2/ep60021426alldiagnostics.csv\n",
      "Resolving www.cfa.harvard.edu (www.cfa.harvard.edu)... 131.142.21.11\n",
      "Connecting to www.cfa.harvard.edu (www.cfa.harvard.edu)|131.142.21.11|:443... connected.\n",
      "HTTP request sent, awaiting response... 200 OK\n",
      "Length: 33564 (33K) [text/plain]\n",
      "Saving to: ‘ep60021426alldiagnostics.csv.1’\n",
      "\n",
      "ep60021426alldiagno 100%[===================>]  32.78K   153KB/s    in 0.2s    \n",
      "\n",
      "2018-05-22 14:24:13 (153 KB/s) - ‘ep60021426alldiagnostics.csv.1’ saved [33564/33564]\n",
      "\n"
     ]
    }
   ],
   "source": [
    "#! wget https://www.cfa.harvard.edu/~avanderb/k2/ep60021426alldiagnostics.csv"
   ]
  },
  {
   "cell_type": "code",
   "execution_count": 8,
   "metadata": {},
   "outputs": [
    {
     "data": {
      "text/html": [
       "<div>\n",
       "<style>\n",
       "    .dataframe thead tr:only-child th {\n",
       "        text-align: right;\n",
       "    }\n",
       "\n",
       "    .dataframe thead th {\n",
       "        text-align: left;\n",
       "    }\n",
       "\n",
       "    .dataframe tbody tr th {\n",
       "        vertical-align: top;\n",
       "    }\n",
       "</style>\n",
       "<table border=\"1\" class=\"dataframe\">\n",
       "  <thead>\n",
       "    <tr style=\"text-align: right;\">\n",
       "      <th></th>\n",
       "      <th>BJD - 2454833</th>\n",
       "      <th>Raw Flux</th>\n",
       "      <th>Corrected Flux</th>\n",
       "      <th>X-centroid</th>\n",
       "      <th>Y-centroid</th>\n",
       "      <th>arclength</th>\n",
       "      <th>Correction</th>\n",
       "      <th>Thrusters On</th>\n",
       "    </tr>\n",
       "  </thead>\n",
       "  <tbody>\n",
       "    <tr>\n",
       "      <th>0</th>\n",
       "      <td>1862.502368</td>\n",
       "      <td>0.995119</td>\n",
       "      <td>0.995985</td>\n",
       "      <td>25.135097</td>\n",
       "      <td>24.661074</td>\n",
       "      <td>2.327480</td>\n",
       "      <td>0.999130</td>\n",
       "      <td>1.0</td>\n",
       "    </tr>\n",
       "    <tr>\n",
       "      <th>1</th>\n",
       "      <td>1862.522801</td>\n",
       "      <td>0.997313</td>\n",
       "      <td>0.996767</td>\n",
       "      <td>25.289752</td>\n",
       "      <td>24.418689</td>\n",
       "      <td>1.175322</td>\n",
       "      <td>1.000548</td>\n",
       "      <td>1.0</td>\n",
       "    </tr>\n",
       "    <tr>\n",
       "      <th>2</th>\n",
       "      <td>1862.543235</td>\n",
       "      <td>0.996713</td>\n",
       "      <td>0.996136</td>\n",
       "      <td>25.288052</td>\n",
       "      <td>24.429406</td>\n",
       "      <td>1.214627</td>\n",
       "      <td>1.000580</td>\n",
       "      <td>0.0</td>\n",
       "    </tr>\n",
       "    <tr>\n",
       "      <th>3</th>\n",
       "      <td>1862.563668</td>\n",
       "      <td>0.996930</td>\n",
       "      <td>0.996277</td>\n",
       "      <td>25.275216</td>\n",
       "      <td>24.448405</td>\n",
       "      <td>1.306617</td>\n",
       "      <td>1.000656</td>\n",
       "      <td>0.0</td>\n",
       "    </tr>\n",
       "    <tr>\n",
       "      <th>4</th>\n",
       "      <td>1862.584102</td>\n",
       "      <td>0.996862</td>\n",
       "      <td>0.996228</td>\n",
       "      <td>25.253864</td>\n",
       "      <td>24.480184</td>\n",
       "      <td>1.460259</td>\n",
       "      <td>1.000636</td>\n",
       "      <td>0.0</td>\n",
       "    </tr>\n",
       "  </tbody>\n",
       "</table>\n",
       "</div>"
      ],
      "text/plain": [
       "   BJD - 2454833   Raw Flux   Corrected Flux   X-centroid   Y-centroid  \\\n",
       "0    1862.502368   0.995119         0.995985    25.135097    24.661074   \n",
       "1    1862.522801   0.997313         0.996767    25.289752    24.418689   \n",
       "2    1862.543235   0.996713         0.996136    25.288052    24.429406   \n",
       "3    1862.563668   0.996930         0.996277    25.275216    24.448405   \n",
       "4    1862.584102   0.996862         0.996228    25.253864    24.480184   \n",
       "\n",
       "    arclength   Correction   Thrusters On  \n",
       "0    2.327480     0.999130            1.0  \n",
       "1    1.175322     1.000548            1.0  \n",
       "2    1.214627     1.000580            0.0  \n",
       "3    1.306617     1.000656            0.0  \n",
       "4    1.460259     1.000636            0.0  "
      ]
     },
     "execution_count": 8,
     "metadata": {},
     "output_type": "execute_result"
    }
   ],
   "source": [
    "df = pd.read_csv('ep60021426alldiagnostics.csv',index_col=False)\n",
    "df.head()"
   ]
  },
  {
   "cell_type": "markdown",
   "metadata": {},
   "source": [
    "We can mean-subtract the provided $x-y$ centroids, assigning them column and row identifiers, then rotate the coordinates into their major and minor axes."
   ]
  },
  {
   "cell_type": "code",
   "execution_count": 9,
   "metadata": {
    "collapsed": true
   },
   "outputs": [],
   "source": [
    "col = df[' X-centroid'].values\n",
    "col = col - np.mean(col)\n",
    "row = df[' Y-centroid'].values \n",
    "row = row - np.mean(row)"
   ]
  },
  {
   "cell_type": "code",
   "execution_count": 10,
   "metadata": {
    "collapsed": true
   },
   "outputs": [],
   "source": [
    "def _get_eigen_vectors(centroid_col, centroid_row):\n",
    "    '''get the eigenvalues and eigenvectors given centroid x, y positions'''\n",
    "    centroids = np.array([centroid_col, centroid_row])\n",
    "    eig_val, eig_vec = np.linalg.eigh(np.cov(centroids))\n",
    "    return eig_val, eig_vec"
   ]
  },
  {
   "cell_type": "code",
   "execution_count": 11,
   "metadata": {
    "collapsed": true
   },
   "outputs": [],
   "source": [
    "def _rotate(eig_vec, centroid_col, centroid_row):\n",
    "    '''rotate the centroids into their predominant linear axis'''\n",
    "    centroids = np.array([centroid_col, centroid_row])\n",
    "    return np.dot(eig_vec, centroids)"
   ]
  },
  {
   "cell_type": "code",
   "execution_count": 12,
   "metadata": {
    "collapsed": true
   },
   "outputs": [],
   "source": [
    "eig_val, eig_vec = _get_eigen_vectors(col, row)\n",
    "v1, v2 = eig_vec"
   ]
  },
  {
   "cell_type": "markdown",
   "metadata": {},
   "source": [
    "The major axis is the latter."
   ]
  },
  {
   "cell_type": "code",
   "execution_count": 13,
   "metadata": {
    "collapsed": true
   },
   "outputs": [],
   "source": [
    "platescale = 4.0 # The Kepler plate scale; has units of arcseconds / pixel"
   ]
  },
  {
   "cell_type": "code",
   "execution_count": 14,
   "metadata": {},
   "outputs": [
    {
     "data": {
      "image/png": "[encoded data removed]",
      "text/plain": [
       "<matplotlib.figure.Figure at 0x109920c50>"
      ]
     },
     "metadata": {},
     "output_type": "display_data"
    }
   ],
   "source": [
    "plt.figure(figsize=(5, 6))\n",
    "plt.plot(col * platescale, row * platescale, 'ko', ms=4)\n",
    "plt.plot(col * platescale, row * platescale, 'ro', ms=1)\n",
    "plt.xticks([-2, -1,0, 1, 2])\n",
    "plt.yticks([-2, -1,0, 1, 2])\n",
    "plt.xlabel('X position [arcseconds]')\n",
    "plt.ylabel('Y position [arcseconds]')\n",
    "plt.xlim(-2, 2)\n",
    "plt.ylim(-2, 2)\n",
    "plt.plot([0, v1[0]], [0, v1[1]], color='blue', lw=3)\n",
    "plt.plot([0, v2[0]], [0, v2[1]], color='blue', lw=3);"
   ]
  },
  {
   "cell_type": "markdown",
   "metadata": {},
   "source": [
    "Following the form of **Figure 2** of Vanderburg & Johsnon 2014."
   ]
  },
  {
   "cell_type": "code",
   "execution_count": 15,
   "metadata": {
    "collapsed": true
   },
   "outputs": [],
   "source": [
    "rot_colp, rot_rowp = _rotate(eig_vec, col, row) #units in pixels"
   ]
  },
  {
   "cell_type": "markdown",
   "metadata": {},
   "source": [
    "You can rotate into the new reference frame."
   ]
  },
  {
   "cell_type": "code",
   "execution_count": 16,
   "metadata": {},
   "outputs": [
    {
     "data": {
      "image/png": "[encoded data removed]",
      "text/plain": [
       "<matplotlib.figure.Figure at 0x109920748>"
      ]
     },
     "metadata": {},
     "output_type": "display_data"
    }
   ],
   "source": [
    "plt.figure(figsize=(5, 6))\n",
    "plt.plot(rot_rowp * platescale, rot_colp * platescale, 'ko', ms=4)\n",
    "plt.plot(rot_rowp * platescale, rot_colp * platescale, 'ro', ms=1)\n",
    "plt.xticks([-2, -1,0, 1, 2])\n",
    "plt.yticks([-2, -1,0, 1, 2])\n",
    "plt.xlabel(\"X' position [arcseconds]\")\n",
    "plt.ylabel(\"Y' position [arcseconds]\")\n",
    "plt.xlim(-2, 2)\n",
    "plt.ylim(-2, 2)\n",
    "plt.plot([0, 1], [0, 0], color='blue')\n",
    "plt.plot([0, 0], [0, 1], color='blue');"
   ]
  },
  {
   "cell_type": "markdown",
   "metadata": {},
   "source": [
    "We need to calculate the arclength using:\n",
    "\\begin{equation}s= \\int_{x'_0}^{x'_1}\\sqrt{1+\\left( \\frac{dy'_p}{dx'}\\right)^2} dx'\\end{equation}\n",
    "\n",
    "where $x^\\prime_0$ is the transformed $x$ coordinate of the point with the smallest $x^\\prime$ position, and $y^\\prime_p$ is the best--fit polynomial function."
   ]
  },
  {
   "cell_type": "markdown",
   "metadata": {},
   "source": [
    "Fit a $5^{th}$ order polynomial to the rotated coordinates."
   ]
  },
  {
   "cell_type": "code",
   "execution_count": 17,
   "metadata": {
    "collapsed": true
   },
   "outputs": [],
   "source": [
    "z = np.polyfit(rot_rowp, rot_colp, 5)\n",
    "p5 = np.poly1d(z)\n",
    "p5_deriv = p5.deriv()"
   ]
  },
  {
   "cell_type": "code",
   "execution_count": 18,
   "metadata": {
    "collapsed": true
   },
   "outputs": [],
   "source": [
    "x0_prime = np.min(rot_rowp)\n",
    "xmax_prime = np.max(rot_rowp)\n",
    "x_dense = np.linspace(x0_prime, xmax_prime, 2000)"
   ]
  },
  {
   "cell_type": "code",
   "execution_count": 19,
   "metadata": {},
   "outputs": [
    {
     "data": {
      "image/png": "[encoded data removed]",
      "text/plain": [
       "<matplotlib.figure.Figure at 0x1160cc6a0>"
      ]
     },
     "metadata": {},
     "output_type": "display_data"
    }
   ],
   "source": [
    "plt.plot(rot_rowp, rot_colp, '.')\n",
    "plt.plot(x_dense, p5(x_dense))\n",
    "plt.ylabel('Position along minor axis (pixels)')\n",
    "plt.xlabel('Position along major axis (pixels)')\n",
    "plt.title('Performance of polynomial regression')\n",
    "plt.ylim(-0.1, 0.1);"
   ]
  },
  {
   "cell_type": "markdown",
   "metadata": {},
   "source": [
    "We see evidence for a [bias-variance tradeoff](https://en.wikipedia.org/wiki/Bias%E2%80%93variance_tradeoff), suggesting some modest opportunity for improvement."
   ]
  },
  {
   "cell_type": "code",
   "execution_count": 20,
   "metadata": {
    "collapsed": true
   },
   "outputs": [],
   "source": [
    "@np.vectorize\n",
    "def arclength(x):\n",
    "    '''Input x1_prime, get out arclength'''\n",
    "    gi = x_dense <x\n",
    "    s_integrand = np.sqrt(1 + p5_deriv(x_dense[gi]) ** 2)\n",
    "    s = np.trapz(s_integrand, x=x_dense[gi])\n",
    "    return s"
   ]
  },
  {
   "cell_type": "markdown",
   "metadata": {},
   "source": [
    "Let's double check that we compute the same arclength as the published paper."
   ]
  },
  {
   "cell_type": "code",
   "execution_count": 21,
   "metadata": {},
   "outputs": [
    {
     "data": {
      "image/png": "[encoded data removed]",
      "text/plain": [
       "<matplotlib.figure.Figure at 0x11609e198>"
      ]
     },
     "metadata": {},
     "output_type": "display_data"
    }
   ],
   "source": [
    "aspect_ratio = plt.figaspect(1)\n",
    "plt.figure(figsize=aspect_ratio)\n",
    "plt.plot(df[' arclength'], arclength(rot_rowp)*4.0, '.')\n",
    "plt.xlabel('$s$  (Vanderburg & Johnson 2014)')\n",
    "plt.ylabel('$s$  (This work)')\n",
    "plt.plot([0, 4], [0, 4], 'k--');"
   ]
  },
  {
   "cell_type": "markdown",
   "metadata": {},
   "source": [
    "Yes, we compute arclength correctly."
   ]
  },
  {
   "cell_type": "markdown",
   "metadata": {},
   "source": [
    "Now we apply a **high-pass filter** to the raw lightcurve data.  We follow the original paper by using *BSplines* with 1.5 day breakpoints.  You can also apply data exclusion at this stage."
   ]
  },
  {
   "cell_type": "code",
   "execution_count": 22,
   "metadata": {
    "collapsed": true
   },
   "outputs": [],
   "source": [
    "from scipy.interpolate import BSpline\n",
    "from scipy import interpolate"
   ]
  },
  {
   "cell_type": "code",
   "execution_count": 23,
   "metadata": {
    "collapsed": true
   },
   "outputs": [],
   "source": [
    "times, raw_fluxes = df['BJD - 2454833'].values, df[' Raw Flux'].values"
   ]
  },
  {
   "cell_type": "markdown",
   "metadata": {},
   "source": [
    "We find the weighted least square spline for a given set of knots, $t$.  We supply interior knots as knots on the ends are added automatically, as stated in the `interpolate.splrep()` docstring."
   ]
  },
  {
   "cell_type": "code",
   "execution_count": 24,
   "metadata": {
    "collapsed": true
   },
   "outputs": [],
   "source": [
    "interior_knots = np.arange(times[0]+1.5, times[0]+6, 1.5)\n",
    "t,c,k = interpolate.splrep(times, raw_fluxes, s=0, task=-1, t=interior_knots)\n",
    "bspl = BSpline(t,c,k)"
   ]
  },
  {
   "cell_type": "code",
   "execution_count": 25,
   "metadata": {},
   "outputs": [
    {
     "data": {
      "image/png": "[encoded data removed]",
      "text/plain": [
       "<matplotlib.figure.Figure at 0x116373048>"
      ]
     },
     "metadata": {},
     "output_type": "display_data"
    }
   ],
   "source": [
    "plt.plot(times, raw_fluxes, '.')\n",
    "plt.plot(times, bspl(times))\n",
    "plt.xlabel('$t$ (days)')\n",
    "plt.ylabel('Raw Flux');"
   ]
  },
  {
   "cell_type": "markdown",
   "metadata": {},
   "source": [
    "The Spline fit looks good, so we can normalize the flux by the long-term trend.  \n",
    "Plot the normalized flux versus arclength to see the position-dependent flux."
   ]
  },
  {
   "cell_type": "code",
   "execution_count": 26,
   "metadata": {
    "collapsed": true
   },
   "outputs": [],
   "source": [
    "fluxes = raw_fluxes/bspl(times)"
   ]
  },
  {
   "cell_type": "markdown",
   "metadata": {},
   "source": [
    "Mask the data by keeping only the good samples."
   ]
  },
  {
   "cell_type": "code",
   "execution_count": 27,
   "metadata": {
    "collapsed": true
   },
   "outputs": [],
   "source": [
    "bi = df[' Thrusters On'].values == 1.0\n",
    "gi = df[' Thrusters On'].values == 0.0\n",
    "clean_fluxes = fluxes[gi]\n",
    "al = arclength(rot_rowp[gi]) * platescale"
   ]
  },
  {
   "cell_type": "code",
   "execution_count": 28,
   "metadata": {
    "collapsed": true
   },
   "outputs": [],
   "source": [
    "sorted_inds = np.argsort(al)"
   ]
  },
  {
   "cell_type": "markdown",
   "metadata": {},
   "source": [
    "We will follow the paper by interpolating **flux versus arclength position** in 15 bins of means, which is a *piecewise linear fit*."
   ]
  },
  {
   "cell_type": "code",
   "execution_count": 29,
   "metadata": {
    "collapsed": true
   },
   "outputs": [],
   "source": [
    "knots = np.array([np.min(al)]+ \n",
    "                 [np.median(splt) for splt in np.array_split(al[sorted_inds], 15)]+\n",
    "                 [np.max(al)])"
   ]
  },
  {
   "cell_type": "code",
   "execution_count": 30,
   "metadata": {
    "collapsed": true
   },
   "outputs": [],
   "source": [
    "bin_means = np.array([clean_fluxes[sorted_inds][0]]+\n",
    "                     [np.mean(splt) for splt in np.array_split(clean_fluxes[sorted_inds], 15)]+\n",
    "                     [clean_fluxes[sorted_inds][-1]])"
   ]
  },
  {
   "cell_type": "code",
   "execution_count": 31,
   "metadata": {
    "collapsed": true
   },
   "outputs": [],
   "source": [
    "zz = np.polyfit(al, clean_fluxes,6)\n",
    "sff = np.poly1d(zz)\n",
    "al_dense = np.linspace(0, 4, 1000)\n",
    "interp_func = interpolate.interp1d(knots, bin_means)"
   ]
  },
  {
   "cell_type": "code",
   "execution_count": 32,
   "metadata": {},
   "outputs": [
    {
     "data": {
      "image/png": "[encoded data removed]",
      "text/plain": [
       "<matplotlib.figure.Figure at 0x181ae7fcc0>"
      ]
     },
     "metadata": {},
     "output_type": "display_data"
    }
   ],
   "source": [
    "plt.figure(figsize=(5, 6))\n",
    "plt.plot(arclength(rot_rowp)*4.0, fluxes, 'ko', ms=4)\n",
    "plt.plot(arclength(rot_rowp)*4.0, fluxes, 'o', color='#3498db', ms=3)\n",
    "plt.plot(arclength(rot_rowp[bi])*4.0, fluxes[bi], 'o', color='r', ms=3)\n",
    "plt.plot(np.sort(al), interp_func(np.sort(al)), '-', color='#e67e22')\n",
    "\n",
    "plt.xticks([0, 1,2, 3, 4])\n",
    "plt.minorticks_on()\n",
    "plt.xlabel('Arclength [arcseconds]')\n",
    "plt.ylabel('Relative Brightness')\n",
    "plt.title('EPIC 60021426, Kp =10.3')\n",
    "plt.xlim(0,4)\n",
    "plt.ylim(0.997, 1.002);"
   ]
  },
  {
   "cell_type": "markdown",
   "metadata": {},
   "source": [
    "Following **Figure 4** of Vanderburg & Johnson 2014."
   ]
  },
  {
   "cell_type": "markdown",
   "metadata": {},
   "source": [
    "Apply the Self Flat Field (SFF) correction:"
   ]
  },
  {
   "cell_type": "code",
   "execution_count": 33,
   "metadata": {
    "collapsed": true
   },
   "outputs": [],
   "source": [
    "corr_fluxes = clean_fluxes / interp_func(al)"
   ]
  },
  {
   "cell_type": "code",
   "execution_count": 34,
   "metadata": {},
   "outputs": [
    {
     "data": {
      "image/png": "[encoded data removed]",
      "text/plain": [
       "<matplotlib.figure.Figure at 0x181af80908>"
      ]
     },
     "metadata": {},
     "output_type": "display_data"
    }
   ],
   "source": [
    "plt.figure(figsize=(10,6))\n",
    "\n",
    "dy = 0.004\n",
    "plt.plot(df['BJD - 2454833'], df[' Raw Flux']+dy, 'ko', ms=4)\n",
    "plt.plot(df['BJD - 2454833'], df[' Raw Flux']+dy, 'o', color='#3498db', ms=3)\n",
    "plt.plot(df['BJD - 2454833'][bi], df[' Raw Flux'][bi]+dy, 'o', color='r', ms=3)\n",
    "plt.plot(df['BJD - 2454833'][gi], corr_fluxes*bspl(times[gi]), 'o', color='k', ms = 4)\n",
    "plt.plot(df['BJD - 2454833'][gi], corr_fluxes*bspl(times[gi]), 'o', color='#e67e22', ms = 3)\n",
    "\n",
    "plt.xlabel('BJD - 2454833')\n",
    "plt.ylabel('Relative Brightness')\n",
    "\n",
    "plt.xlim(1862, 1870)\n",
    "plt.ylim(0.994, 1.008);"
   ]
  },
  {
   "cell_type": "markdown",
   "metadata": {},
   "source": [
    "Following **Figure 5** of Vanderburg & Johnson 2015."
   ]
  },
  {
   "cell_type": "markdown",
   "metadata": {},
   "source": [
    "*The end.*"
   ]
  }
 ],
 "metadata": {
  "kernelspec": {
   "display_name": "Python 3",
   "language": "python",
   "name": "python3"
  },
  "language_info": {
   "codemirror_mode": {
    "name": "ipython",
    "version": 3
   },
   "file_extension": ".py",
   "mimetype": "text/x-python",
   "name": "python",
   "nbconvert_exporter": "python",
   "pygments_lexer": "ipython3",
   "version": "3.6.5"
  }
 },
 "nbformat": 4,
 "nbformat_minor": 2
}
