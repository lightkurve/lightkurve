{
 "cells": [
  {
   "cell_type": "markdown",
   "metadata": {},
   "source": [
    "# How to open a light curve in Excel?"
   ]
  },
  {
   "cell_type": "markdown",
   "metadata": {
    "id": "3S_YbDpLL6Zf"
   },
   "source": [
    "## Learning Goals\n",
    "\n",
    "By the end of this tutorial, you will:\n",
    "\n",
    "* Learn how to search and download TESS light curves.\n",
    "* Make a quick plot of a light curve you found.\n",
    "* Understand how to load the data into Excel.\n",
    "\n",
    "This tutorial is aimed at first time users who may not have used *Lightkurve* before."
   ]
  },
  {
   "cell_type": "markdown",
   "metadata": {
    "id": "yo6N8AQeM4E9"
   },
   "source": [
    "## Imports\n",
    "\n",
    "First we must install and import the [*Lightkurve*](https://docs.lightkurve.org/index.html) package. We can do this as follows:"
   ]
  },
  {
   "cell_type": "code",
   "execution_count": 1,
   "metadata": {
    "colab": {
     "base_uri": "https://localhost:8080/"
    },
    "execution": {
     "iopub.execute_input": "2024-08-20T14:50:10.340558Z",
     "iopub.status.busy": "2024-08-20T14:50:10.340223Z",
     "iopub.status.idle": "2024-08-20T14:50:13.281525Z",
     "shell.execute_reply": "2024-08-20T14:50:13.280828Z"
    },
    "id": "eNbRDXQlKtMp",
    "outputId": "8698e825-4263-4baf-c0e3-c064615e74be"
   },
   "outputs": [],
   "source": [
    "# This step is not necessary if you have already installed Lightkurve\n",
    "!pip install lightkurve --quiet"
   ]
  },
  {
   "cell_type": "code",
   "execution_count": 2,
   "metadata": {
    "execution": {
     "iopub.execute_input": "2024-08-20T14:50:13.284176Z",
     "iopub.status.busy": "2024-08-20T14:50:13.283983Z",
     "iopub.status.idle": "2024-08-20T14:50:14.380589Z",
     "shell.execute_reply": "2024-08-20T14:50:14.380307Z"
    },
    "id": "6MerVfAeKyeh"
   },
   "outputs": [],
   "source": [
    "%matplotlib inline \n",
    "import lightkurve as lk "
   ]
  },
  {
   "cell_type": "markdown",
   "metadata": {
    "id": "0p5kFB7ZNkGC"
   },
   "source": [
    "## 1. Downloading a TESS light curve\n",
    "\n",
    "The light curves of stars created by the TESS mission are stored at the [Mikulksi Archive for Space Telescopes](https://archive.stsci.edu/tess/) (MAST) archive, along with metadata about the observations, such as which CCD channel was used at each time.\n",
    "\n",
    "*Lightkurve’s* built-in tools allow us to search for light curve files in the archive, and download them and their metadata. In this example, we will start by downloading one sector of TESS data for a star named  V1357 Cyg, also known as [Cygnus X-1](https://en.wikipedia.org/wiki/Cygnus_X-1). V1357 Cyg is a galactic X-ray source in the constellation Cygnus. \n",
    "\n",
    "Using Lightkurve’s [search_lightcurve](https://docs.lightkurve.org/reference/api/lightkurve.search_lightcurve.html?highlight=search_lightcurve) function, we can find an itemized list of light curves produced by different data analysis pipelines:"
   ]
  },
  {
   "cell_type": "code",
   "execution_count": 3,
   "metadata": {
    "colab": {
     "base_uri": "https://localhost:8080/",
     "height": 141
    },
    "execution": {
     "iopub.execute_input": "2024-08-20T14:50:14.382298Z",
     "iopub.status.busy": "2024-08-20T14:50:14.382179Z",
     "iopub.status.idle": "2024-08-20T14:50:20.736971Z",
     "shell.execute_reply": "2024-08-20T14:50:20.736646Z"
    },
    "id": "myq63GjDKzFp",
    "outputId": "702fabe7-8441-4c19-ac3a-abdeb0ad6712"
   },
   "outputs": [
    {
     "data": {
      "text/html": [
       "SearchResult containing 16 data products.\n",
       "\n",
       "<table id=\"table10897261776\">\n",
       "<thead><tr><th>#</th><th>mission</th><th>year</th><th>author</th><th>exptime</th><th>target_name</th><th>distance</th></tr></thead>\n",
       "<thead><tr><th></th><th></th><th></th><th></th><th>s</th><th></th><th>arcsec</th></tr></thead>\n",
       "<tr><td>0</td><td>TESS Sector 14</td><td>2019</td><td><a href='https://heasarc.gsfc.nasa.gov/docs/tess/pipeline.html'>SPOC</a></td><td>120</td><td>102604645</td><td>0.0</td></tr>\n",
       "<tr><td>1</td><td>TESS Sector 54</td><td>2022</td><td><a href='https://heasarc.gsfc.nasa.gov/docs/tess/pipeline.html'>SPOC</a></td><td>120</td><td>102604645</td><td>0.0</td></tr>\n",
       "<tr><td>2</td><td>TESS Sector 55</td><td>2022</td><td><a href='https://heasarc.gsfc.nasa.gov/docs/tess/pipeline.html'>SPOC</a></td><td>120</td><td>102604645</td><td>0.0</td></tr>\n",
       "<tr><td>3</td><td>TESS Sector 74</td><td>2024</td><td><a href='https://heasarc.gsfc.nasa.gov/docs/tess/pipeline.html'>SPOC</a></td><td>120</td><td>102604645</td><td>0.0</td></tr>\n",
       "<tr><td>4</td><td>TESS Sector 75</td><td>2024</td><td><a href='https://heasarc.gsfc.nasa.gov/docs/tess/pipeline.html'>SPOC</a></td><td>120</td><td>102604645</td><td>0.0</td></tr>\n",
       "<tr><td>5</td><td>TESS Sector 14</td><td>2019</td><td><a href='https://archive.stsci.edu/hlsp/tess-spoc'>TESS-SPOC</a></td><td>1800</td><td>102604645</td><td>0.0</td></tr>\n",
       "<tr><td>6</td><td>TESS Sector 54</td><td>2022</td><td><a href='https://archive.stsci.edu/hlsp/tess-spoc'>TESS-SPOC</a></td><td>600</td><td>102604645</td><td>0.0</td></tr>\n",
       "<tr><td>7</td><td>TESS Sector 55</td><td>2022</td><td><a href='https://archive.stsci.edu/hlsp/tess-spoc'>TESS-SPOC</a></td><td>600</td><td>102604645</td><td>0.0</td></tr>\n",
       "<tr><td>8</td><td>TESS Sector 14</td><td>2019</td><td><a href='https://archive.stsci.edu/hlsp/qlp'>QLP</a></td><td>1800</td><td>102604645</td><td>0.0</td></tr>\n",
       "<tr><td>9</td><td>TESS Sector 54</td><td>2022</td><td><a href='https://archive.stsci.edu/hlsp/qlp'>QLP</a></td><td>600</td><td>102604645</td><td>0.0</td></tr>\n",
       "<tr><td>10</td><td>TESS Sector 55</td><td>2022</td><td><a href='https://archive.stsci.edu/hlsp/qlp'>QLP</a></td><td>600</td><td>102604645</td><td>0.0</td></tr>\n",
       "<tr><td>11</td><td>TESS Sector 74</td><td>2024</td><td><a href='https://archive.stsci.edu/hlsp/qlp'>QLP</a></td><td>200</td><td>102604645</td><td>0.0</td></tr>\n",
       "<tr><td>12</td><td>TESS Sector 75</td><td>2024</td><td><a href='https://archive.stsci.edu/hlsp/qlp'>QLP</a></td><td>200</td><td>102604645</td><td>0.0</td></tr>\n",
       "<tr><td>13</td><td>TESS Sector 14</td><td>2019</td><td><a href='https://archive.stsci.edu/hlsp/tasoc'>TASOC</a></td><td>120</td><td>102604645</td><td>0.0</td></tr>\n",
       "<tr><td>14</td><td>TESS Sector 14</td><td>2019</td><td><a href='https://archive.stsci.edu/hlsp/tasoc'>TASOC</a></td><td>1800</td><td>102604645</td><td>0.0</td></tr>\n",
       "<tr><td>15</td><td>TESS Sector 14</td><td>2019</td><td><a href='https://archive.stsci.edu/hlsp/tasoc'>TASOC</a></td><td>1800</td><td>102604645</td><td>0.0</td></tr>\n",
       "</table>"
      ],
      "text/plain": [
       "SearchResult containing 16 data products.\n",
       "\n",
       " #     mission     year   author  exptime target_name distance\n",
       "                                     s                 arcsec \n",
       "--- -------------- ---- --------- ------- ----------- --------\n",
       "  0 TESS Sector 14 2019      SPOC     120   102604645      0.0\n",
       "  1 TESS Sector 54 2022      SPOC     120   102604645      0.0\n",
       "  2 TESS Sector 55 2022      SPOC     120   102604645      0.0\n",
       "  3 TESS Sector 74 2024      SPOC     120   102604645      0.0\n",
       "  4 TESS Sector 75 2024      SPOC     120   102604645      0.0\n",
       "  5 TESS Sector 14 2019 TESS-SPOC    1800   102604645      0.0\n",
       "  6 TESS Sector 54 2022 TESS-SPOC     600   102604645      0.0\n",
       "  7 TESS Sector 55 2022 TESS-SPOC     600   102604645      0.0\n",
       "  8 TESS Sector 14 2019       QLP    1800   102604645      0.0\n",
       "  9 TESS Sector 54 2022       QLP     600   102604645      0.0\n",
       " 10 TESS Sector 55 2022       QLP     600   102604645      0.0\n",
       " 11 TESS Sector 74 2024       QLP     200   102604645      0.0\n",
       " 12 TESS Sector 75 2024       QLP     200   102604645      0.0\n",
       " 13 TESS Sector 14 2019     TASOC     120   102604645      0.0\n",
       " 14 TESS Sector 14 2019     TASOC    1800   102604645      0.0\n",
       " 15 TESS Sector 14 2019     TASOC    1800   102604645      0.0"
      ]
     },
     "execution_count": 3,
     "metadata": {},
     "output_type": "execute_result"
    }
   ],
   "source": [
    "search_result = lk.search_lightcurve(\"V1357 Cyg\")\n",
    "search_result "
   ]
  },
  {
   "cell_type": "markdown",
   "metadata": {
    "id": "08VkWMhTOiT0"
   },
   "source": [
    "By clicking on each of the \"author\" links above, you will obtain a description of the product and how each one is different from the other. The acronym *SPOC* refers to the TESS data calibration pipeline provided by NASA Ames, and *QLP* refers to the Quiclook Pipeline in use by the mission team at MIT.\n",
    "\n",
    "We can [download](https://docs.lightkurve.org/reference/search.html?highlight=download) the first data product by specifying its index number in rectangular brackets:"
   ]
  },
  {
   "cell_type": "code",
   "execution_count": 4,
   "metadata": {
    "execution": {
     "iopub.execute_input": "2024-08-20T14:50:20.738698Z",
     "iopub.status.busy": "2024-08-20T14:50:20.738578Z",
     "iopub.status.idle": "2024-08-20T14:50:21.171042Z",
     "shell.execute_reply": "2024-08-20T14:50:21.170718Z"
    },
    "id": "E3BvFsOCLSYm"
   },
   "outputs": [],
   "source": [
    "lc = search_result[0].download()"
   ]
  },
  {
   "cell_type": "markdown",
   "metadata": {
    "id": "GE5q3jTAPEMB"
   },
   "source": [
    "## 2. Plotting a light curve\n",
    "\n",
    "Before loading the light curve data into Excel, it can be useful to have a quick look at the data using *Lightkurve's* [plot](https://docs.lightkurve.org/reference/api/lightkurve.LightCurve.plot.html?highlight=plot#lightkurve.LightCurve.plot) function:"
   ]
  },
  {
   "cell_type": "code",
   "execution_count": 5,
   "metadata": {
    "colab": {
     "base_uri": "https://localhost:8080/",
     "height": 404
    },
    "execution": {
     "iopub.execute_input": "2024-08-20T14:50:21.172738Z",
     "iopub.status.busy": "2024-08-20T14:50:21.172649Z",
     "iopub.status.idle": "2024-08-20T14:50:21.380729Z",
     "shell.execute_reply": "2024-08-20T14:50:21.380423Z"
    },
    "id": "wCG3HtCELVpI",
    "outputId": "00d46754-7fd5-42f7-b418-b0408eac54c0"
   },
   "outputs": [
    {
     "data": {
      "image/png": "[encoded data removed]",
      "text/plain": [
       "<Figure size 848.5x400 with 1 Axes>"
      ]
     },
     "metadata": {},
     "output_type": "display_data"
    }
   ],
   "source": [
    "lc.plot();"
   ]
  },
  {
   "cell_type": "markdown",
   "metadata": {
    "id": "wgivwJj4PSkz"
   },
   "source": [
    "## 3. Download the light curve as an Excel spreadsheet\n",
    "\n",
    "If you are new to Python, it is likely that you feel more comfortable inspecting and analyzing a light curve in Excel than in Python. That is fine! We can save the light curve data as an Excel spreadsheet named \"V1357Cyg.xlsx\" as follows:"
   ]
  },
  {
   "cell_type": "code",
   "execution_count": 6,
   "metadata": {
    "execution": {
     "iopub.execute_input": "2024-08-20T14:50:21.382461Z",
     "iopub.status.busy": "2024-08-20T14:50:21.382344Z",
     "iopub.status.idle": "2024-08-20T14:50:25.301281Z",
     "shell.execute_reply": "2024-08-20T14:50:25.300854Z"
    },
    "id": "otJ2P1dmLYpx"
   },
   "outputs": [],
   "source": [
    "lc.to_excel(\"V1357Cyg.xlsx\")"
   ]
  },
  {
   "cell_type": "markdown",
   "metadata": {},
   "source": [
    "This file will be available on your local drive.  If you run this notebook in a Google Colab environment, you can download the file as follows:"
   ]
  },
  {
   "cell_type": "markdown",
   "metadata": {
    "colab": {
     "base_uri": "https://localhost:8080/",
     "height": 34
    },
    "id": "ujEkjqPALCAQ",
    "outputId": "7cdc2db2-8a92-4a02-bd7c-8139ac11bac6"
   },
   "source": [
    "```python\n",
    "from google.colab import files\n",
    "files.download(\"V1357Cyg.xlsx\")\n",
    "```"
   ]
  },
  {
   "cell_type": "code",
   "execution_count": null,
   "metadata": {},
   "outputs": [],
   "source": []
  }
 ],
 "metadata": {
  "colab": {
   "collapsed_sections": [],
   "name": "How to create a light curve for Excel.ipynb",
   "provenance": []
  },
  "kernelspec": {
   "display_name": "Python 3 (ipykernel)",
   "language": "python",
   "name": "python3"
  },
  "language_info": {
   "codemirror_mode": {
    "name": "ipython",
    "version": 3
   },
   "file_extension": ".py",
   "mimetype": "text/x-python",
   "name": "python",
   "nbconvert_exporter": "python",
   "pygments_lexer": "ipython3",
   "version": "3.11.3"
  }
 },
 "nbformat": 4,
 "nbformat_minor": 4
}
