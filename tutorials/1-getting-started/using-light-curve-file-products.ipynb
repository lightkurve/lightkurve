{
 "cells": [
  {
   "cell_type": "markdown",
   "metadata": {
    "colab_type": "text",
    "id": "zmyJVTgDegLW"
   },
   "source": [
    "# Using Light Curve Files with Lightkurve"
   ]
  },
  {
   "cell_type": "markdown",
   "metadata": {
    "colab_type": "text",
    "id": "qAFe53UOTKon"
   },
   "source": [
    "## Learning Goals\n",
    "\n",
    "By the end of this tutorial, you will:\n",
    "\n",
    "- Understand how NASA's *Kepler* Mission collected and released light curve data products.\n",
    "- Be able to download and plot light curve files from the data archive using [Lightkurve](https://lightkurve.github.io/lightkurve/index.html).\n",
    "- Be able to access light curve metadata.\n",
    "- Understand the time and brightness units."
   ]
  },
  {
   "cell_type": "markdown",
   "metadata": {
    "colab_type": "text",
    "id": "fpDuPWW6hzh_"
   },
   "source": [
    "## Introduction\n",
    "\n",
    "The [*Kepler*](https://archive.stsci.edu/kepler), [*K2*](https://archive.stsci.edu/k2), and [*TESS*](https://archive.stsci.edu/tess) telescopes observe stars for long periods of time, from just under a month to four years. By doing so they observe how the brightness of stars change over time. A series of these brightness observations is referred to as a [light curve](https://en.wikipedia.org/wiki/Light_curve) of a star.\n",
    "\n",
    "Light curves of stars observed by the *Kepler*, *K2*, or *TESS* missions are created from the raw images collected by these telescopes using software built for this purpose by the mission teams. In this tutorial, we will learn how to use the Lightkurve package to download these preprocessed light curves from *Kepler*'s data archive, plot them, and understand their properties and units.\n",
    "\n",
    "Much of the explanation below is inspired by [Kinemuchi et al. (2012)](https://arxiv.org/pdf/1207.3093.pdf), an excellent paper introducing and explaining the terminology surrounding the *Kepler* mission and its data. You can find detailed information on the mission and its data products in the official [*Kepler* Instrument Handbook](https://archive.stsci.edu/files/live/sites/mast/files/home/missions-and-data/kepler/_documents/KSCI-19033-002-instrument-hb.pdf) and the [*Kepler* Data Processing Handbook](https://archive.stsci.edu/files/live/sites/mast/files/home/missions-and-data/kepler/_documents/KSCI-19081-003-KDPH.pdf).\n",
    "\n",
    "We will use the *Kepler* mission as the main example, but these tools are extensible to *TESS* and *K2* as well. For example, while in this tutorial we will learn to work with Lightkurve's `KeplerLightCurve` objects, there are also `TessLightCurve` objects that work in the same way."
   ]
  },
  {
   "cell_type": "markdown",
   "metadata": {
    "colab_type": "text",
    "id": "PPvxoxn5fNRG"
   },
   "source": [
    "## Imports\n",
    "\n",
    "This tutorial only requires the [**Lightkurve**](https://lightkurve.github.io/lightkurve/index.html) package, which in turn uses `matplotlib` for plotting."
   ]
  },
  {
   "cell_type": "code",
   "execution_count": 1,
   "metadata": {
    "colab": {},
    "colab_type": "code",
    "execution": {
     "iopub.execute_input": "2025-03-05T22:06:13.977838Z",
     "iopub.status.busy": "2025-03-05T22:06:13.977426Z",
     "iopub.status.idle": "2025-03-05T22:06:14.998553Z",
     "shell.execute_reply": "2025-03-05T22:06:14.998291Z"
    },
    "id": "1dH7Te6hfkvx"
   },
   "outputs": [
    {
     "name": "stderr",
     "output_type": "stream",
     "text": [
      "/Users/nthom/lightkurve/src/lightkurve/config/__init__.py:119: UserWarning: The default Lightkurve cache directory, used by download(), etc., has been moved to /Users/nthom/.lightkurve/cache. Please move all the files in the legacy directory /Users/nthom/.lightkurve-cache to the new location and remove the legacy directory. Refer to https://docs.lightkurve.org/reference/config.html#default-cache-directory-migration for more information.\n",
      "  warnings.warn(\n"
     ]
    }
   ],
   "source": [
    "%matplotlib inline\n",
    "import lightkurve as lk"
   ]
  },
  {
   "cell_type": "markdown",
   "metadata": {
    "colab_type": "text",
    "id": "kYmOYSuls30s"
   },
   "source": [
    "## 1. About NASA's Photometric Space Telescopes"
   ]
  },
  {
   "cell_type": "markdown",
   "metadata": {
    "colab_type": "text",
    "id": "oK6pr6qDPmK2"
   },
   "source": [
    "In order to understand the data produced by NASA's *Kepler*, *K2*, and *TESS* missions, it is useful to understand a little about how these data were obtained."
   ]
  },
  {
   "cell_type": "markdown",
   "metadata": {
    "colab_type": "text",
    "id": "E4_5ufDMPmK2"
   },
   "source": [
    "### 1.1. [*Kepler*](https://www.nasa.gov/mission_pages/kepler/overview/index.html)\n",
    "\n",
    "During its nominal mission, the *Kepler* telescope made observations using 21 pairs of rectangular charge-coupled device (CCD) camera chips (also called *modules*), each consisting of four 1100 x 2048 pixel *channels*. Each observed star fell on one of these 84 CCD channels. Recording the channel numbers for each star was important, because the *Kepler* spacecraft rotated by 90 degrees roughly four times a year. These rotations divide what are referred to as observing *quarters*. While the same star may be observed in multiple quarters, it may fall on a different CCD channel each time.\n",
    "\n",
    "*Kepler* observed a single field in the sky, although not all stars in this field were recorded as light curves. Instead, pixels were selected around a predetermined list of target stars, which were then downloaded. These downloaded measurements are stored in *target pixel files* (TPFs). By adding up the flux (a measurement of an object's brightness per unit time) measured by the pixels in which a target star appears, the total brightness of a star can be measured. If you make this measurement at different times, you obtain a light curve.\n",
    "\n",
    "*Kepler* recorded the brightness measurements at two different cadences: a Short Cadence (SC, 58.85 seconds) and a Long Cadence (LC, 29.4 minutes). For more details, read: [*Kepler* Instrument Handbook](https://archive.stsci.edu/files/live/sites/mast/files/home/missions-and-data/kepler/_documents/KSCI-19033-002-instrument-hb.pdf), Section 2.1. *Mission Overview* and 2.6. *Pixels of Interest*, and the [*Kepler* Archive Manual](https://archive.stsci.edu/files/live/sites/mast/files/home/missions-and-data/k2/_documents/MAST_Kepler_Archive_Manual_2020.pdf) Chapter 2: *Kepler* Data Products.\n",
    "\n",
    "<img src=\"https://archive.stsci.edu/files/live/sites/mast/files/home/missions-and-data/active-missions/tess/_images/Keplerfieldofviewstarchart.gif?t=tn2400\">\n",
    "\n",
    "*Figure:* The field of view of the *Kepler* mission. The rectangles represent the CCD modules described above.\n"
   ]
  },
  {
   "cell_type": "markdown",
   "metadata": {
    "colab_type": "text",
    "id": "hkyT0l9EPmK4"
   },
   "source": [
    "### 1.2. [*K2*](https://science.nasa.gov/universe/exoplanets/disaster-and-rebirth-a-space-telescopes-new-mission/)\n",
    "\n",
    "The *Kepler* mission ended in 2013 following the loss of two reaction wheels, leaving the spacecraft unable to stay fixed on one portion of the sky. Instead, it changed its focus to the ecliptic plane, and performed 80-day observing campaigns of 19 separate fields. *K2* data are very similar to *Kepler* data, but are subject to higher levels of instrument noise due to the increased instability of the spacecraft. For more details read the [*K2* Handbook](https://archive.stsci.edu/files/live/sites/mast/files/home/missions-and-data/k2/_documents/KSCI-19116-002.pdf), specifically *Section 2: What's New in K2*.\n",
    "\n",
    "<!-- <img src=\"https://archive.stsci.edu/files/live/sites/mast/files/home/missions-and-data/k2/_images/footprint-all-campaigns.png?t=tn2400\">\n",
    "\n",
    "*Figure*: Representation of the 19 ecliptic observing Campaigns by the *K2* mission. The mission ended in Campaign 19 due to spacecraft failure, and Campaign 20 was never started. -->"
   ]
  },
  {
   "cell_type": "markdown",
   "metadata": {
    "colab_type": "text",
    "id": "D7ulMFgSPmK5"
   },
   "source": [
    "### 1.3. [*TESS*](https://tess.mit.edu/)\n",
    "\n",
    "The Transiting Exoplanet Survey Satellite (*TESS*) succeeded *Kepler* in 2018. The data it collects are very similar to those from *Kepler* and *K2*, but *TESS* covers a much larger area of the sky at a lower resolution. *TESS* observes large sectors of the sky for ~27 days at a time. The overlap of these sectors means that stars near the ecliptic poles will receive a year of uninterrupted data, while those near the ecliptic receive only ~27 days. Compared to *Kepler*, *TESS* observes in several different cadence modes, including 20 seconds, 120 seconds, 10 minutes, and 30 minutes. For more details, see the [Mission Overview](https://tess.mit.edu/science/) and the [*TESS* Instrument Handbook](https://archive.stsci.edu/files/live/sites/mast/files/home/missions-and-data/active-missions/tess/_documents/TESS_Instrument_Handbook_v0.1.pdf), specifically *Section 2: Introduction to TESS*.\n",
    "\n",
    "\n",
    "Some stars that have been observed by *TESS* will also have been observed by *Kepler*, and in some cases *K2*.\n",
    "<!-- <img src=\"https://archive.stsci.edu/files/live/sites/mast/files/home/missions-and-data/active-missions/tess/_images/Tess%20coverage%20map.png?t=tn992\" width=\"500\">\n",
    "\n",
    "*Figure*: A representation of how the different observing sectors of *TESS* overlap. The grey area where no observations take place is the ecliptic. The white lines indicate celestial coordinates (i.e. the north pole on the Figure lies above the north pole of Earth). -->"
   ]
  },
  {
   "cell_type": "markdown",
   "metadata": {
    "colab_type": "text",
    "id": "41HrZlzqi1U5"
   },
   "source": [
    "## 2. Downloading a Light Curve File"
   ]
  },
  {
   "cell_type": "markdown",
   "metadata": {
    "colab_type": "text",
    "id": "-WFvehoMkIDa"
   },
   "source": [
    "The light curves of stars created by the *Kepler* mission are stored at the [Mikulksi Archive for Space Telescopes](https://archive.stsci.edu/kepler/) (MAST) archive, along with metadata about the observations, such as which CCD channel was used at each time."
   ]
  },
  {
   "cell_type": "markdown",
   "metadata": {
    "colab_type": "text",
    "id": "_vVu6JugHj6O"
   },
   "source": [
    "Lightkurve's built-in tools allow us to search for light curve files in the archive, and download them and their metadata. In this example, we will start by downloading one quarter of *Kepler* data for a star named [Kepler-8](http://www.openexoplanetcatalogue.com/planet/Kepler-8%20b/), a star somewhat larger than the Sun, and the host of a [hot Jupiter planet](https://en.wikipedia.org/wiki/Hot_Jupiter). "
   ]
  },
  {
   "cell_type": "markdown",
   "metadata": {
    "colab_type": "text",
    "id": "EuIqyV0YIWND"
   },
   "source": [
    "Using Lightkurve's [search_lightcurve](https://lightkurve.github.io/lightkurve/reference/api/lightkurve.search_lightcurve.html) function, we can find an itemized list of different light curve file products available for Kepler-8:"
   ]
  },
  {
   "cell_type": "code",
   "execution_count": 2,
   "metadata": {
    "colab": {
     "base_uri": "https://localhost:8080/",
     "height": 442
    },
    "colab_type": "code",
    "execution": {
     "iopub.execute_input": "2025-03-05T22:06:15.000267Z",
     "iopub.status.busy": "2025-03-05T22:06:15.000150Z",
     "iopub.status.idle": "2025-03-05T22:06:34.063339Z",
     "shell.execute_reply": "2025-03-05T22:06:34.063074Z"
    },
    "executionInfo": {
     "elapsed": 2876,
     "status": "ok",
     "timestamp": 1598411282748,
     "user": {
      "displayName": "Geert Barentsen",
      "photoUrl": "https://lh3.googleusercontent.com/a-/AOh14Gj8sjdnDeqdejfe7OoouYPIclAQV0KSTpsU469Jyeo=s64",
      "userId": "05704237875861987058"
     },
     "user_tz": 420
    },
    "id": "hcpStCZ7IJct",
    "outputId": "2235858d-55c2-4bb2-b095-1b6ee8ebdbad"
   },
   "outputs": [
    {
     "data": {
      "text/html": [
       "SearchResult containing 18 data products.\n",
       "\n",
       "<table id=\"table4962606096\">\n",
       "<thead><tr><th>#</th><th>mission</th><th>year</th><th>author</th><th>exptime</th><th>target_name</th><th>distance</th></tr></thead>\n",
       "<thead><tr><th></th><th></th><th></th><th></th><th>s</th><th></th><th>arcsec</th></tr></thead>\n",
       "<tr><td>0</td><td>Kepler Quarter 00</td><td>2009</td><td><a href='https://archive.stsci.edu/kepler/data_products.html'>Kepler</a></td><td>1800</td><td>kplr006922244</td><td>0.0</td></tr>\n",
       "<tr><td>1</td><td>Kepler Quarter 01</td><td>2009</td><td><a href='https://archive.stsci.edu/kepler/data_products.html'>Kepler</a></td><td>1800</td><td>kplr006922244</td><td>0.0</td></tr>\n",
       "<tr><td>2</td><td>Kepler Quarter 02</td><td>2009</td><td><a href='https://archive.stsci.edu/kepler/data_products.html'>Kepler</a></td><td>1800</td><td>kplr006922244</td><td>0.0</td></tr>\n",
       "<tr><td>3</td><td>Kepler Quarter 03</td><td>2009</td><td><a href='https://archive.stsci.edu/kepler/data_products.html'>Kepler</a></td><td>1800</td><td>kplr006922244</td><td>0.0</td></tr>\n",
       "<tr><td>4</td><td>Kepler Quarter 04</td><td>2010</td><td><a href='https://archive.stsci.edu/kepler/data_products.html'>Kepler</a></td><td>1800</td><td>kplr006922244</td><td>0.0</td></tr>\n",
       "<tr><td>5</td><td>Kepler Quarter 05</td><td>2010</td><td><a href='https://archive.stsci.edu/kepler/data_products.html'>Kepler</a></td><td>1800</td><td>kplr006922244</td><td>0.0</td></tr>\n",
       "<tr><td>6</td><td>Kepler Quarter 06</td><td>2010</td><td><a href='https://archive.stsci.edu/kepler/data_products.html'>Kepler</a></td><td>1800</td><td>kplr006922244</td><td>0.0</td></tr>\n",
       "<tr><td>7</td><td>Kepler Quarter 07</td><td>2010</td><td><a href='https://archive.stsci.edu/kepler/data_products.html'>Kepler</a></td><td>1800</td><td>kplr006922244</td><td>0.0</td></tr>\n",
       "<tr><td>8</td><td>Kepler Quarter 10</td><td>2011</td><td><a href='https://archive.stsci.edu/kepler/data_products.html'>Kepler</a></td><td>1800</td><td>kplr006922244</td><td>0.0</td></tr>\n",
       "<tr><td>9</td><td>Kepler Quarter 08</td><td>2011</td><td><a href='https://archive.stsci.edu/kepler/data_products.html'>Kepler</a></td><td>1800</td><td>kplr006922244</td><td>0.0</td></tr>\n",
       "<tr><td>10</td><td>Kepler Quarter 09</td><td>2011</td><td><a href='https://archive.stsci.edu/kepler/data_products.html'>Kepler</a></td><td>1800</td><td>kplr006922244</td><td>0.0</td></tr>\n",
       "<tr><td>11</td><td>Kepler Quarter 11</td><td>2012</td><td><a href='https://archive.stsci.edu/kepler/data_products.html'>Kepler</a></td><td>1800</td><td>kplr006922244</td><td>0.0</td></tr>\n",
       "<tr><td>12</td><td>Kepler Quarter 12</td><td>2012</td><td><a href='https://archive.stsci.edu/kepler/data_products.html'>Kepler</a></td><td>1800</td><td>kplr006922244</td><td>0.0</td></tr>\n",
       "<tr><td>13</td><td>Kepler Quarter 13</td><td>2012</td><td><a href='https://archive.stsci.edu/kepler/data_products.html'>Kepler</a></td><td>1800</td><td>kplr006922244</td><td>0.0</td></tr>\n",
       "<tr><td>14</td><td>Kepler Quarter 14</td><td>2012</td><td><a href='https://archive.stsci.edu/kepler/data_products.html'>Kepler</a></td><td>1800</td><td>kplr006922244</td><td>0.0</td></tr>\n",
       "<tr><td>15</td><td>Kepler Quarter 16</td><td>2013</td><td><a href='https://archive.stsci.edu/kepler/data_products.html'>Kepler</a></td><td>1800</td><td>kplr006922244</td><td>0.0</td></tr>\n",
       "<tr><td>16</td><td>Kepler Quarter 15</td><td>2013</td><td><a href='https://archive.stsci.edu/kepler/data_products.html'>Kepler</a></td><td>1800</td><td>kplr006922244</td><td>0.0</td></tr>\n",
       "<tr><td>17</td><td>Kepler Quarter 17</td><td>2013</td><td><a href='https://archive.stsci.edu/kepler/data_products.html'>Kepler</a></td><td>1800</td><td>kplr006922244</td><td>0.0</td></tr>\n",
       "</table>"
      ],
      "text/plain": [
       "SearchResult containing 18 data products.\n",
       "\n",
       " #       mission      year author exptime  target_name  distance\n",
       "                                     s                   arcsec \n",
       "--- ----------------- ---- ------ ------- ------------- --------\n",
       "  0 Kepler Quarter 00 2009 Kepler    1800 kplr006922244      0.0\n",
       "  1 Kepler Quarter 01 2009 Kepler    1800 kplr006922244      0.0\n",
       "  2 Kepler Quarter 02 2009 Kepler    1800 kplr006922244      0.0\n",
       "  3 Kepler Quarter 03 2009 Kepler    1800 kplr006922244      0.0\n",
       "  4 Kepler Quarter 04 2010 Kepler    1800 kplr006922244      0.0\n",
       "  5 Kepler Quarter 05 2010 Kepler    1800 kplr006922244      0.0\n",
       "  6 Kepler Quarter 06 2010 Kepler    1800 kplr006922244      0.0\n",
       "  7 Kepler Quarter 07 2010 Kepler    1800 kplr006922244      0.0\n",
       "  8 Kepler Quarter 10 2011 Kepler    1800 kplr006922244      0.0\n",
       "  9 Kepler Quarter 08 2011 Kepler    1800 kplr006922244      0.0\n",
       " 10 Kepler Quarter 09 2011 Kepler    1800 kplr006922244      0.0\n",
       " 11 Kepler Quarter 11 2012 Kepler    1800 kplr006922244      0.0\n",
       " 12 Kepler Quarter 12 2012 Kepler    1800 kplr006922244      0.0\n",
       " 13 Kepler Quarter 13 2012 Kepler    1800 kplr006922244      0.0\n",
       " 14 Kepler Quarter 14 2012 Kepler    1800 kplr006922244      0.0\n",
       " 15 Kepler Quarter 16 2013 Kepler    1800 kplr006922244      0.0\n",
       " 16 Kepler Quarter 15 2013 Kepler    1800 kplr006922244      0.0\n",
       " 17 Kepler Quarter 17 2013 Kepler    1800 kplr006922244      0.0"
      ]
     },
     "execution_count": 2,
     "metadata": {},
     "output_type": "execute_result"
    }
   ],
   "source": [
    "search_result = lk.search_lightcurve(\"Kepler-8\", author=\"Kepler\", cadence=\"long\")\n",
    "search_result"
   ]
  },
  {
   "cell_type": "markdown",
   "metadata": {
    "colab_type": "text",
    "id": "lVLJYXmhIQS0"
   },
   "source": [
    "In this list, each row represents a different observing period. We find that *Kepler* recorded the maxmimum of 18 quarters of data for this target across four years. The **observation** column lists the *Kepler* Quarter. The **target_name** represents the *Kepler* Input Catalogue (KIC) ID of the target, and the **productFilename** column is the name of the FITS files downloaded from MAST. The **distance** column shows the separation on the sky between the searched coordinates and the downloaded objects — this is only relevant when you pass a `radius` argument to the [search_lightcurve](https://lightkurve.github.io/lightkurve/reference/api/lightkurve.search_lightcurve.html) function to search for targets within a given search radius around a set of coordinates.\n",
    "\n",
    "The [search_lightcurve](https://lightkurve.github.io/lightkurve/reference/api/lightkurve.search_lightcurve.html) function takes several additional arguments, such as the `quarter` number (Kepler), `sector` number (TESS) or the `mission` name.\n",
    "\n",
    "The search function returns a `SearchResult` object which has several convenient operations. For example, we can select the fourth data product in the list as follows:"
   ]
  },
  {
   "cell_type": "code",
   "execution_count": 3,
   "metadata": {
    "colab": {
     "base_uri": "https://localhost:8080/",
     "height": 79
    },
    "colab_type": "code",
    "execution": {
     "iopub.execute_input": "2025-03-05T22:06:34.064831Z",
     "iopub.status.busy": "2025-03-05T22:06:34.064742Z",
     "iopub.status.idle": "2025-03-05T22:06:34.080607Z",
     "shell.execute_reply": "2025-03-05T22:06:34.080366Z"
    },
    "executionInfo": {
     "elapsed": 2957,
     "status": "ok",
     "timestamp": 1598411415420,
     "user": {
      "displayName": "Geert Barentsen",
      "photoUrl": "https://lh3.googleusercontent.com/a-/AOh14Gj8sjdnDeqdejfe7OoouYPIclAQV0KSTpsU469Jyeo=s64",
      "userId": "05704237875861987058"
     },
     "user_tz": 420
    },
    "id": "ND6NeQXroD2k",
    "outputId": "35d7df6b-0d44-4d96-e6ff-4ce2b7bc1729"
   },
   "outputs": [
    {
     "data": {
      "text/html": [
       "SearchResult containing 1 data products.\n",
       "\n",
       "<table id=\"table4962450384\">\n",
       "<thead><tr><th>#</th><th>mission</th><th>year</th><th>author</th><th>exptime</th><th>target_name</th><th>distance</th></tr></thead>\n",
       "<thead><tr><th></th><th></th><th></th><th></th><th>s</th><th></th><th>arcsec</th></tr></thead>\n",
       "<tr><td>0</td><td>Kepler Quarter 04</td><td>2010</td><td><a href='https://archive.stsci.edu/kepler/data_products.html'>Kepler</a></td><td>1800</td><td>kplr006922244</td><td>0.0</td></tr>\n",
       "</table>"
      ],
      "text/plain": [
       "SearchResult containing 1 data products.\n",
       "\n",
       " #       mission      year author exptime  target_name  distance\n",
       "                                     s                   arcsec \n",
       "--- ----------------- ---- ------ ------- ------------- --------\n",
       "  0 Kepler Quarter 04 2010 Kepler    1800 kplr006922244      0.0"
      ]
     },
     "execution_count": 3,
     "metadata": {},
     "output_type": "execute_result"
    }
   ],
   "source": [
    "search_result[4]"
   ]
  },
  {
   "cell_type": "markdown",
   "metadata": {
    "colab_type": "text",
    "id": "ViV32XjeoTyH"
   },
   "source": [
    "We can download this data product using the `download()` method:"
   ]
  },
  {
   "cell_type": "code",
   "execution_count": 4,
   "metadata": {
    "colab": {},
    "colab_type": "code",
    "execution": {
     "iopub.execute_input": "2025-03-05T22:06:34.081880Z",
     "iopub.status.busy": "2025-03-05T22:06:34.081804Z",
     "iopub.status.idle": "2025-03-05T22:06:34.133353Z",
     "shell.execute_reply": "2025-03-05T22:06:34.133127Z"
    },
    "id": "LrGKm1J_I06X"
   },
   "outputs": [],
   "source": [
    "klc = search_result[4].download()"
   ]
  },
  {
   "cell_type": "markdown",
   "metadata": {
    "colab_type": "text",
    "id": "VggPAWCMxb_E"
   },
   "source": [
    "This instruction is identical to the following line:"
   ]
  },
  {
   "cell_type": "code",
   "execution_count": 5,
   "metadata": {
    "colab": {},
    "colab_type": "code",
    "execution": {
     "iopub.execute_input": "2025-03-05T22:06:34.134924Z",
     "iopub.status.busy": "2025-03-05T22:06:34.134851Z",
     "iopub.status.idle": "2025-03-05T22:06:35.046277Z",
     "shell.execute_reply": "2025-03-05T22:06:35.045946Z"
    },
    "id": "tdSB08TZxVlX"
   },
   "outputs": [],
   "source": [
    "klc = lk.search_lightcurve(\"Kepler-8\", author=\"Kepler\", cadence=\"long\", quarter=4).download()\n"
   ]
  },
  {
   "cell_type": "markdown",
   "metadata": {
    "colab_type": "text",
    "id": "QG7NzLOFqJTm"
   },
   "source": [
    "The `klc` variable we have obtained in this way is a `KeplerLightCurve` object. This object contains time, flux, and flux error information, as well as a whole lot of data about spacecraft systematics. We can view all of them by calling the object by itself:"
   ]
  },
  {
   "cell_type": "code",
   "execution_count": 6,
   "metadata": {
    "colab": {
     "base_uri": "https://localhost:8080/",
     "height": 548
    },
    "colab_type": "code",
    "execution": {
     "iopub.execute_input": "2025-03-05T22:06:35.047908Z",
     "iopub.status.busy": "2025-03-05T22:06:35.047831Z",
     "iopub.status.idle": "2025-03-05T22:06:35.061929Z",
     "shell.execute_reply": "2025-03-05T22:06:35.061687Z"
    },
    "executionInfo": {
     "elapsed": 445,
     "status": "ok",
     "timestamp": 1598411449790,
     "user": {
      "displayName": "Geert Barentsen",
      "photoUrl": "https://lh3.googleusercontent.com/a-/AOh14Gj8sjdnDeqdejfe7OoouYPIclAQV0KSTpsU469Jyeo=s64",
      "userId": "05704237875861987058"
     },
     "user_tz": 420
    },
    "id": "3_ab1auTJG45",
    "outputId": "b01368b6-2cd0-479d-a326-91fc043ccc1b"
   },
   "outputs": [
    {
     "data": {
      "text/html": [
       "<div><i>KeplerLightCurve length=4116 LABEL=&quot;KIC 6922244&quot; QUARTER=4 AUTHOR=Kepler FLUX_ORIGIN=pdcsap_flux</i>\n",
       "<table id=\"table4397892432\" class=\"table-striped table-bordered table-condensed\">\n",
       "<thead><tr><th>time</th><th>flux</th><th>flux_err</th><th>quality</th><th>timecorr</th><th>centroid_col</th><th>centroid_row</th><th>cadenceno</th><th>sap_flux</th><th>sap_flux_err</th><th>sap_bkg</th><th>sap_bkg_err</th><th>pdcsap_flux</th><th>pdcsap_flux_err</th><th>sap_quality</th><th>psf_centr1</th><th>psf_centr1_err</th><th>psf_centr2</th><th>psf_centr2_err</th><th>mom_centr1</th><th>mom_centr1_err</th><th>mom_centr2</th><th>mom_centr2_err</th><th>pos_corr1</th><th>pos_corr2</th></tr></thead>\n",
       "<thead><tr><th></th><th>electron / s</th><th>electron / s</th><th></th><th>d</th><th>pix</th><th>pix</th><th></th><th>electron / s</th><th>electron / s</th><th>electron / s</th><th>electron / s</th><th>electron / s</th><th>electron / s</th><th></th><th>pix</th><th>pix</th><th>pix</th><th>pix</th><th>pix</th><th>pix</th><th>pix</th><th>pix</th><th>pix</th><th>pix</th></tr></thead>\n",
       "<thead><tr><th>Time</th><th>float32</th><th>float32</th><th>int32</th><th>float32</th><th>float64</th><th>float64</th><th>int32</th><th>float32</th><th>float32</th><th>float32</th><th>float32</th><th>float32</th><th>float32</th><th>int32</th><th>float64</th><th>float32</th><th>float64</th><th>float32</th><th>float64</th><th>float32</th><th>float64</th><th>float32</th><th>float32</th><th>float32</th></tr></thead>\n",
       "<tr><td>352.37632485035283</td><td>———</td><td>———</td><td>0</td><td>-1.410670e-03</td><td>682.69125</td><td>190.13296</td><td>11914</td><td>4.3689148e+04</td><td>6.6459765e+00</td><td>1.6722699e+03</td><td>4.6767941e-01</td><td>———</td><td>———</td><td>0</td><td>682.60927</td><td>7.8001787e-05</td><td>190.36814</td><td>1.1752916e-04</td><td>682.69125</td><td>1.8638317e-04</td><td>190.13296</td><td>1.8306405e-04</td><td>9.8764673e-02</td><td>-1.7217098e-01</td></tr>\n",
       "<tr><td>352.3967580484896</td><td>5.2490750e+04</td><td>8.0003128e+00</td><td>10000000000000</td><td>-1.411072e-03</td><td>682.69084</td><td>190.13270</td><td>11915</td><td>4.3698070e+04</td><td>6.6462421e+00</td><td>1.6698400e+03</td><td>4.6764868e-01</td><td>5.2490750e+04</td><td>8.0003128e+00</td><td>10000000000000</td><td>682.60900</td><td>7.7997785e-05</td><td>190.36777</td><td>1.1751152e-04</td><td>682.69084</td><td>1.8633612e-04</td><td>190.13270</td><td>1.8303936e-04</td><td>9.8700106e-02</td><td>-1.7229939e-01</td></tr>\n",
       "<tr><td>352.4376244455707</td><td>5.2484055e+04</td><td>7.9999790e+00</td><td>10000</td><td>-1.411874e-03</td><td>682.69038</td><td>190.13302</td><td>11917</td><td>4.3694105e+04</td><td>6.6461620e+00</td><td>1.6731306e+03</td><td>4.6705514e-01</td><td>5.2484055e+04</td><td>7.9999790e+00</td><td>10000</td><td>682.60862</td><td>7.7994831e-05</td><td>190.36848</td><td>1.1754913e-04</td><td>682.69038</td><td>1.8634219e-04</td><td>190.13302</td><td>1.8301954e-04</td><td>9.8306537e-02</td><td>-1.7180158e-01</td></tr>\n",
       "<tr><td>352.45805764463876</td><td>5.2491809e+04</td><td>8.0006199e+00</td><td>0</td><td>-1.412275e-03</td><td>682.69084</td><td>190.13257</td><td>11918</td><td>4.3698316e+04</td><td>6.6463132e+00</td><td>1.6741406e+03</td><td>4.6687824e-01</td><td>5.2491809e+04</td><td>8.0006199e+00</td><td>0</td><td>682.60872</td><td>7.7998680e-05</td><td>190.36792</td><td>1.1751390e-04</td><td>682.69084</td><td>1.8635279e-04</td><td>190.13257</td><td>1.8304381e-04</td><td>9.8410256e-02</td><td>-1.7202987e-01</td></tr>\n",
       "<tr><td>352.4784908439324</td><td>5.2478277e+04</td><td>7.9992733e+00</td><td>0</td><td>-1.412676e-03</td><td>682.68949</td><td>190.13304</td><td>11919</td><td>4.3687648e+04</td><td>6.6459165e+00</td><td>1.6723815e+03</td><td>4.6764576e-01</td><td>5.2478277e+04</td><td>7.9992733e+00</td><td>0</td><td>682.60829</td><td>7.7993544e-05</td><td>190.36814</td><td>1.1756293e-04</td><td>682.68949</td><td>1.8641398e-04</td><td>190.13304</td><td>1.8308057e-04</td><td>9.8039381e-02</td><td>-1.7183834e-01</td></tr>\n",
       "<tr><td>352.4989240434661</td><td>5.2475855e+04</td><td>7.9986620e+00</td><td>0</td><td>-1.413077e-03</td><td>682.69036</td><td>190.13318</td><td>11920</td><td>4.3686480e+04</td><td>6.6458707e+00</td><td>1.6734375e+03</td><td>4.6817183e-01</td><td>5.2475855e+04</td><td>7.9986620e+00</td><td>0</td><td>682.60852</td><td>7.7998702e-05</td><td>190.36875</td><td>1.1761812e-04</td><td>682.69036</td><td>1.8637831e-04</td><td>190.13318</td><td>1.8304847e-04</td><td>9.8102726e-02</td><td>-1.7151666e-01</td></tr>\n",
       "<tr><td>352.5193572433491</td><td>5.2487070e+04</td><td>7.9990516e+00</td><td>0</td><td>-1.413477e-03</td><td>682.69073</td><td>190.13307</td><td>11921</td><td>4.3692590e+04</td><td>6.6460714e+00</td><td>1.6731461e+03</td><td>4.6760359e-01</td><td>5.2487070e+04</td><td>7.9990516e+00</td><td>0</td><td>682.60880</td><td>7.8005593e-05</td><td>190.36825</td><td>1.1757523e-04</td><td>682.69073</td><td>1.8636670e-04</td><td>190.13307</td><td>1.8304495e-04</td><td>9.8343305e-02</td><td>-1.7184900e-01</td></tr>\n",
       "<tr><td>352.53979034345684</td><td>5.2507734e+04</td><td>8.0051088e+00</td><td>10000000</td><td>-1.413877e-03</td><td>682.68909</td><td>190.13338</td><td>11922</td><td>4.3712012e+04</td><td>6.6500912e+00</td><td>1.6725844e+03</td><td>4.6755314e-01</td><td>5.2507734e+04</td><td>8.0051088e+00</td><td>10000000</td><td>682.60829</td><td>7.7979123e-05</td><td>190.36859</td><td>1.1755893e-04</td><td>682.68909</td><td>1.8644832e-04</td><td>190.13338</td><td>1.8299681e-04</td><td>9.8101854e-02</td><td>-1.7161448e-01</td></tr>\n",
       "<tr><td>352.56022364380624</td><td>5.2472902e+04</td><td>8.0007839e+00</td><td>0</td><td>-1.414276e-03</td><td>682.69022</td><td>190.13343</td><td>11923</td><td>4.3683984e+04</td><td>6.6457977e+00</td><td>1.6750397e+03</td><td>4.6755785e-01</td><td>5.2472902e+04</td><td>8.0007839e+00</td><td>0</td><td>682.60824</td><td>7.7997676e-05</td><td>190.36889</td><td>1.1760603e-04</td><td>682.69022</td><td>1.8638840e-04</td><td>190.13343</td><td>1.8307337e-04</td><td>9.7997010e-02</td><td>-1.7128757e-01</td></tr>\n",
       "<tr><td>...</td><td>...</td><td>...</td><td>...</td><td>...</td><td>...</td><td>...</td><td>...</td><td>...</td><td>...</td><td>...</td><td>...</td><td>...</td><td>...</td><td>...</td><td>...</td><td>...</td><td>...</td><td>...</td><td>...</td><td>...</td><td>...</td><td>...</td><td>...</td><td>...</td></tr>\n",
       "<tr><td>442.0400292694467</td><td>5.2484672e+04</td><td>7.9713697e+00</td><td>0</td><td>-3.401506e-04</td><td>682.49096</td><td>190.34401</td><td>16302</td><td>4.3162852e+04</td><td>6.6141791e+00</td><td>1.4984926e+03</td><td>4.6637267e-01</td><td>5.2484672e+04</td><td>7.9713697e+00</td><td>0</td><td>682.42309</td><td>7.3324874e-05</td><td>190.68494</td><td>9.3243980e-05</td><td>682.49096</td><td>1.8510064e-04</td><td>190.34401</td><td>1.8683969e-04</td><td>-7.9640254e-02</td><td>1.3871230e-01</td></tr>\n",
       "<tr><td>442.0604635348791</td><td>5.2490562e+04</td><td>7.9703860e+00</td><td>0</td><td>-3.393851e-04</td><td>682.49125</td><td>190.34495</td><td>16303</td><td>4.3167781e+04</td><td>6.6144958e+00</td><td>1.5003789e+03</td><td>4.6711573e-01</td><td>5.2490562e+04</td><td>7.9703860e+00</td><td>0</td><td>682.42306</td><td>7.3320742e-05</td><td>190.68526</td><td>9.3141578e-05</td><td>682.49125</td><td>1.8497938e-04</td><td>190.34495</td><td>1.8685836e-04</td><td>-7.9665780e-02</td><td>1.3868718e-01</td></tr>\n",
       "<tr><td>442.0808979004214</td><td>5.2474590e+04</td><td>7.9709330e+00</td><td>10000000</td><td>-3.386196e-04</td><td>682.49142</td><td>190.34449</td><td>16304</td><td>4.3156332e+04</td><td>6.6142426e+00</td><td>1.5022838e+03</td><td>4.6630958e-01</td><td>5.2474590e+04</td><td>7.9709330e+00</td><td>10000000</td><td>682.42296</td><td>7.3331044e-05</td><td>190.68509</td><td>9.3194321e-05</td><td>682.49142</td><td>1.8501014e-04</td><td>190.34449</td><td>1.8690975e-04</td><td>-7.9900064e-02</td><td>1.3900562e-01</td></tr>\n",
       "<tr><td>442.1013323661464</td><td>5.2484648e+04</td><td>7.9707704e+00</td><td>0</td><td>-3.378539e-04</td><td>682.49086</td><td>190.34446</td><td>16305</td><td>4.3164066e+04</td><td>6.6142449e+00</td><td>1.4996798e+03</td><td>4.6686992e-01</td><td>5.2484648e+04</td><td>7.9707704e+00</td><td>0</td><td>682.42295</td><td>7.3321760e-05</td><td>190.68497</td><td>9.3209848e-05</td><td>682.49086</td><td>1.8497877e-04</td><td>190.34446</td><td>1.8690305e-04</td><td>-7.9818368e-02</td><td>1.3874538e-01</td></tr>\n",
       "<tr><td>442.1217667319579</td><td>5.2479809e+04</td><td>7.9702587e+00</td><td>10000000000000</td><td>-3.370880e-04</td><td>682.49145</td><td>190.34413</td><td>16306</td><td>4.3160660e+04</td><td>6.6141462e+00</td><td>1.4999071e+03</td><td>4.6648329e-01</td><td>5.2479809e+04</td><td>7.9702587e+00</td><td>10000000000000</td><td>682.42312</td><td>7.3320341e-05</td><td>190.68516</td><td>9.3171802e-05</td><td>682.49145</td><td>1.8498853e-04</td><td>190.34413</td><td>1.8685416e-04</td><td>-7.9732254e-02</td><td>1.3886212e-01</td></tr>\n",
       "<tr><td>442.1422009979142</td><td>5.2475605e+04</td><td>7.9712372e+00</td><td>0</td><td>-3.363221e-04</td><td>682.49124</td><td>190.34487</td><td>16307</td><td>4.3157629e+04</td><td>6.6139336e+00</td><td>1.4981315e+03</td><td>4.6694338e-01</td><td>5.2475605e+04</td><td>7.9712372e+00</td><td>0</td><td>682.42282</td><td>7.3328265e-05</td><td>190.68556</td><td>9.3097420e-05</td><td>682.49124</td><td>1.8495553e-04</td><td>190.34487</td><td>1.8686226e-04</td><td>-7.9895072e-02</td><td>1.3914314e-01</td></tr>\n",
       "<tr><td>442.16263546398113</td><td>5.2475305e+04</td><td>7.9707313e+00</td><td>0</td><td>-3.355560e-04</td><td>682.49104</td><td>190.34460</td><td>16308</td><td>4.3155801e+04</td><td>6.6138582e+00</td><td>1.4982946e+03</td><td>4.6778497e-01</td><td>5.2475305e+04</td><td>7.9707313e+00</td><td>0</td><td>682.42288</td><td>7.3337091e-05</td><td>190.68500</td><td>9.3226627e-05</td><td>682.49104</td><td>1.8501762e-04</td><td>190.34460</td><td>1.8689682e-04</td><td>-7.9854071e-02</td><td>1.3877387e-01</td></tr>\n",
       "<tr><td>442.1830698302001</td><td>5.2465984e+04</td><td>7.9693055e+00</td><td>0</td><td>-3.347898e-04</td><td>682.49114</td><td>190.34490</td><td>16309</td><td>4.3148465e+04</td><td>6.6134605e+00</td><td>1.4987802e+03</td><td>4.6625513e-01</td><td>5.2465984e+04</td><td>7.9693055e+00</td><td>0</td><td>682.42267</td><td>7.3346317e-05</td><td>190.68542</td><td>9.3117917e-05</td><td>682.49114</td><td>1.8503764e-04</td><td>190.34490</td><td>1.8691395e-04</td><td>-7.9959184e-02</td><td>1.3906266e-01</td></tr>\n",
       "<tr><td>442.20350409652747</td><td>5.2471043e+04</td><td>7.9698005e+00</td><td>0</td><td>-3.340235e-04</td><td>682.49069</td><td>190.34464</td><td>16310</td><td>4.3151559e+04</td><td>6.6137042e+00</td><td>1.4977747e+03</td><td>4.6697757e-01</td><td>5.2471043e+04</td><td>7.9698005e+00</td><td>0</td><td>682.42272</td><td>7.3345473e-05</td><td>190.68528</td><td>9.3169489e-05</td><td>682.49069</td><td>1.8501126e-04</td><td>190.34464</td><td>1.8690964e-04</td><td>-7.9990946e-02</td><td>1.3905971e-01</td></tr>\n",
       "</table></div>"
      ],
      "text/plain": [
       "<KeplerLightCurve length=4116 LABEL=\"KIC 6922244\" QUARTER=4 AUTHOR=Kepler FLUX_ORIGIN=pdcsap_flux>\n",
       "       time             flux      ...   pos_corr1      pos_corr2   \n",
       "                    electron / s  ...      pix            pix      \n",
       "       Time           float32     ...    float32        float32    \n",
       "------------------ -------------- ... -------------- --------------\n",
       "352.37632485035283            ——— ...  9.8764673e-02 -1.7217098e-01\n",
       " 352.3967580484896  5.2490750e+04 ...  9.8700106e-02 -1.7229939e-01\n",
       " 352.4376244455707  5.2484055e+04 ...  9.8306537e-02 -1.7180158e-01\n",
       "352.45805764463876  5.2491809e+04 ...  9.8410256e-02 -1.7202987e-01\n",
       " 352.4784908439324  5.2478277e+04 ...  9.8039381e-02 -1.7183834e-01\n",
       " 352.4989240434661  5.2475855e+04 ...  9.8102726e-02 -1.7151666e-01\n",
       " 352.5193572433491  5.2487070e+04 ...  9.8343305e-02 -1.7184900e-01\n",
       "352.53979034345684  5.2507734e+04 ...  9.8101854e-02 -1.7161448e-01\n",
       "352.56022364380624  5.2472902e+04 ...  9.7997010e-02 -1.7128757e-01\n",
       "               ...            ... ...            ...            ...\n",
       " 442.0400292694467  5.2484672e+04 ... -7.9640254e-02  1.3871230e-01\n",
       " 442.0604635348791  5.2490562e+04 ... -7.9665780e-02  1.3868718e-01\n",
       " 442.0808979004214  5.2474590e+04 ... -7.9900064e-02  1.3900562e-01\n",
       " 442.1013323661464  5.2484648e+04 ... -7.9818368e-02  1.3874538e-01\n",
       " 442.1217667319579  5.2479809e+04 ... -7.9732254e-02  1.3886212e-01\n",
       " 442.1422009979142  5.2475605e+04 ... -7.9895072e-02  1.3914314e-01\n",
       "442.16263546398113  5.2475305e+04 ... -7.9854071e-02  1.3877387e-01\n",
       " 442.1830698302001  5.2465984e+04 ... -7.9959184e-02  1.3906266e-01\n",
       "442.20350409652747  5.2471043e+04 ... -7.9990946e-02  1.3905971e-01"
      ]
     },
     "execution_count": 6,
     "metadata": {},
     "output_type": "execute_result"
    }
   ],
   "source": [
    "klc"
   ]
  },
  {
   "cell_type": "markdown",
   "metadata": {
    "colab_type": "text",
    "id": "kbyfq_c6JLAS"
   },
   "source": [
    "This object provides a convenient way to interact with the data file that has been returned by the archive, which contains both the light curve data and metadata about the observations.\n",
    "\n",
    "Before diving into the properties of the light curve file, we can plot the data, also using Lightkurve."
   ]
  },
  {
   "cell_type": "code",
   "execution_count": 7,
   "metadata": {
    "colab": {
     "base_uri": "https://localhost:8080/",
     "height": 387
    },
    "colab_type": "code",
    "execution": {
     "iopub.execute_input": "2025-03-05T22:06:35.063186Z",
     "iopub.status.busy": "2025-03-05T22:06:35.063119Z",
     "iopub.status.idle": "2025-03-05T22:06:35.260226Z",
     "shell.execute_reply": "2025-03-05T22:06:35.260007Z"
    },
    "executionInfo": {
     "elapsed": 1092,
     "status": "ok",
     "timestamp": 1598411480541,
     "user": {
      "displayName": "Geert Barentsen",
      "photoUrl": "https://lh3.googleusercontent.com/a-/AOh14Gj8sjdnDeqdejfe7OoouYPIclAQV0KSTpsU469Jyeo=s64",
      "userId": "05704237875861987058"
     },
     "user_tz": 420
    },
    "id": "-MSfDW-FJmyO",
    "outputId": "2ee9edcc-4580-4b77-905d-30bbbd7e89c8"
   },
   "outputs": [
    {
     "data": {
      "image/png": "[encoded data removed]",
      "text/plain": [
       "<Figure size 848.5x400 with 1 Axes>"
      ]
     },
     "metadata": {},
     "output_type": "display_data"
    }
   ],
   "source": [
    "%matplotlib inline\n",
    "klc.plot();"
   ]
  },
  {
   "cell_type": "markdown",
   "metadata": {
    "colab_type": "text",
    "id": "-TCbuQWaPmLK"
   },
   "source": [
    "On this plot, the y-axis is flux in electrons per second. This unit may appear counterintutive, as flux is a measure of brightness. The CCD cameras measure an electrical charge, and so light is recorded as electrons, not photons as you might expect. On the x-axis we have time in Barycentric Kepler Julian Date (BKJD). In short, the x-axis values are days since the start of the *Kepler* mission. The repeating dips in brightness are transits, the effect of a planet orbiting Kepler-8 and passing between us and the star."
   ]
  },
  {
   "cell_type": "markdown",
   "metadata": {
    "colab_type": "text",
    "id": "4rifJm0FPmLK"
   },
   "source": [
    "### Note\n",
    "\n",
    "You can also download light curve FITS files from the archive by hand, store them on your local disk, and open them using the `lk.read(<filename>)` function. This function will return a `KeplerLightCurve` object just as in the above example. You can find out where Lightkurve stored a light curve file using the `filename` attribute:"
   ]
  },
  {
   "cell_type": "code",
   "execution_count": 8,
   "metadata": {
    "colab": {
     "base_uri": "https://localhost:8080/",
     "height": 52
    },
    "colab_type": "code",
    "execution": {
     "iopub.execute_input": "2025-03-05T22:06:35.261636Z",
     "iopub.status.busy": "2025-03-05T22:06:35.261558Z",
     "iopub.status.idle": "2025-03-05T22:06:35.263454Z",
     "shell.execute_reply": "2025-03-05T22:06:35.263253Z"
    },
    "executionInfo": {
     "elapsed": 514,
     "status": "ok",
     "timestamp": 1598411547611,
     "user": {
      "displayName": "Geert Barentsen",
      "photoUrl": "https://lh3.googleusercontent.com/a-/AOh14Gj8sjdnDeqdejfe7OoouYPIclAQV0KSTpsU469Jyeo=s64",
      "userId": "05704237875861987058"
     },
     "user_tz": 420
    },
    "id": "aFiaMvn2wBrr",
    "outputId": "4f3f24e0-baac-45a3-b6d6-6e5a7c466c5b"
   },
   "outputs": [
    {
     "data": {
      "text/plain": [
       "'/Users/nthom/.lightkurve/cache/mastDownload/Kepler/kplr006922244_lc_Q111111111111111111/kplr006922244-2010078095331_llc.fits'"
      ]
     },
     "execution_count": 8,
     "metadata": {},
     "output_type": "execute_result"
    }
   ],
   "source": [
    "klc.filename"
   ]
  },
  {
   "cell_type": "markdown",
   "metadata": {
    "colab_type": "text",
    "id": "i8-13ApfJn5l"
   },
   "source": [
    "## 3. The SAP and PDCSAP Light Curves"
   ]
  },
  {
   "cell_type": "markdown",
   "metadata": {
    "colab_type": "text",
    "id": "Ku2tnoE0LHvj"
   },
   "source": [
    "As you can see in the Table above, there are two different types of flux stored in the `KeplerLightCurve` object. These correspond to different levels of data treatment performed for this star by NASA's [*Kepler* Data Processing Pipeline](https://github.com/nasa/kepler-pipeline/): the simple aperture photometry (SAP) flux, and the presearch data conditioning SAP (PDCSAP) flux. \n",
    "\n",
    "By default, a `KeplerLightCurve` will set the PDCSAP flux to its `.flux` property. "
   ]
  },
  {
   "cell_type": "markdown",
   "metadata": {
    "colab_type": "text",
    "id": "5pCad88OZWxV"
   },
   "source": [
    "To compare the PDCSAP and the SAP flux, we can use the `column` keyword while plotting.\n",
    "\n",
    "**Note**: alternatively, you can replace the `flux` column with the `sap_flux` column by using `klc.flux = klc['sap_flux']`.\n"
   ]
  },
  {
   "cell_type": "code",
   "execution_count": 9,
   "metadata": {
    "colab": {
     "base_uri": "https://localhost:8080/",
     "height": 387
    },
    "colab_type": "code",
    "execution": {
     "iopub.execute_input": "2025-03-05T22:06:35.264777Z",
     "iopub.status.busy": "2025-03-05T22:06:35.264691Z",
     "iopub.status.idle": "2025-03-05T22:06:35.367284Z",
     "shell.execute_reply": "2025-03-05T22:06:35.367037Z"
    },
    "executionInfo": {
     "elapsed": 1081,
     "status": "ok",
     "timestamp": 1598411618875,
     "user": {
      "displayName": "Geert Barentsen",
      "photoUrl": "https://lh3.googleusercontent.com/a-/AOh14Gj8sjdnDeqdejfe7OoouYPIclAQV0KSTpsU469Jyeo=s64",
      "userId": "05704237875861987058"
     },
     "user_tz": 420
    },
    "id": "x3d0KwojZeRU",
    "outputId": "886daacc-89bc-48c7-bfb6-1ad4e4c5b6cf"
   },
   "outputs": [
    {
     "data": {
      "image/png": "[encoded data removed]",
      "text/plain": [
       "<Figure size 848.5x400 with 1 Axes>"
      ]
     },
     "metadata": {},
     "output_type": "display_data"
    }
   ],
   "source": [
    "ax = klc.plot(column='pdcsap_flux', label='PDCSAP Flux', normalize=True)\n",
    "klc.plot(column='sap_flux', label='SAP Flux', normalize=True, ax=ax);"
   ]
  },
  {
   "cell_type": "markdown",
   "metadata": {
    "colab_type": "text",
    "id": "-P3Sw3q2ZXFU"
   },
   "source": [
    "In brief:\n",
    "\n",
    "* The SAP light curve is calculated by summing together the brightness of pixels that fall within an aperture set by the *Kepler* mission. This is often referred to as the *optimal aperture*, but in spite of its name can sometimes be improved upon! Because the SAP light curve is a sum of the brightness in chosen pixels, it is still subject to systematic artifacts of the mission.\n",
    "\n",
    "* The PDCSAP light curve is subject to more treatment than the SAP light curve, and is specifically intended for detecting planets. The PDCSAP pipeline attempts to remove systematic artifacts while keeping planetary transits intact.\n",
    "\n",
    "Looking at the figure we made above, you can see that the SAP light curve has a long-term change in brightness that has been removed in the PDCSAP light curve, while keeping the transits at the same depth. For most inspections, a PDCSAP light curve is what you want to use, but when looking at astronomical phenomena that aren't planets (for example, long-term variability), the SAP flux may be preferred."
   ]
  },
  {
   "cell_type": "markdown",
   "metadata": {
    "colab_type": "text",
    "id": "1kiEJMntM0lS"
   },
   "source": [
    "For now, let's continue to use the PDCSAP flux only. Because this is the default `.flux` property of our light curve object, we don't need to change anything."
   ]
  },
  {
   "cell_type": "markdown",
   "metadata": {
    "colab_type": "text",
    "id": "QEMvFFHt1GmJ"
   },
   "source": [
    "### Note\n",
    "\n",
    "The `plot()` methods in Lightkurve always return a [Matplotlib](https://matplotlib.org/) object. This is useful because it lets us manipulate the plot using standard Matplotlib functions. For example, we can set the title as follows:"
   ]
  },
  {
   "cell_type": "code",
   "execution_count": 10,
   "metadata": {
    "colab": {
     "base_uri": "https://localhost:8080/",
     "height": 409
    },
    "colab_type": "code",
    "execution": {
     "iopub.execute_input": "2025-03-05T22:06:35.368687Z",
     "iopub.status.busy": "2025-03-05T22:06:35.368605Z",
     "iopub.status.idle": "2025-03-05T22:06:35.480017Z",
     "shell.execute_reply": "2025-03-05T22:06:35.479791Z"
    },
    "executionInfo": {
     "elapsed": 1038,
     "status": "ok",
     "timestamp": 1598411761988,
     "user": {
      "displayName": "Geert Barentsen",
      "photoUrl": "https://lh3.googleusercontent.com/a-/AOh14Gj8sjdnDeqdejfe7OoouYPIclAQV0KSTpsU469Jyeo=s64",
      "userId": "05704237875861987058"
     },
     "user_tz": 420
    },
    "id": "PW0JtUdN1Edt",
    "outputId": "4ee23b57-1a0a-4adf-a4b0-2a8af3044796"
   },
   "outputs": [
    {
     "data": {
      "image/png": "[encoded data removed]",
      "text/plain": [
       "<Figure size 848.5x400 with 1 Axes>"
      ]
     },
     "metadata": {},
     "output_type": "display_data"
    }
   ],
   "source": [
    "ax = klc.plot() \n",
    "ax.set_title(\"PDCSAP light curve of Kepler-8\");"
   ]
  },
  {
   "cell_type": "markdown",
   "metadata": {
    "colab_type": "text",
    "id": "PnfQZh0pxvDS"
   },
   "source": [
    "And the figure can be saved as follows:"
   ]
  },
  {
   "cell_type": "code",
   "execution_count": 11,
   "metadata": {
    "colab": {},
    "colab_type": "code",
    "execution": {
     "iopub.execute_input": "2025-03-05T22:06:35.481325Z",
     "iopub.status.busy": "2025-03-05T22:06:35.481258Z",
     "iopub.status.idle": "2025-03-05T22:06:35.525021Z",
     "shell.execute_reply": "2025-03-05T22:06:35.524794Z"
    },
    "id": "4n4WgwPQxLz6"
   },
   "outputs": [],
   "source": [
    "ax.figure.savefig('demo-lightcurve.png')"
   ]
  },
  {
   "cell_type": "markdown",
   "metadata": {
    "colab_type": "text",
    "id": "RnYPeb8bPJcO"
   },
   "source": [
    "## 4. Accessing the Metadata"
   ]
  },
  {
   "cell_type": "markdown",
   "metadata": {
    "colab_type": "text",
    "id": "VYPAC5XrP-AQ"
   },
   "source": [
    "When downloading data from MAST, that data usually comes in the format of a FITS file. These FITS files carry a wealth of metadata about the observation. When these are loaded in to Lightkurve to create a `KeplerLightCurve`, all of the metadata are stored in the `.meta` property of the object.\n",
    "\n",
    "We can view these metadata by calling this property, as follows:"
   ]
  },
  {
   "cell_type": "code",
   "execution_count": 12,
   "metadata": {
    "colab": {
     "base_uri": "https://localhost:8080/",
     "height": 1000
    },
    "colab_type": "code",
    "execution": {
     "iopub.execute_input": "2025-03-05T22:06:35.526492Z",
     "iopub.status.busy": "2025-03-05T22:06:35.526412Z",
     "iopub.status.idle": "2025-03-05T22:06:35.528946Z",
     "shell.execute_reply": "2025-03-05T22:06:35.528730Z"
    },
    "executionInfo": {
     "elapsed": 359,
     "status": "ok",
     "timestamp": 1598412020718,
     "user": {
      "displayName": "Geert Barentsen",
      "photoUrl": "https://lh3.googleusercontent.com/a-/AOh14Gj8sjdnDeqdejfe7OoouYPIclAQV0KSTpsU469Jyeo=s64",
      "userId": "05704237875861987058"
     },
     "user_tz": 420
    },
    "id": "f4-QjyATPmLW",
    "outputId": "ab1049a7-c617-452d-d29e-ebd67b071661"
   },
   "outputs": [
    {
     "data": {
      "text/plain": [
       "{'INHERIT': True,\n",
       " 'EXTNAME': 'PRIMARY',\n",
       " 'EXTVER': 1,\n",
       " 'TELESCOP': 'Kepler',\n",
       " 'INSTRUME': 'Kepler Photometer',\n",
       " 'OBJECT': 'KIC 6922244',\n",
       " 'KEPLERID': 6922244,\n",
       " 'RADESYS': 'ICRS',\n",
       " 'RA_OBJ': 281.28812,\n",
       " 'DEC_OBJ': 42.45108,\n",
       " 'EQUINOX': 2000.0,\n",
       " 'EXPOSURE': 82.71685005,\n",
       " 'TIMEREF': 'SOLARSYSTEM',\n",
       " 'TASSIGN': 'SPACECRAFT',\n",
       " 'TIMESYS': 'TDB',\n",
       " 'BJDREFI': 2454833,\n",
       " 'BJDREFF': 0.0,\n",
       " 'TIMEUNIT': 'd',\n",
       " 'TELAPSE': 89.84761299,\n",
       " 'LIVETIME': 82.71685005,\n",
       " 'TSTART': 352.36610827,\n",
       " 'TSTOP': 442.21372126,\n",
       " 'LC_START': 55184.87773552,\n",
       " 'LC_END': 55274.70383812,\n",
       " 'DEADC': 0.92063492,\n",
       " 'TIMEPIXR': 0.5,\n",
       " 'TIERRELA': 5.78e-07,\n",
       " 'TIERABSO': <astropy.io.fits.card.Undefined at 0x127d57810>,\n",
       " 'INT_TIME': 6.01980290327,\n",
       " 'READTIME': 0.518948526144,\n",
       " 'FRAMETIM': 6.538751429414,\n",
       " 'NUM_FRM': 270,\n",
       " 'TIMEDEL': 0.02043359821692,\n",
       " 'DATE-OBS': '2009-12-19T20:49:13.619Z',\n",
       " 'DATE-END': '2010-03-19T17:08:14.343Z',\n",
       " 'BACKAPP': True,\n",
       " 'DEADAPP': True,\n",
       " 'VIGNAPP': True,\n",
       " 'GAIN': 115.49,\n",
       " 'READNOIS': 83.014212,\n",
       " 'NREADOUT': 270,\n",
       " 'TIMSLICE': 1,\n",
       " 'MEANBLCK': 715,\n",
       " 'LCFXDOFF': 419400,\n",
       " 'SCFXDOFF': 219400,\n",
       " 'CDPP3_0': 74.77433013916016,\n",
       " 'CDPP6_0': 61.75667190551758,\n",
       " 'CDPP12_0': 56.56961441040039,\n",
       " 'CROWDSAP': 1.0,\n",
       " 'FLFRCSAP': 0.8286,\n",
       " 'NSPSDDET': 0,\n",
       " 'NSPSDCOR': 0,\n",
       " 'PDCVAR': 0.5488878488540649,\n",
       " 'PDCMETHD': 'multiScaleMap',\n",
       " 'NUMBAND': 3,\n",
       " 'FITTYPE1': 'robust',\n",
       " 'PR_GOOD1': 0.0,\n",
       " 'PR_WGHT1': 0.0,\n",
       " 'FITTYPE2': 'prior',\n",
       " 'PR_GOOD2': 0.47542938590049744,\n",
       " 'PR_WGHT2': 22.81161117553711,\n",
       " 'FITTYPE3': 'prior',\n",
       " 'PR_GOOD3': 0.9755752682685852,\n",
       " 'PR_WGHT3': 46.809146881103516,\n",
       " 'PDC_TOT': 0.45028069615364075,\n",
       " 'PDC_TOTP': 0.2651563882827759,\n",
       " 'PDC_COR': 0.9997496604919434,\n",
       " 'PDC_CORP': 86.80510711669922,\n",
       " 'PDC_VAR': 0.9991965293884277,\n",
       " 'PDC_VARP': 86.88060760498047,\n",
       " 'PDC_NOI': 0.9822107553482056,\n",
       " 'PDC_NOIP': 99.34284210205078,\n",
       " 'PDC_EPT': 1.0,\n",
       " 'PDC_EPTP': 77.33592224121094,\n",
       " 'CHECKSUM': '9pCbEmCZ9mCbCmCZ',\n",
       " 'SIMPLE': True,\n",
       " 'BITPIX': 8,\n",
       " 'NAXIS': 0,\n",
       " 'EXTEND': True,\n",
       " 'NEXTEND': 2,\n",
       " 'ORIGIN': 'NASA/Ames',\n",
       " 'DATE': '2015-09-11',\n",
       " 'CREATOR': '859340 FluxExporter2PipelineModule',\n",
       " 'PROCVER': 'svn+ssh://murzim/repo/soc/tags/release/9.3.22 r60269',\n",
       " 'FILEVER': '6.1',\n",
       " 'TIMVERSN': 'OGIP/93-003',\n",
       " 'CHANNEL': 31,\n",
       " 'SKYGROUP': 31,\n",
       " 'MODULE': 10,\n",
       " 'OUTPUT': 3,\n",
       " 'QUARTER': 4,\n",
       " 'SEASON': 2,\n",
       " 'DATA_REL': 25,\n",
       " 'OBSMODE': 'long cadence',\n",
       " 'MISSION': 'Kepler',\n",
       " 'TTABLEID': 29,\n",
       " 'PMRA': 0.0,\n",
       " 'PMDEC': 0.0,\n",
       " 'PMTOTAL': 0.0,\n",
       " 'PARALLAX': None,\n",
       " 'GLON': 71.6589,\n",
       " 'GLAT': 19.012749,\n",
       " 'GMAG': 13.886,\n",
       " 'RMAG': 13.511,\n",
       " 'IMAG': 13.424,\n",
       " 'ZMAG': 13.413,\n",
       " 'D51MAG': 13.7,\n",
       " 'JMAG': 12.576,\n",
       " 'HMAG': 12.323,\n",
       " 'KMAG': 12.292,\n",
       " 'KEPMAG': 13.563,\n",
       " 'GRCOLOR': 0.375,\n",
       " 'JKCOLOR': 0.284,\n",
       " 'GKCOLOR': 1.594,\n",
       " 'TEFF': 6225,\n",
       " 'LOGG': 4.169,\n",
       " 'FEH': -0.04,\n",
       " 'EBMINUSV': 0.096,\n",
       " 'AV': 0.297,\n",
       " 'RADIUS': 1.451,\n",
       " 'TMINDEX': 262064792,\n",
       " 'SCPID': 262064792,\n",
       " 'LABEL': 'KIC 6922244',\n",
       " 'RA': 281.28812,\n",
       " 'DEC': 42.45108,\n",
       " 'FILENAME': '/Users/nthom/.lightkurve/cache/mastDownload/Kepler/kplr006922244_lc_Q111111111111111111/kplr006922244-2010078095331_llc.fits',\n",
       " 'FLUX_ORIGIN': 'pdcsap_flux',\n",
       " 'AUTHOR': 'Kepler',\n",
       " 'TARGETID': 6922244,\n",
       " 'QUALITY_BITMASK': 'default',\n",
       " 'QUALITY_MASK': array([ True,  True, False, ...,  True,  True,  True], shape=(4159,))}"
      ]
     },
     "execution_count": 12,
     "metadata": {},
     "output_type": "execute_result"
    }
   ],
   "source": [
    "klc.meta"
   ]
  },
  {
   "cell_type": "markdown",
   "metadata": {
    "colab_type": "text",
    "id": "9A8HvYu5cSGu"
   },
   "source": [
    "As you can see, there is a lot here if you don't know what you are looking for! These metadata don't just include information about the observations, but also data from the [*Kepler* Input Catalogue (KIC)](https://ui.adsabs.harvard.edu/abs/2011AJ....142..112B/abstract) (or in the case of `TessLightCurve`s, the [*TESS* Input Catalogue (TIC)](https://arxiv.org/abs/1706.00495)) used to select observing targets, such as their magnitudes and temperature."
   ]
  },
  {
   "cell_type": "markdown",
   "metadata": {
    "colab_type": "text",
    "id": "21vUfjLy8xcR"
   },
   "source": [
    "The `.meta` property is a [Python dictionary](https://docs.python.org/3/tutorial/datastructures.html#dictionaries), which has some convenient features. For example, we can retrieve the value of an individual keyword as follows:"
   ]
  },
  {
   "cell_type": "code",
   "execution_count": 13,
   "metadata": {
    "colab": {
     "base_uri": "https://localhost:8080/",
     "height": 34
    },
    "colab_type": "code",
    "execution": {
     "iopub.execute_input": "2025-03-05T22:06:35.530233Z",
     "iopub.status.busy": "2025-03-05T22:06:35.530165Z",
     "iopub.status.idle": "2025-03-05T22:06:35.531902Z",
     "shell.execute_reply": "2025-03-05T22:06:35.531705Z"
    },
    "executionInfo": {
     "elapsed": 421,
     "status": "ok",
     "timestamp": 1598412035354,
     "user": {
      "displayName": "Geert Barentsen",
      "photoUrl": "https://lh3.googleusercontent.com/a-/AOh14Gj8sjdnDeqdejfe7OoouYPIclAQV0KSTpsU469Jyeo=s64",
      "userId": "05704237875861987058"
     },
     "user_tz": 420
    },
    "id": "Jzy3IZ0g8tCf",
    "outputId": "5b19b2e0-6629-449e-fb35-946d13e073c0"
   },
   "outputs": [
    {
     "data": {
      "text/plain": [
       "4"
      ]
     },
     "execution_count": 13,
     "metadata": {},
     "output_type": "execute_result"
    }
   ],
   "source": [
    "klc.meta['QUARTER']"
   ]
  },
  {
   "cell_type": "markdown",
   "metadata": {
    "colab_type": "text",
    "id": "xzvZWOp3dPn-"
   },
   "source": [
    "Alternatively, we can use the `.get()` method, which accounts for queries that aren't in the dictionary."
   ]
  },
  {
   "cell_type": "code",
   "execution_count": 14,
   "metadata": {
    "colab": {
     "base_uri": "https://localhost:8080/",
     "height": 35
    },
    "colab_type": "code",
    "execution": {
     "iopub.execute_input": "2025-03-05T22:06:35.533091Z",
     "iopub.status.busy": "2025-03-05T22:06:35.533027Z",
     "iopub.status.idle": "2025-03-05T22:06:35.534861Z",
     "shell.execute_reply": "2025-03-05T22:06:35.534669Z"
    },
    "executionInfo": {
     "elapsed": 520,
     "status": "ok",
     "timestamp": 1598412059413,
     "user": {
      "displayName": "Geert Barentsen",
      "photoUrl": "https://lh3.googleusercontent.com/a-/AOh14Gj8sjdnDeqdejfe7OoouYPIclAQV0KSTpsU469Jyeo=s64",
      "userId": "05704237875861987058"
     },
     "user_tz": 420
    },
    "id": "jmoGdcrSdaKF",
    "outputId": "83a103e9-4345-423a-b65e-c6ffc797075b"
   },
   "outputs": [
    {
     "data": {
      "text/plain": [
       "'Kepler'"
      ]
     },
     "execution_count": 14,
     "metadata": {},
     "output_type": "execute_result"
    }
   ],
   "source": [
    "klc.meta.get('MISSION')"
   ]
  },
  {
   "cell_type": "markdown",
   "metadata": {
    "colab_type": "text",
    "id": "frVy-1dCPmLZ"
   },
   "source": [
    "A feature of the `KeplerLightCurve` object is that the metadata can also be accessed via user-friendly object properties for convenience. For example, the *Kepler* Quarter number is directly accessible via the `quarter` property:"
   ]
  },
  {
   "cell_type": "code",
   "execution_count": 15,
   "metadata": {
    "colab": {
     "base_uri": "https://localhost:8080/",
     "height": 34
    },
    "colab_type": "code",
    "execution": {
     "iopub.execute_input": "2025-03-05T22:06:35.536031Z",
     "iopub.status.busy": "2025-03-05T22:06:35.535964Z",
     "iopub.status.idle": "2025-03-05T22:06:35.537674Z",
     "shell.execute_reply": "2025-03-05T22:06:35.537480Z"
    },
    "executionInfo": {
     "elapsed": 3891,
     "status": "ok",
     "timestamp": 1598412097739,
     "user": {
      "displayName": "Geert Barentsen",
      "photoUrl": "https://lh3.googleusercontent.com/a-/AOh14Gj8sjdnDeqdejfe7OoouYPIclAQV0KSTpsU469Jyeo=s64",
      "userId": "05704237875861987058"
     },
     "user_tz": 420
    },
    "id": "81Uw9hwwmFtQ",
    "outputId": "637bd19b-232f-4bb0-ea0b-22c940ff1c01"
   },
   "outputs": [
    {
     "data": {
      "text/plain": [
       "4"
      ]
     },
     "execution_count": 15,
     "metadata": {},
     "output_type": "execute_result"
    }
   ],
   "source": [
    "klc.quarter"
   ]
  },
  {
   "cell_type": "markdown",
   "metadata": {
    "colab_type": "text",
    "id": "TMLOAjRTQ720"
   },
   "source": [
    "## 5. Understanding the Data Arrays and Units"
   ]
  },
  {
   "cell_type": "markdown",
   "metadata": {
    "colab_type": "text",
    "id": "_XrmxkxtR-Ty"
   },
   "source": [
    "As we saw above, the `KeplerLightCurve` object is a table that contains many arrays other than the PDCSAP and SAP fluxes. Detailed information on each of these can be found in the [*Kepler* Archive Manual](http://archive.stsci.edu/files/live/sites/mast/files/home/missions-and-data/kepler/_documents/archive_manual.pdf), *Section 2.3.1. Light Curve Files*.\n",
    "\n",
    "The first six columns appear in all `KeplerLightCurve` objects, and contain the most commonly used information. These are:"
   ]
  },
  {
   "cell_type": "markdown",
   "metadata": {
    "colab_type": "text",
    "id": "0hLqk2y8Sw_j"
   },
   "source": [
    "- `time`: the time measurements at each cadence.\n",
    "- `flux`: the flux of the target star at each time measurement. This is populated with PDCSAP flux by default.\n",
    "- `flux_err`: the statistical uncertainty on each flux data point.\n",
    "- `quality`: information on the data quality at each time measurement.\n",
    "- `centroid_col` & `centroid_row`: the position of the target star on the CCD at each observation. This changes over time due to, for example, small jitters of the spacecraft.\n",
    "\n",
    "\n",
    "The remaining columns are more detailed information on the observation. Some of these are duplicated in the first five columns described above:\n",
    "\n",
    "- `timecorr`: correction values that allow users to revert back to non-barycentric timestamps.\n",
    "- `cadenceno`: these are mission-specific identifiers of each exposure.\n",
    "- `sap_flux` & `sap_flux_err`: the SAP flux and associated error.\n",
    "- `sap_bkg` & `sap_bkg_err`: the calculated background (and associated error) inside the aperture used to calculate the SAP flux.\n",
    "- `pdcsap_flux` & `pdcsap_flux_err`: the PDCSAP flux and associated error. Duplicated by default in `flux` and `flux_err`.\n",
    "- `sap_quality`: information on the data quality at each time measurement. Duplicated in `quality`.\n",
    "- `psf_centr1` & `psf_centr2` (and errors): the column and row centroid positions of a PSF model fit to the target star.\n",
    "- `mom_centr1` & `mom_centr2` (and errors): the column and row centroid positions of the target star, weighted by flux. Duplicated in `centroid_col` and `centroid_row` respectively.\n",
    "- `pos_corr1` & `pos_corr2`: the column and row components of the calculated image motion."
   ]
  },
  {
   "cell_type": "markdown",
   "metadata": {
    "colab_type": "text",
    "id": "bqG4nbZYel3T"
   },
   "source": [
    "These columns can be accessed as properties of the `KeplerLightCurve` , for example, as follows:"
   ]
  },
  {
   "cell_type": "code",
   "execution_count": 16,
   "metadata": {
    "colab": {
     "base_uri": "https://localhost:8080/",
     "height": 40
    },
    "colab_type": "code",
    "execution": {
     "iopub.execute_input": "2025-03-05T22:06:35.538962Z",
     "iopub.status.busy": "2025-03-05T22:06:35.538892Z",
     "iopub.status.idle": "2025-03-05T22:06:35.540964Z",
     "shell.execute_reply": "2025-03-05T22:06:35.540770Z"
    },
    "executionInfo": {
     "elapsed": 387,
     "status": "ok",
     "timestamp": 1598412300324,
     "user": {
      "displayName": "Geert Barentsen",
      "photoUrl": "https://lh3.googleusercontent.com/a-/AOh14Gj8sjdnDeqdejfe7OoouYPIclAQV0KSTpsU469Jyeo=s64",
      "userId": "05704237875861987058"
     },
     "user_tz": 420
    },
    "id": "j7vpHi6-esaZ",
    "outputId": "f4810568-f186-4e12-ee4f-7a449884f216"
   },
   "outputs": [
    {
     "data": {
      "text/latex": [
       "$[1672.2699,~1669.84,~1673.1306,~\\dots,~1498.2946,~1498.7802,~1497.7747] \\; \\mathrm{\\frac{e^{-}}{s}}$"
      ],
      "text/plain": [
       "<MaskedQuantity [1672.2699, 1669.84  , 1673.1306, ..., 1498.2946,\n",
       "                 1498.7802, 1497.7747] electron / s>"
      ]
     },
     "execution_count": 16,
     "metadata": {},
     "output_type": "execute_result"
    }
   ],
   "source": [
    "klc.sap_bkg"
   ]
  },
  {
   "cell_type": "markdown",
   "metadata": {
    "colab_type": "text",
    "id": "bVioOw_OX5WU"
   },
   "source": [
    "The unit information of the arrays are stored using Astropy's [`astropy.units`](https://docs.astropy.org/en/stable/units/) module, which means that they are an Astropy [`Quantity`](https://docs.astropy.org/en/stable/api/astropy.units.Quantity.html#astropy.units.Quantity) object. We can view the units as follows:"
   ]
  },
  {
   "cell_type": "code",
   "execution_count": 17,
   "metadata": {
    "colab": {
     "base_uri": "https://localhost:8080/",
     "height": 52
    },
    "colab_type": "code",
    "execution": {
     "iopub.execute_input": "2025-03-05T22:06:35.542094Z",
     "iopub.status.busy": "2025-03-05T22:06:35.542032Z",
     "iopub.status.idle": "2025-03-05T22:06:35.543607Z",
     "shell.execute_reply": "2025-03-05T22:06:35.543428Z"
    },
    "executionInfo": {
     "elapsed": 594,
     "status": "ok",
     "timestamp": 1598412378410,
     "user": {
      "displayName": "Geert Barentsen",
      "photoUrl": "https://lh3.googleusercontent.com/a-/AOh14Gj8sjdnDeqdejfe7OoouYPIclAQV0KSTpsU469Jyeo=s64",
      "userId": "05704237875861987058"
     },
     "user_tz": 420
    },
    "id": "BXGH-2lbYM70",
    "outputId": "3382ed83-cf3e-45c2-d0bb-35e5a7bc60e9"
   },
   "outputs": [
    {
     "name": "stdout",
     "output_type": "stream",
     "text": [
      "Centroid column unit: pix\n",
      "Flux unit: electron / s\n"
     ]
    }
   ],
   "source": [
    "print(f'Centroid column unit: {klc.centroid_col.unit}')\n",
    "print(f'Flux unit: {klc.flux.unit}')"
   ]
  },
  {
   "cell_type": "markdown",
   "metadata": {
    "colab_type": "text",
    "id": "HH79vFV2e3yE"
   },
   "source": [
    "You can access the data in the form of a standard NumPy array using the `value` attribute:"
   ]
  },
  {
   "cell_type": "code",
   "execution_count": 18,
   "metadata": {
    "colab": {
     "base_uri": "https://localhost:8080/",
     "height": 52
    },
    "colab_type": "code",
    "execution": {
     "iopub.execute_input": "2025-03-05T22:06:35.544753Z",
     "iopub.status.busy": "2025-03-05T22:06:35.544678Z",
     "iopub.status.idle": "2025-03-05T22:06:35.546562Z",
     "shell.execute_reply": "2025-03-05T22:06:35.546376Z"
    },
    "executionInfo": {
     "elapsed": 541,
     "status": "ok",
     "timestamp": 1598412415984,
     "user": {
      "displayName": "Geert Barentsen",
      "photoUrl": "https://lh3.googleusercontent.com/a-/AOh14Gj8sjdnDeqdejfe7OoouYPIclAQV0KSTpsU469Jyeo=s64",
      "userId": "05704237875861987058"
     },
     "user_tz": 420
    },
    "id": "jv0RBYlNe8o7",
    "outputId": "07f7acf7-2bae-4ed9-8035-8a561e9b5f94"
   },
   "outputs": [
    {
     "data": {
      "text/plain": [
       "MaskedNDArray([682.69124789, 682.69084371, 682.6903808 , ...,\n",
       "               682.49103683, 682.49113696, 682.49069432],\n",
       "              shape=(4116,), dtype='>f8')"
      ]
     },
     "execution_count": 18,
     "metadata": {},
     "output_type": "execute_result"
    }
   ],
   "source": [
    "klc.centroid_col.value"
   ]
  },
  {
   "cell_type": "markdown",
   "metadata": {
    "colab_type": "text",
    "id": "jtqSUfMFeyDW"
   },
   "source": [
    "We can also plot the data using the `KeplerLightCurve`'s `plot()` method by passing a `column` keyword argument:"
   ]
  },
  {
   "cell_type": "code",
   "execution_count": 19,
   "metadata": {
    "colab": {
     "base_uri": "https://localhost:8080/",
     "height": 389
    },
    "colab_type": "code",
    "execution": {
     "iopub.execute_input": "2025-03-05T22:06:35.547803Z",
     "iopub.status.busy": "2025-03-05T22:06:35.547729Z",
     "iopub.status.idle": "2025-03-05T22:06:35.646409Z",
     "shell.execute_reply": "2025-03-05T22:06:35.646161Z"
    },
    "executionInfo": {
     "elapsed": 1001,
     "status": "ok",
     "timestamp": 1598412515732,
     "user": {
      "displayName": "Geert Barentsen",
      "photoUrl": "https://lh3.googleusercontent.com/a-/AOh14Gj8sjdnDeqdejfe7OoouYPIclAQV0KSTpsU469Jyeo=s64",
      "userId": "05704237875861987058"
     },
     "user_tz": 420
    },
    "id": "hVvnR_HEeEPF",
    "outputId": "2ef71786-c22b-4a00-d578-a480be31c4fc"
   },
   "outputs": [
    {
     "data": {
      "image/png": "[encoded data removed]",
      "text/plain": [
       "<Figure size 848.5x400 with 1 Axes>"
      ]
     },
     "metadata": {},
     "output_type": "display_data"
    }
   ],
   "source": [
    "ax = klc.plot(column='mom_centr1', label='Flux-weighted column position')\n",
    "klc.plot(ax=ax, column='psf_centr1', label='PSF centroid column position');"
   ]
  },
  {
   "cell_type": "markdown",
   "metadata": {
    "colab_type": "text",
    "id": "DqSED5jKYX1N"
   },
   "source": [
    "Finally, the `.time` property is a little different. Instead of an Astropy `Quantity` object, it is an Astropy [`Time`](https://docs.astropy.org/en/stable/time/) object, and has some additional time scale and format information."
   ]
  },
  {
   "cell_type": "code",
   "execution_count": 20,
   "metadata": {
    "colab": {
     "base_uri": "https://localhost:8080/",
     "height": 72
    },
    "colab_type": "code",
    "execution": {
     "iopub.execute_input": "2025-03-05T22:06:35.647724Z",
     "iopub.status.busy": "2025-03-05T22:06:35.647658Z",
     "iopub.status.idle": "2025-03-05T22:06:35.649801Z",
     "shell.execute_reply": "2025-03-05T22:06:35.649552Z"
    },
    "executionInfo": {
     "elapsed": 450,
     "status": "ok",
     "timestamp": 1598412589636,
     "user": {
      "displayName": "Geert Barentsen",
      "photoUrl": "https://lh3.googleusercontent.com/a-/AOh14Gj8sjdnDeqdejfe7OoouYPIclAQV0KSTpsU469Jyeo=s64",
      "userId": "05704237875861987058"
     },
     "user_tz": 420
    },
    "id": "MiqWlWB5gI5e",
    "outputId": "bc0fc612-5801-4448-84b1-51b2ac4a8585"
   },
   "outputs": [
    {
     "data": {
      "text/plain": [
       "<Time object: scale='tdb' format='bkjd' value=[352.37632485 352.39675805 352.43762445 ... 442.16263546 442.18306983\n",
       " 442.2035041 ]>"
      ]
     },
     "execution_count": 20,
     "metadata": {},
     "output_type": "execute_result"
    }
   ],
   "source": [
    "klc.time"
   ]
  },
  {
   "cell_type": "code",
   "execution_count": 21,
   "metadata": {
    "colab": {
     "base_uri": "https://localhost:8080/",
     "height": 52
    },
    "colab_type": "code",
    "execution": {
     "iopub.execute_input": "2025-03-05T22:06:35.650998Z",
     "iopub.status.busy": "2025-03-05T22:06:35.650934Z",
     "iopub.status.idle": "2025-03-05T22:06:35.652493Z",
     "shell.execute_reply": "2025-03-05T22:06:35.652296Z"
    },
    "executionInfo": {
     "elapsed": 536,
     "status": "ok",
     "timestamp": 1598412590379,
     "user": {
      "displayName": "Geert Barentsen",
      "photoUrl": "https://lh3.googleusercontent.com/a-/AOh14Gj8sjdnDeqdejfe7OoouYPIclAQV0KSTpsU469Jyeo=s64",
      "userId": "05704237875861987058"
     },
     "user_tz": 420
    },
    "id": "zdFdd4HWgMX2",
    "outputId": "4e847e75-40f7-4f23-8225-582ce34e6542"
   },
   "outputs": [
    {
     "name": "stdout",
     "output_type": "stream",
     "text": [
      "Time scale: tdb\n",
      "Time format: bkjd\n"
     ]
    }
   ],
   "source": [
    "print(f'Time scale: {klc.time.scale}')\n",
    "print(f'Time format: {klc.time.format}')"
   ]
  },
  {
   "cell_type": "markdown",
   "metadata": {
    "colab_type": "text",
    "id": "3I_WHW1Ogb4y"
   },
   "source": [
    "Here, the *time format* is the unit of time, in this case Barycentric Kepler Julian Date (BKJD). The *time scale* indicates how the time is measured, in this case by taking the Barycentric Dynamical Time (TDB). This detailed information may be important when comparing observations of a periodic event (such as a planet transit) with observations made with other telescopes on Earth."
   ]
  },
  {
   "cell_type": "markdown",
   "metadata": {
    "colab_type": "text",
    "id": "6dCElz6bPmMO"
   },
   "source": [
    "## Exercises"
   ]
  },
  {
   "cell_type": "markdown",
   "metadata": {
    "colab_type": "text",
    "id": "IXuRc_ZDPmMO"
   },
   "source": [
    "Some stars, such as Kepler-10, have been observed both with *Kepler* and *TESS*. In this exercise, download and plot the *TESS* PDCSAP flux only. You can do this by either selecting it from the `SearchResult` returned by [`search_lightcurve()`](https://github.com/lightkurve/lightkurve/blob/eb9d3902bf3c2772aade6f4423cfa013394d5af8/src/lightkurve/search.py#L719) or by using the `mission` keyword argument when searching."
   ]
  },
  {
   "cell_type": "code",
   "execution_count": 22,
   "metadata": {
    "colab": {},
    "colab_type": "code",
    "execution": {
     "iopub.execute_input": "2025-03-05T22:06:35.653732Z",
     "iopub.status.busy": "2025-03-05T22:06:35.653669Z",
     "iopub.status.idle": "2025-03-05T22:06:35.655010Z",
     "shell.execute_reply": "2025-03-05T22:06:35.654802Z"
    },
    "id": "AxFfQVvVPmMP"
   },
   "outputs": [],
   "source": [
    "#search_result = lk.search_lightcurvefile(...)"
   ]
  },
  {
   "cell_type": "code",
   "execution_count": 23,
   "metadata": {
    "colab": {
     "base_uri": "https://localhost:8080/",
     "height": 79
    },
    "colab_type": "code",
    "execution": {
     "iopub.execute_input": "2025-03-05T22:06:35.656134Z",
     "iopub.status.busy": "2025-03-05T22:06:35.656074Z",
     "iopub.status.idle": "2025-03-05T22:06:56.425536Z",
     "shell.execute_reply": "2025-03-05T22:06:56.425271Z"
    },
    "executionInfo": {
     "elapsed": 2402,
     "status": "ok",
     "timestamp": 1598412671485,
     "user": {
      "displayName": "Geert Barentsen",
      "photoUrl": "https://lh3.googleusercontent.com/a-/AOh14Gj8sjdnDeqdejfe7OoouYPIclAQV0KSTpsU469Jyeo=s64",
      "userId": "05704237875861987058"
     },
     "user_tz": 420
    },
    "id": "h5Fg1FNzPmMS",
    "outputId": "accc4e03-6a77-44e9-aad5-38a1ec805cc8"
   },
   "outputs": [
    {
     "data": {
      "text/html": [
       "SearchResult containing 51 data products.\n",
       "\n",
       "<table id=\"table5638345104\">\n",
       "<thead><tr><th>#</th><th>mission</th><th>year</th><th>author</th><th>exptime</th><th>target_name</th><th>distance</th></tr></thead>\n",
       "<thead><tr><th></th><th></th><th></th><th></th><th>s</th><th></th><th>arcsec</th></tr></thead>\n",
       "<tr><td>0</td><td>TESS Sector 14</td><td>2019</td><td><a href='https://heasarc.gsfc.nasa.gov/docs/tess/data-handling.html'>SPOC</a></td><td>120</td><td>377780790</td><td>0.0</td></tr>\n",
       "<tr><td>1</td><td>TESS Sector 41</td><td>2021</td><td><a href='https://heasarc.gsfc.nasa.gov/docs/tess/data-handling.html'>SPOC</a></td><td>20</td><td>377780790</td><td>0.0</td></tr>\n",
       "<tr><td>2</td><td>TESS Sector 40</td><td>2021</td><td><a href='https://heasarc.gsfc.nasa.gov/docs/tess/data-handling.html'>SPOC</a></td><td>20</td><td>377780790</td><td>0.0</td></tr>\n",
       "<tr><td>3</td><td>TESS Sector 40</td><td>2021</td><td><a href='https://heasarc.gsfc.nasa.gov/docs/tess/data-handling.html'>SPOC</a></td><td>120</td><td>377780790</td><td>0.0</td></tr>\n",
       "<tr><td>4</td><td>TESS Sector 41</td><td>2021</td><td><a href='https://heasarc.gsfc.nasa.gov/docs/tess/data-handling.html'>SPOC</a></td><td>120</td><td>377780790</td><td>0.0</td></tr>\n",
       "<tr><td>5</td><td>TESS Sector 55</td><td>2022</td><td><a href='https://heasarc.gsfc.nasa.gov/docs/tess/data-handling.html'>SPOC</a></td><td>20</td><td>377780790</td><td>0.0</td></tr>\n",
       "<tr><td>6</td><td>TESS Sector 53</td><td>2022</td><td><a href='https://heasarc.gsfc.nasa.gov/docs/tess/data-handling.html'>SPOC</a></td><td>20</td><td>377780790</td><td>0.0</td></tr>\n",
       "<tr><td>7</td><td>TESS Sector 54</td><td>2022</td><td><a href='https://heasarc.gsfc.nasa.gov/docs/tess/data-handling.html'>SPOC</a></td><td>20</td><td>377780790</td><td>0.0</td></tr>\n",
       "<tr><td>8</td><td>TESS Sector 55</td><td>2022</td><td><a href='https://heasarc.gsfc.nasa.gov/docs/tess/data-handling.html'>SPOC</a></td><td>120</td><td>377780790</td><td>0.0</td></tr>\n",
       "<tr><td>9</td><td>TESS Sector 54</td><td>2022</td><td><a href='https://heasarc.gsfc.nasa.gov/docs/tess/data-handling.html'>SPOC</a></td><td>120</td><td>377780790</td><td>0.0</td></tr>\n",
       "<tr><td>10</td><td>TESS Sector 53</td><td>2022</td><td><a href='https://heasarc.gsfc.nasa.gov/docs/tess/data-handling.html'>SPOC</a></td><td>120</td><td>377780790</td><td>0.0</td></tr>\n",
       "<tr><td>11</td><td>TESS Sector 81</td><td>2024</td><td><a href='https://heasarc.gsfc.nasa.gov/docs/tess/data-handling.html'>SPOC</a></td><td>120</td><td>377780790</td><td>0.0</td></tr>\n",
       "<tr><td>12</td><td>TESS Sector 82</td><td>2024</td><td><a href='https://heasarc.gsfc.nasa.gov/docs/tess/data-handling.html'>SPOC</a></td><td>120</td><td>377780790</td><td>0.0</td></tr>\n",
       "<tr><td>13</td><td>TESS Sector 75</td><td>2024</td><td><a href='https://heasarc.gsfc.nasa.gov/docs/tess/data-handling.html'>SPOC</a></td><td>120</td><td>377780790</td><td>0.0</td></tr>\n",
       "<tr><td>14</td><td>TESS Sector 80</td><td>2024</td><td><a href='https://heasarc.gsfc.nasa.gov/docs/tess/data-handling.html'>SPOC</a></td><td>120</td><td>377780790</td><td>0.0</td></tr>\n",
       "<tr><td>15</td><td>TESS Sector 74</td><td>2024</td><td><a href='https://heasarc.gsfc.nasa.gov/docs/tess/data-handling.html'>SPOC</a></td><td>120</td><td>377780790</td><td>0.0</td></tr>\n",
       "<tr><td>16</td><td>TESS Sector 14</td><td>2019</td><td><a href='https://archive.stsci.edu/hlsp/tess-spoc'>TESS-SPOC</a></td><td>1800</td><td>377780790</td><td>0.0</td></tr>\n",
       "<tr><td>17</td><td>TESS Sector 15</td><td>2019</td><td><a href='https://archive.stsci.edu/hlsp/tess-spoc'>TESS-SPOC</a></td><td>1800</td><td>377780790</td><td>0.0</td></tr>\n",
       "<tr><td>18</td><td>TESS Sector 26</td><td>2020</td><td><a href='https://archive.stsci.edu/hlsp/tess-spoc'>TESS-SPOC</a></td><td>1800</td><td>377780790</td><td>0.0</td></tr>\n",
       "<tr><td>19</td><td>TESS Sector 41</td><td>2021</td><td><a href='https://archive.stsci.edu/hlsp/tess-spoc'>TESS-SPOC</a></td><td>600</td><td>377780790</td><td>0.0</td></tr>\n",
       "<tr><td>20</td><td>TESS Sector 40</td><td>2021</td><td><a href='https://archive.stsci.edu/hlsp/tess-spoc'>TESS-SPOC</a></td><td>600</td><td>377780790</td><td>0.0</td></tr>\n",
       "<tr><td>21</td><td>TESS Sector 55</td><td>2022</td><td><a href='https://archive.stsci.edu/hlsp/tess-spoc'>TESS-SPOC</a></td><td>600</td><td>377780790</td><td>0.0</td></tr>\n",
       "<tr><td>22</td><td>TESS Sector 54</td><td>2022</td><td><a href='https://archive.stsci.edu/hlsp/tess-spoc'>TESS-SPOC</a></td><td>600</td><td>377780790</td><td>0.0</td></tr>\n",
       "<tr><td>23</td><td>TESS Sector 53</td><td>2022</td><td><a href='https://archive.stsci.edu/hlsp/tess-spoc'>TESS-SPOC</a></td><td>600</td><td>377780790</td><td>0.0</td></tr>\n",
       "<tr><td>24</td><td>TESS Sector 15</td><td>2019</td><td><a href='https://archive.stsci.edu/hlsp/qlp'>QLP</a></td><td>1800</td><td>377780790</td><td>0.0</td></tr>\n",
       "<tr><td>25</td><td>TESS Sector 14</td><td>2019</td><td><a href='https://archive.stsci.edu/hlsp/qlp'>QLP</a></td><td>1800</td><td>377780790</td><td>0.0</td></tr>\n",
       "<tr><td>26</td><td>TESS Sector 26</td><td>2020</td><td><a href='https://archive.stsci.edu/hlsp/qlp'>QLP</a></td><td>1800</td><td>377780790</td><td>0.0</td></tr>\n",
       "<tr><td>27</td><td>TESS Sector 41</td><td>2021</td><td><a href='https://archive.stsci.edu/hlsp/qlp'>QLP</a></td><td>600</td><td>377780790</td><td>0.0</td></tr>\n",
       "<tr><td>28</td><td>TESS Sector 40</td><td>2021</td><td><a href='https://archive.stsci.edu/hlsp/qlp'>QLP</a></td><td>600</td><td>377780790</td><td>0.0</td></tr>\n",
       "<tr><td>29</td><td>TESS Sector 54</td><td>2022</td><td><a href='https://archive.stsci.edu/hlsp/qlp'>QLP</a></td><td>600</td><td>377780790</td><td>0.0</td></tr>\n",
       "<tr><td>30</td><td>TESS Sector 53</td><td>2022</td><td><a href='https://archive.stsci.edu/hlsp/qlp'>QLP</a></td><td>600</td><td>377780790</td><td>0.0</td></tr>\n",
       "<tr><td>31</td><td>TESS Sector 55</td><td>2022</td><td><a href='https://archive.stsci.edu/hlsp/qlp'>QLP</a></td><td>600</td><td>377780790</td><td>0.0</td></tr>\n",
       "<tr><td>32</td><td>TESS Sector 82</td><td>2024</td><td><a href='https://archive.stsci.edu/hlsp/qlp'>QLP</a></td><td>200</td><td>377780790</td><td>0.0</td></tr>\n",
       "<tr><td>33</td><td>TESS Sector 80</td><td>2024</td><td><a href='https://archive.stsci.edu/hlsp/qlp'>QLP</a></td><td>200</td><td>377780790</td><td>0.0</td></tr>\n",
       "<tr><td>34</td><td>TESS Sector 75</td><td>2024</td><td><a href='https://archive.stsci.edu/hlsp/qlp'>QLP</a></td><td>200</td><td>377780790</td><td>0.0</td></tr>\n",
       "<tr><td>35</td><td>TESS Sector 74</td><td>2024</td><td><a href='https://archive.stsci.edu/hlsp/qlp'>QLP</a></td><td>200</td><td>377780790</td><td>0.0</td></tr>\n",
       "<tr><td>36</td><td>TESS Sector 81</td><td>2024</td><td><a href='https://archive.stsci.edu/hlsp/qlp'>QLP</a></td><td>200</td><td>377780790</td><td>0.0</td></tr>\n",
       "<tr><td>37</td><td>TESS Sector 14</td><td>2019</td><td><a href='https://archive.stsci.edu/hlsp/tasoc'>TASOC</a></td><td>120</td><td>377780790</td><td>0.0</td></tr>\n",
       "<tr><td>38</td><td>TESS Sector 15</td><td>2019</td><td><a href='https://archive.stsci.edu/hlsp/cdips'>CDIPS</a></td><td>1800</td><td>377780790</td><td>0.0</td></tr>\n",
       "<tr><td>39</td><td>TESS Sector 15</td><td>2019</td><td><a href='https://archive.stsci.edu/hlsp/tasoc'>TASOC</a></td><td>1800</td><td>377780790</td><td>0.0</td></tr>\n",
       "<tr><td>40</td><td>TESS Sector 15</td><td>2019</td><td><a href='https://archive.stsci.edu/hlsp/tasoc'>TASOC</a></td><td>1800</td><td>377780790</td><td>0.0</td></tr>\n",
       "<tr><td>41</td><td>TESS Sector 14</td><td>2019</td><td><a href='https://archive.stsci.edu/hlsp/tasoc'>TASOC</a></td><td>1800</td><td>377780790</td><td>0.0</td></tr>\n",
       "<tr><td>42</td><td>TESS Sector 14</td><td>2019</td><td><a href='https://archive.stsci.edu/hlsp/tasoc'>TASOC</a></td><td>1800</td><td>377780790</td><td>0.0</td></tr>\n",
       "<tr><td>43</td><td>TESS Sector 26</td><td>2020</td><td><a href='https://archive.stsci.edu/hlsp/cdips'>CDIPS</a></td><td>1800</td><td>377780790</td><td>0.0</td></tr>\n",
       "<tr><td>44</td><td>TESS Sector 26</td><td>2020</td><td><a href='https://archive.stsci.edu/hlsp/tasoc'>TASOC</a></td><td>1800</td><td>377780790</td><td>0.0</td></tr>\n",
       "<tr><td>45</td><td>TESS Sector 26</td><td>2020</td><td><a href='https://archive.stsci.edu/hlsp/tasoc'>TASOC</a></td><td>1800</td><td>377780790</td><td>0.0</td></tr>\n",
       "<tr><td>46</td><td>TESS Sector 41</td><td>2021</td><td><a href='https://archive.stsci.edu/hlsp/cdips'>CDIPS</a></td><td>1800</td><td>377780790</td><td>0.0</td></tr>\n",
       "<tr><td>47</td><td>TESS Sector 40</td><td>2021</td><td><a href='https://archive.stsci.edu/hlsp/cdips'>CDIPS</a></td><td>1800</td><td>377780790</td><td>0.0</td></tr>\n",
       "<tr><td>48</td><td>TESS Sector 55</td><td>2022</td><td><a href='https://archive.stsci.edu/hlsp/cdips'>CDIPS</a></td><td>1800</td><td>377780790</td><td>0.0</td></tr>\n",
       "<tr><td>49</td><td>TESS Sector 54</td><td>2022</td><td><a href='https://archive.stsci.edu/hlsp/cdips'>CDIPS</a></td><td>1800</td><td>377780790</td><td>0.0</td></tr>\n",
       "<tr><td>50</td><td>TESS Sector 53</td><td>2022</td><td><a href='https://archive.stsci.edu/hlsp/cdips'>CDIPS</a></td><td>1800</td><td>377780790</td><td>0.0</td></tr>\n",
       "</table>"
      ],
      "text/plain": [
       "SearchResult containing 51 data products.\n",
       "\n",
       " #     mission     year   author  exptime target_name distance\n",
       "                                     s                 arcsec \n",
       "--- -------------- ---- --------- ------- ----------- --------\n",
       "  0 TESS Sector 14 2019      SPOC     120   377780790      0.0\n",
       "  1 TESS Sector 41 2021      SPOC      20   377780790      0.0\n",
       "  2 TESS Sector 40 2021      SPOC      20   377780790      0.0\n",
       "  3 TESS Sector 40 2021      SPOC     120   377780790      0.0\n",
       "  4 TESS Sector 41 2021      SPOC     120   377780790      0.0\n",
       "  5 TESS Sector 55 2022      SPOC      20   377780790      0.0\n",
       "  6 TESS Sector 53 2022      SPOC      20   377780790      0.0\n",
       "  7 TESS Sector 54 2022      SPOC      20   377780790      0.0\n",
       "  8 TESS Sector 55 2022      SPOC     120   377780790      0.0\n",
       "  9 TESS Sector 54 2022      SPOC     120   377780790      0.0\n",
       " 10 TESS Sector 53 2022      SPOC     120   377780790      0.0\n",
       " 11 TESS Sector 81 2024      SPOC     120   377780790      0.0\n",
       " 12 TESS Sector 82 2024      SPOC     120   377780790      0.0\n",
       " 13 TESS Sector 75 2024      SPOC     120   377780790      0.0\n",
       " 14 TESS Sector 80 2024      SPOC     120   377780790      0.0\n",
       " 15 TESS Sector 74 2024      SPOC     120   377780790      0.0\n",
       " 16 TESS Sector 14 2019 TESS-SPOC    1800   377780790      0.0\n",
       " 17 TESS Sector 15 2019 TESS-SPOC    1800   377780790      0.0\n",
       " 18 TESS Sector 26 2020 TESS-SPOC    1800   377780790      0.0\n",
       " 19 TESS Sector 41 2021 TESS-SPOC     600   377780790      0.0\n",
       " 20 TESS Sector 40 2021 TESS-SPOC     600   377780790      0.0\n",
       " 21 TESS Sector 55 2022 TESS-SPOC     600   377780790      0.0\n",
       " 22 TESS Sector 54 2022 TESS-SPOC     600   377780790      0.0\n",
       " 23 TESS Sector 53 2022 TESS-SPOC     600   377780790      0.0\n",
       " 24 TESS Sector 15 2019       QLP    1800   377780790      0.0\n",
       " 25 TESS Sector 14 2019       QLP    1800   377780790      0.0\n",
       " 26 TESS Sector 26 2020       QLP    1800   377780790      0.0\n",
       " 27 TESS Sector 41 2021       QLP     600   377780790      0.0\n",
       " 28 TESS Sector 40 2021       QLP     600   377780790      0.0\n",
       " 29 TESS Sector 54 2022       QLP     600   377780790      0.0\n",
       " 30 TESS Sector 53 2022       QLP     600   377780790      0.0\n",
       " 31 TESS Sector 55 2022       QLP     600   377780790      0.0\n",
       " 32 TESS Sector 82 2024       QLP     200   377780790      0.0\n",
       " 33 TESS Sector 80 2024       QLP     200   377780790      0.0\n",
       " 34 TESS Sector 75 2024       QLP     200   377780790      0.0\n",
       " 35 TESS Sector 74 2024       QLP     200   377780790      0.0\n",
       " 36 TESS Sector 81 2024       QLP     200   377780790      0.0\n",
       " 37 TESS Sector 14 2019     TASOC     120   377780790      0.0\n",
       " 38 TESS Sector 15 2019     CDIPS    1800   377780790      0.0\n",
       " 39 TESS Sector 15 2019     TASOC    1800   377780790      0.0\n",
       " 40 TESS Sector 15 2019     TASOC    1800   377780790      0.0\n",
       " 41 TESS Sector 14 2019     TASOC    1800   377780790      0.0\n",
       " 42 TESS Sector 14 2019     TASOC    1800   377780790      0.0\n",
       " 43 TESS Sector 26 2020     CDIPS    1800   377780790      0.0\n",
       " 44 TESS Sector 26 2020     TASOC    1800   377780790      0.0\n",
       " 45 TESS Sector 26 2020     TASOC    1800   377780790      0.0\n",
       " 46 TESS Sector 41 2021     CDIPS    1800   377780790      0.0\n",
       " 47 TESS Sector 40 2021     CDIPS    1800   377780790      0.0\n",
       " 48 TESS Sector 55 2022     CDIPS    1800   377780790      0.0\n",
       " 49 TESS Sector 54 2022     CDIPS    1800   377780790      0.0\n",
       " 50 TESS Sector 53 2022     CDIPS    1800   377780790      0.0"
      ]
     },
     "execution_count": 23,
     "metadata": {},
     "output_type": "execute_result"
    }
   ],
   "source": [
    "# Solution:\n",
    "search_result = lk.search_lightcurve('Kepler-10', mission='TESS')\n",
    "search_result"
   ]
  },
  {
   "cell_type": "code",
   "execution_count": 24,
   "metadata": {
    "colab": {
     "base_uri": "https://localhost:8080/",
     "height": 387
    },
    "colab_type": "code",
    "execution": {
     "iopub.execute_input": "2025-03-05T22:06:56.427106Z",
     "iopub.status.busy": "2025-03-05T22:06:56.427005Z",
     "iopub.status.idle": "2025-03-05T22:06:56.647940Z",
     "shell.execute_reply": "2025-03-05T22:06:56.647671Z"
    },
    "executionInfo": {
     "elapsed": 1629,
     "status": "ok",
     "timestamp": 1598412680051,
     "user": {
      "displayName": "Geert Barentsen",
      "photoUrl": "https://lh3.googleusercontent.com/a-/AOh14Gj8sjdnDeqdejfe7OoouYPIclAQV0KSTpsU469Jyeo=s64",
      "userId": "05704237875861987058"
     },
     "user_tz": 420
    },
    "id": "h6pt0og8PmMU",
    "outputId": "47aef53e-e6e6-41f6-e338-74836e7f2664"
   },
   "outputs": [
    {
     "name": "stderr",
     "output_type": "stream",
     "text": [
      "/Users/nthom/lightkurve/src/lightkurve/search.py:420: LightkurveWarning: Warning: 51 files available to download. Only the first file has been downloaded. Please use `download_all()` or specify additional criteria (e.g. quarter, campaign, or sector) to limit your search.\n",
      "  warnings.warn(\n"
     ]
    },
    {
     "data": {
      "image/png": "[encoded data removed]",
      "text/plain": [
       "<Figure size 848.5x400 with 1 Axes>"
      ]
     },
     "metadata": {},
     "output_type": "display_data"
    }
   ],
   "source": [
    "search_result.download().plot();"
   ]
  },
  {
   "cell_type": "markdown",
   "metadata": {
    "colab_type": "text",
    "id": "lhbv9ZKRPmMY"
   },
   "source": [
    "## About this Notebook"
   ]
  },
  {
   "cell_type": "markdown",
   "metadata": {
    "colab_type": "text",
    "id": "nU-5JtvpPmMZ"
   },
   "source": [
    "**Authors:** Oliver Hall (oliver.hall@esa.int), Geert Barentsen\n",
    "\n",
    "**Updated On**: 2020-08-31"
   ]
  },
  {
   "cell_type": "markdown",
   "metadata": {
    "colab_type": "text",
    "id": "ZANsIso_B_si"
   },
   "source": [
    "## Citing Lightkurve and Astropy\n",
    "\n",
    "If you use `lightkurve` or `astropy` for published research, please cite the authors. Click the buttons below to copy BibTeX entries to your clipboard. "
   ]
  },
  {
   "cell_type": "code",
   "execution_count": 25,
   "metadata": {
    "colab": {
     "base_uri": "https://localhost:8080/",
     "height": 85
    },
    "colab_type": "code",
    "execution": {
     "iopub.execute_input": "2025-03-05T22:06:56.649357Z",
     "iopub.status.busy": "2025-03-05T22:06:56.649288Z",
     "iopub.status.idle": "2025-03-05T22:06:56.651528Z",
     "shell.execute_reply": "2025-03-05T22:06:56.651329Z"
    },
    "executionInfo": {
     "elapsed": 56019,
     "status": "ok",
     "timestamp": 1595851407661,
     "user": {
      "displayName": "Oliver Hall",
      "photoUrl": "",
      "userId": "08831861496876617563"
     },
     "user_tz": -60
    },
    "id": "7vUtrWVjnlY7",
    "outputId": "146b4877-705d-4ac1-a247-2cfa31b8b60e"
   },
   "outputs": [
    {
     "data": {
      "text/html": [
       "<head>\n",
       "<link rel=\"stylesheet\" href=\"https://stackpath.bootstrapcdn.com/font-awesome/4.7.0/css/font-awesome.min.css\" integrity=\"sha384-wvfXpqpZZVQGK6TAh5PVlGOfQNHSoD2xbE+QkPxCAFlNEevoEH3Sl0sibVcOQVnN\" crossorigin=\"anonymous\">\n",
       "\n",
       "<style>\n",
       "    button {\n",
       "        border: 1px solid;\n",
       "        padding: 0.2em;\n",
       "        text-align: center;\n",
       "        text-decoration: none;\n",
       "        display: inline-block;\n",
       "        font-size: 0.8em;\n",
       "        margin: 0.2em;\n",
       "        cursor: pointer;\n",
       "    }\n",
       "\n",
       "    .citation-button-1 {background-color: #4CAF50;} /* Green */\n",
       "    .citation-button-2 {background-color: #008CBA;} /* Blue */\n",
       "</style>\n",
       "\n",
       "<script type=\"text/javascript\">\n",
       "    function copyBibtex(package) {\n",
       "        var copyText = document.getElementById(package + \"Text\");\n",
       "        copyText.select();\n",
       "        document.execCommand(\"copy\");\n",
       "        alert(\"BibTex has been copied to your clipboard\")\n",
       "    }\n",
       "</script>\n",
       "</head>\n",
       "\n",
       "<body>\n",
       "    <textarea id=\"lightkurveText\" style=\"position: absolute; left: -9999px; z-index: -9999;\">\n",
       "@MISC{2018ascl.soft12013L,\n",
       "    author = {{Lightkurve Collaboration} and {Cardoso}, J.~V.~d.~M. and\n",
       "                {Hedges}, C. and {Gully-Santiago}, M. and {Saunders}, N. and\n",
       "                {Cody}, A.~M. and {Barclay}, T. and {Hall}, O. and\n",
       "                {Sagear}, S. and {Turtelboom}, E. and {Zhang}, J. and\n",
       "                {Tzanidakis}, A. and {Mighell}, K. and {Coughlin}, J. and\n",
       "                {Bell}, K. and {Berta-Thompson}, Z. and {Williams}, P. and\n",
       "                {Dotson}, J. and {Barentsen}, G.},\n",
       "    title = \"{Lightkurve: Kepler and TESS time series analysis in Python}\",\n",
       "    keywords = {Software, NASA},\n",
       "howpublished = {Astrophysics Source Code Library},\n",
       "        year = 2018,\n",
       "    month = dec,\n",
       "archivePrefix = \"ascl\",\n",
       "    eprint = {1812.013},\n",
       "    adsurl = {http://adsabs.harvard.edu/abs/2018ascl.soft12013L},\n",
       "}\n",
       "    </textarea>\n",
       "    <textarea id=\"astropyText\" style=\"position: absolute; left: -9999px; z-index: -9999;\">\n",
       "@ARTICLE{astropy:2022,\n",
       "       author = {{Astropy Collaboration} and {Price-Whelan}, Adrian M. and {Lim}, Pey\n",
       "       Lian and {Earl}, Nicholas and {Starkman}, Nathaniel and {Bradley}, Larry and\n",
       "       {Shupe}, David L. and {Patil}, Aarya A. and {Corrales}, Lia and {Brasseur}, C.~E.\n",
       "       and {N{\\\"o}the}, Maximilian and {Donath}, Axel and {Tollerud}, Erik and {Morris},\n",
       "       Brett M. and {Ginsburg}, Adam and {Vaher}, Eero and {Weaver}, Benjamin A. and\n",
       "       {Tocknell}, James and {Jamieson}, William and {van Kerkwijk}, Marten H. and\n",
       "       {Robitaille}, Thomas P. and {Merry}, Bruce and {Bachetti}, Matteo and\n",
       "       {G{\\\"u}nther}, H. Moritz and {Aldcroft}, Thomas L. and {Alvarado-Montes}, Jaime\n",
       "       A. and {Archibald}, Anne M. and {B{\\'o}di}, Attila and {Bapat}, Shreyas and\n",
       "       {Barentsen}, Geert and {Baz{\\'a}n}, Juanjo and {Biswas}, Manish and {Boquien},\n",
       "       M{\\'e}d{\\'e}ric and {Burke}, D.~J. and {Cara}, Daria and {Cara}, Mihai and\n",
       "       {Conroy}, Kyle E. and {Conseil}, Simon and {Craig}, Matthew W. and {Cross},\n",
       "       Robert M. and {Cruz}, Kelle L. and {D'Eugenio}, Francesco and {Dencheva}, Nadia\n",
       "       and {Devillepoix}, Hadrien A.~R. and {Dietrich}, J{\\\"o}rg P. and {Eigenbrot},\n",
       "       Arthur Davis and {Erben}, Thomas and {Ferreira}, Leonardo and {Foreman-Mackey},\n",
       "       Daniel and {Fox}, Ryan and {Freij}, Nabil and {Garg}, Suyog and {Geda}, Robel and\n",
       "       {Glattly}, Lauren and {Gondhalekar}, Yash and {Gordon}, Karl D. and {Grant},\n",
       "       David and {Greenfield}, Perry and {Groener}, Austen M. and {Guest}, Steve and\n",
       "       {Gurovich}, Sebastian and {Handberg}, Rasmus and {Hart}, Akeem and\n",
       "       {Hatfield-Dodds}, Zac and {Homeier}, Derek and {Hosseinzadeh}, Griffin and\n",
       "       {Jenness}, Tim and {Jones}, Craig K. and {Joseph}, Prajwel and {Kalmbach}, J.\n",
       "       Bryce and {Karamehmetoglu}, Emir and {Ka{\\l}uszy{\\'n}ski}, Miko{\\l}aj and\n",
       "       {Kelley}, Michael S.~P. and {Kern}, Nicholas and {Kerzendorf}, Wolfgang E. and\n",
       "       {Koch}, Eric W. and {Kulumani}, Shankar and {Lee}, Antony and {Ly}, Chun and\n",
       "       {Ma}, Zhiyuan and {MacBride}, Conor and {Maljaars}, Jakob M. and {Muna}, Demitri\n",
       "       and {Murphy}, N.~A. and {Norman}, Henrik and {O'Steen}, Richard and {Oman}, Kyle\n",
       "       A. and {Pacifici}, Camilla and {Pascual}, Sergio and {Pascual-Granado}, J. and\n",
       "       {Patil}, Rohit R. and {Perren}, Gabriel I. and {Pickering}, Timothy E. and\n",
       "       {Rastogi}, Tanuj and {Roulston}, Benjamin R. and {Ryan}, Daniel F. and {Rykoff},\n",
       "       Eli S. and {Sabater}, Jose and {Sakurikar}, Parikshit and {Salgado}, Jes{\\'u}s\n",
       "       and {Sanghi}, Aniket and {Saunders}, Nicholas and {Savchenko}, Volodymyr and\n",
       "       {Schwardt}, Ludwig and {Seifert-Eckert}, Michael and {Shih}, Albert Y. and\n",
       "       {Jain}, Anany Shrey and {Shukla}, Gyanendra and {Sick}, Jonathan and {Simpson},\n",
       "       Chris and {Singanamalla}, Sudheesh and {Singer}, Leo P. and {Singhal}, Jaladh and\n",
       "       {Sinha}, Manodeep and {Sip{\\H{o}}cz}, Brigitta M. and {Spitler}, Lee R. and\n",
       "       {Stansby}, David and {Streicher}, Ole and {{\\v{S}}umak}, Jani and {Swinbank},\n",
       "       John D. and {Taranu}, Dan S. and {Tewary}, Nikita and {Tremblay}, Grant R. and\n",
       "       {Val-Borro}, Miguel de and {Van Kooten}, Samuel J. and {Vasovi{\\'c}}, Zlatan and\n",
       "       {Verma}, Shresth and {de Miranda Cardoso}, Jos{\\'e} Vin{\\'\\i}cius and {Williams},\n",
       "       Peter K.~G. and {Wilson}, Tom J. and {Winkel}, Benjamin and {Wood-Vasey}, W.~M.\n",
       "       and {Xue}, Rui and {Yoachim}, Peter and {Zhang}, Chen and {Zonca}, Andrea and\n",
       "       {Astropy Project Contributors}}, title = \"{The Astropy Project: Sustaining and\n",
       "       Growing a Community-oriented Open-source Project and the Latest Major Release\n",
       "       (v5.0) of the Core Package}\",\n",
       "      journal = {\\apj},\n",
       "     keywords = {Astronomy software, Open source software, Astronomy data analysis, 1855, 1866, 1858, Astrophysics - Instrumentation and Methods for Astrophysics},\n",
       "         year = 2022,\n",
       "        month = aug,\n",
       "       volume = {935},\n",
       "       number = {2},\n",
       "          eid = {167},\n",
       "        pages = {167},\n",
       "          doi = {10.3847/1538-4357/ac7c74},\n",
       "archivePrefix = {arXiv},\n",
       "       eprint = {2206.14220},\n",
       " primaryClass = {astro-ph.IM},\n",
       "       adsurl = {https://ui.adsabs.harvard.edu/abs/2022ApJ...935..167A},\n",
       "      adsnote = {Provided by the SAO/NASA Astrophysics Data System}\n",
       "}\n",
       "\n",
       "\n",
       "    </textarea>\n",
       "    <textarea id=\"astroqueryText\" style=\"position: absolute; left: -9999px; z-index: -9999;\">\n",
       "@ARTICLE{2019AJ....157...98G,\n",
       "   author = {{Ginsburg}, A. and {Sip{\\H o}cz}, B.~M. and {Brasseur}, C.~E. and\n",
       "\t{Cowperthwaite}, P.~S. and {Craig}, M.~W. and {Deil}, C. and\n",
       "\t{Guillochon}, J. and {Guzman}, G. and {Liedtke}, S. and {Lian Lim}, P. and\n",
       "\t{Lockhart}, K.~E. and {Mommert}, M. and {Morris}, B.~M. and\n",
       "\t{Norman}, H. and {Parikh}, M. and {Persson}, M.~V. and {Robitaille}, T.~P. and\n",
       "\t{Segovia}, J.-C. and {Singer}, L.~P. and {Tollerud}, E.~J. and\n",
       "\t{de Val-Borro}, M. and {Valtchanov}, I. and {Woillez}, J. and\n",
       "\t{The Astroquery collaboration} and {a subset of the astropy collaboration}\n",
       "\t},\n",
       "    title = \"{astroquery: An Astronomical Web-querying Package in Python}\",\n",
       "  journal = {\\aj},\n",
       "archivePrefix = \"arXiv\",\n",
       "   eprint = {1901.04520},\n",
       " primaryClass = \"astro-ph.IM\",\n",
       " keywords = {astronomical databases: miscellaneous, virtual observatory tools},\n",
       "     year = 2019,\n",
       "    month = mar,\n",
       "   volume = 157,\n",
       "      eid = {98},\n",
       "    pages = {98},\n",
       "      doi = {10.3847/1538-3881/aafc33},\n",
       "   adsurl = {https://adsabs.harvard.edu/abs/2019AJ....157...98G},\n",
       "  adsnote = {Provided by the SAO/NASA Astrophysics Data System}\n",
       "}\n",
       "\n",
       "    </textarea>\n",
       "    <textarea id=\"tesscutText\" style=\"position: absolute; left: -9999px; z-index: -9999;\">\n",
       "@MISC{2019ascl.soft05007B,\n",
       "        author = {{Brasseur}, C.~E. and {Phillip}, Carlita and {Fleming}, Scott W. and\n",
       "          {Mullally}, S.~E. and {White}, Richard L.},\n",
       "         title = \"{Astrocut: Tools for creating cutouts of TESS images}\",\n",
       "      keywords = {Software},\n",
       "          year = 2019,\n",
       "         month = may,\n",
       "           eid = {ascl:1905.007},\n",
       "         pages = {ascl:1905.007},\n",
       " archivePrefix = {ascl},\n",
       "        eprint = {1905.007},\n",
       "        adsurl = {https://ui.adsabs.harvard.edu/abs/2019ascl.soft05007B},\n",
       "       adsnote = {Provided by the SAO/NASA Astrophysics Data System}\n",
       " }\n",
       "    </textarea>\n",
       "\n",
       "    <p>\n",
       "        When using Lightkurve, we kindly request that you cite the following packages:\n",
       "        <ul>\n",
       "            <li>\n",
       "                <a href=\"https://docs.lightkurve.org\">lightkurve</a>\n",
       "                <button onclick=\"copyBibtex('lightkurve')\"><i class=\"fas fa-clipboard\"></i> Copy BibTeX</button>\n",
       "            </li>\n",
       "            <li>\n",
       "                <a href=\"https://astropy.org\">astropy</a>\n",
       "                <button onclick=\"copyBibtex('astropy')\"><i class=\"fas fa-clipboard\"></i> Copy BibTeX</button>\n",
       "            </li>\n",
       "            <li>\n",
       "                <a href=\"https://astroquery.readthedocs.io\">astroquery</a>\n",
       "                <button onclick=\"copyBibtex('astroquery')\"><i class=\"fas fa-clipboard\"></i> Copy BibTeX</button>\n",
       "                —  if you are using <i>search_lightcurve()</i> or <i>search_targetpixelfile()</i>.\n",
       "            </li>\n",
       "            <li>\n",
       "                <a href=\"https://mast.stsci.edu/tesscut/\">tesscut</a>\n",
       "                <button onclick=\"copyBibtex('tesscut')\"><i class=\"fas fa-clipboard\"></i> Copy BibTeX</button>\n",
       "                — if you are using <i>search_tesscut()</i>.\n",
       "            </li>\n",
       "        </ul>\n",
       "    </p>\n",
       "</body>\n"
      ],
      "text/plain": [
       "<IPython.core.display.HTML object>"
      ]
     },
     "execution_count": 25,
     "metadata": {},
     "output_type": "execute_result"
    }
   ],
   "source": [
    "lk.show_citation_instructions()"
   ]
  },
  {
   "cell_type": "markdown",
   "metadata": {
    "colab_type": "text",
    "id": "CNf3nI0trtA-"
   },
   "source": [
    "<img style=\"float: right;\" src=\"https://raw.githubusercontent.com/spacetelescope/notebooks/master/assets/stsci_pri_combo_mark_horizonal_white_bkgd.png\" alt=\"Space Telescope Logo\" width=\"200px\"/>\n"
   ]
  }
 ],
 "metadata": {
  "colab": {
   "collapsed_sections": [],
   "name": "Using-Light-Curve-Products-with-Lightkurve.ipynb",
   "provenance": []
  },
  "kernelspec": {
   "display_name": "Python 3",
   "language": "python",
   "name": "python3"
  },
  "language_info": {
   "codemirror_mode": {
    "name": "ipython",
    "version": 3
   },
   "file_extension": ".py",
   "mimetype": "text/x-python",
   "name": "python",
   "nbconvert_exporter": "python",
   "pygments_lexer": "ipython3",
   "version": "3.11.4"
  }
 },
 "nbformat": 4,
 "nbformat_minor": 4
}
