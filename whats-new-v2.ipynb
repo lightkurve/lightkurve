{
 "cells": [
  {
   "cell_type": "markdown",
   "id": "reverse-ghost",
   "metadata": {},
   "source": [
    "# What's new in Lightkurve 2?"
   ]
  },
  {
   "cell_type": "markdown",
   "id": "f1d76519-525c-4fb0-9e12-5baeacda626e",
   "metadata": {},
   "source": [
    "This page shows you what is new in Lightkurve v2. If you'd like to see our changelog, which tracks minor version changes and patches, you can [click here](https://docs.lightkurve.org/about/changelog.html)."
   ]
  },
  {
   "cell_type": "markdown",
   "id": "racial-dispute",
   "metadata": {},
   "source": [
    "## Lightkurve 2 offers improved support for TESS\n",
    "\n",
    "Lightkurve v1 has been a tremendous success.  Owing to the efforts of [67 contributors](https://github.com/KeplerGO/lightkurve/blob/master/AUTHORS.rst), Lightkurve grew into a popular tool to analyze the data archive of NASA's Kepler space telescope.  The package has been cited by nearly [200 scientific publications](https://ui.adsabs.harvard.edu/search/q=full%3A\"Lightkurve\") to date.\n",
    "\n",
    "In recent years, the success revealed a shortcoming: Lightkurve 1 was too focused on supporting Kepler data products. Over the past two years, our community has evolved in important ways:\n",
    "\n",
    "* NASA successfully launched TESS, adding a significant new data set which requires Lightkurve-like tools.\n",
    "* The TESS data archive started hosting numerous [community light curve databases](https://heasarc.gsfc.nasa.gov/docs/tess/community.html#high-level-science-products) created using specialized pipelines.\n",
    "* Many new time domain missions are on the horizon, including NASA's Roman Space Telescope.\n",
    "\n",
    "In response to these changes, the [TESS GI Office](https://heasarc.gsfc.nasa.gov/docs/tess/) at NASA Goddard and the [TESS Data Archive](https://archive.stsci.edu/tess/) at STScI/MAST supported the modification of Lightkurve and its tutorials to better support TESS and other data sets in three important ways:\n",
    "\n",
    "\n",
    "1. LightCurve objects are now specialized kinds of AstroPy Table objects, making it a more generic container for light curves from any telescope.\n",
    "2. Data search and download functions now support all TESS and Kepler light curve available at MAST, including those created by community pipelines.\n",
    "3. The noise removal tools now allow users to perform custom corrections in a way that is very similar to the official TESS pipeline. \n",
    "\n",
    "The remainder of this page briefly demonstrates these new features.\n",
    "They are explained in more detail in a new set of entry-level tutorials which are avaiable in the online documentation at [docs.lightkurve.org/tutorials](https://docs.lightkurve.org/tutorials).\n",
    "\n",
    "\n",
    "## 1. LightCurve objects are now specialized kinds of AstroPy Tables\n",
    "\n",
    "The most important change in Lightkurve 2 is that light curves are now extensions of AstroPy [TimeSeries](https://docs.astropy.org/en/stable/timeseries/) objects, which in turn are a sub-class of AstroPy Table.\n",
    "Compared to a generic table, the key difference is that each `LightCurve` object is guaranteed to have `time`, `flux`, and `flux_err` columns. This allows Lightkurve to extend AstroPy with tools that are specific to the analysis of TESS-like time series photometry.\n",
    "\n",
    "### ✨ New: LightCurve objects behave like tables\n",
    "\n",
    "Light curves can still be created as before, but now look and act like tables:"
   ]
  },
  {
   "cell_type": "code",
   "execution_count": 1,
   "id": "quiet-heading",
   "metadata": {
    "execution": {
     "iopub.execute_input": "2024-10-01T18:58:27.466271Z",
     "iopub.status.busy": "2024-10-01T18:58:27.465987Z",
     "iopub.status.idle": "2024-10-01T18:58:28.530555Z",
     "shell.execute_reply": "2024-10-01T18:58:28.530265Z"
    }
   },
   "outputs": [
    {
     "data": {
      "text/html": [
       "<div><i>LightCurve length=3</i>\n",
       "<table id=\"table5809060944\" class=\"table-striped table-bordered table-condensed\">\n",
       "<thead><tr><th>time</th><th>flux</th><th>flux_err</th></tr></thead>\n",
       "<thead><tr><th></th><th></th><th></th></tr></thead>\n",
       "<thead><tr><th>Time</th><th>float64</th><th>float64</th></tr></thead>\n",
       "<tr><td>2000.0</td><td>1.0</td><td>0.1</td></tr>\n",
       "<tr><td>2000.1</td><td>1.0</td><td>0.1</td></tr>\n",
       "<tr><td>2000.2</td><td>1.0</td><td>0.1</td></tr>\n",
       "</table></div>"
      ],
      "text/plain": [
       "<LightCurve length=3>\n",
       " time    flux  flux_err\n",
       "                       \n",
       " Time  float64 float64 \n",
       "------ ------- --------\n",
       "2000.0     1.0      0.1\n",
       "2000.1     1.0      0.1\n",
       "2000.2     1.0      0.1"
      ]
     },
     "execution_count": 1,
     "metadata": {},
     "output_type": "execute_result"
    }
   ],
   "source": [
    "from lightkurve import LightCurve\n",
    "lc = LightCurve(time=[2000.0, 2000.1, 2000.2],\n",
    "                flux=[1.0, 1.0, 1.0],\n",
    "                flux_err=[0.1, 0.1, 0.1],\n",
    "                time_format=\"btjd\")\n",
    "lc"
   ]
  },
  {
   "cell_type": "markdown",
   "id": "tutorial-program",
   "metadata": {},
   "source": [
    "### ✨ New: Light curves support user-defined columns\n",
    "\n",
    "Because light curves are now tables, they can contain arbitrary user-defined columns:"
   ]
  },
  {
   "cell_type": "code",
   "execution_count": 2,
   "id": "premium-conversion",
   "metadata": {
    "execution": {
     "iopub.execute_input": "2024-10-01T18:58:28.532078Z",
     "iopub.status.busy": "2024-10-01T18:58:28.531973Z",
     "iopub.status.idle": "2024-10-01T18:58:28.534935Z",
     "shell.execute_reply": "2024-10-01T18:58:28.534667Z"
    }
   },
   "outputs": [
    {
     "data": {
      "text/html": [
       "<div><i>LightCurve length=3</i>\n",
       "<table id=\"table5809060944\" class=\"table-striped table-bordered table-condensed\">\n",
       "<thead><tr><th>time</th><th>flux</th><th>flux_err</th><th>color</th></tr></thead>\n",
       "<thead><tr><th></th><th></th><th></th><th></th></tr></thead>\n",
       "<thead><tr><th>Time</th><th>float64</th><th>float64</th><th>str5</th></tr></thead>\n",
       "<tr><td>2000.0</td><td>1.0</td><td>0.1</td><td>red</td></tr>\n",
       "<tr><td>2000.1</td><td>1.0</td><td>0.1</td><td>green</td></tr>\n",
       "<tr><td>2000.2</td><td>1.0</td><td>0.1</td><td>blue</td></tr>\n",
       "</table></div>"
      ],
      "text/plain": [
       "<LightCurve length=3>\n",
       " time    flux  flux_err color\n",
       "                             \n",
       " Time  float64 float64   str5\n",
       "------ ------- -------- -----\n",
       "2000.0     1.0      0.1   red\n",
       "2000.1     1.0      0.1 green\n",
       "2000.2     1.0      0.1  blue"
      ]
     },
     "execution_count": 2,
     "metadata": {},
     "output_type": "execute_result"
    }
   ],
   "source": [
    "lc['color'] = ['red', 'green', 'blue']\n",
    "lc"
   ]
  },
  {
   "cell_type": "markdown",
   "id": "adjustable-christianity",
   "metadata": {},
   "source": [
    "### ✨ New: Columns and rows can be accessed using index notation\n",
    "\n",
    "Just like Table objects, columns and rows can be accessed using index notation:"
   ]
  },
  {
   "cell_type": "code",
   "execution_count": 3,
   "id": "planned-separation",
   "metadata": {
    "execution": {
     "iopub.execute_input": "2024-10-01T18:58:28.536336Z",
     "iopub.status.busy": "2024-10-01T18:58:28.536245Z",
     "iopub.status.idle": "2024-10-01T18:58:28.538935Z",
     "shell.execute_reply": "2024-10-01T18:58:28.538724Z"
    }
   },
   "outputs": [
    {
     "data": {
      "text/html": [
       "<div><i>LightCurve length=2</i>\n",
       "<table id=\"table6040482320\" class=\"table-striped table-bordered table-condensed\">\n",
       "<thead><tr><th>time</th><th>flux</th><th>flux_err</th><th>color</th></tr></thead>\n",
       "<thead><tr><th></th><th></th><th></th><th></th></tr></thead>\n",
       "<thead><tr><th>Time</th><th>float64</th><th>float64</th><th>str5</th></tr></thead>\n",
       "<tr><td>2000.1</td><td>1.0</td><td>0.1</td><td>green</td></tr>\n",
       "<tr><td>2000.2</td><td>1.0</td><td>0.1</td><td>blue</td></tr>\n",
       "</table></div>"
      ],
      "text/plain": [
       "<LightCurve length=2>\n",
       " time    flux  flux_err color\n",
       "                             \n",
       " Time  float64 float64   str5\n",
       "------ ------- -------- -----\n",
       "2000.1     1.0      0.1 green\n",
       "2000.2     1.0      0.1  blue"
      ]
     },
     "execution_count": 3,
     "metadata": {},
     "output_type": "execute_result"
    }
   ],
   "source": [
    "lc[1:3]"
   ]
  },
  {
   "cell_type": "code",
   "execution_count": 4,
   "id": "known-literacy",
   "metadata": {
    "execution": {
     "iopub.execute_input": "2024-10-01T18:58:28.540194Z",
     "iopub.status.busy": "2024-10-01T18:58:28.540104Z",
     "iopub.status.idle": "2024-10-01T18:58:28.542289Z",
     "shell.execute_reply": "2024-10-01T18:58:28.542080Z"
    }
   },
   "outputs": [
    {
     "data": {
      "text/latex": [
       "$[1,~1,~1] \\; \\mathrm{}$"
      ],
      "text/plain": [
       "<Quantity [1., 1., 1.]>"
      ]
     },
     "execution_count": 4,
     "metadata": {},
     "output_type": "execute_result"
    }
   ],
   "source": [
    "lc['flux']"
   ]
  },
  {
   "cell_type": "markdown",
   "id": "endless-trout",
   "metadata": {},
   "source": [
    "### ✨ New: Times are stored as an AstroPy Time object\n",
    "\n",
    "\n"
   ]
  },
  {
   "cell_type": "markdown",
   "id": "parental-rwanda",
   "metadata": {},
   "source": [
    "Lightkurve 2 extends [AstroPy Time](https://docs.astropy.org/en/stable/time/) by adding support for the TESS and Kepler time formats (\"BTJD\" and \"BKJD\").  As a result, the time column is now always a Time object, which enables user to leverage this standard AstroPy feature:"
   ]
  },
  {
   "cell_type": "code",
   "execution_count": 5,
   "id": "gothic-consumer",
   "metadata": {
    "execution": {
     "iopub.execute_input": "2024-10-01T18:58:28.543657Z",
     "iopub.status.busy": "2024-10-01T18:58:28.543567Z",
     "iopub.status.idle": "2024-10-01T18:58:28.545720Z",
     "shell.execute_reply": "2024-10-01T18:58:28.545509Z"
    }
   },
   "outputs": [
    {
     "data": {
      "text/plain": [
       "<Time object: scale='tdb' format='btjd' value=[2000.  2000.1 2000.2]>"
      ]
     },
     "execution_count": 5,
     "metadata": {},
     "output_type": "execute_result"
    }
   ],
   "source": [
    "lc.time"
   ]
  },
  {
   "cell_type": "code",
   "execution_count": 6,
   "id": "herbal-cyprus",
   "metadata": {
    "execution": {
     "iopub.execute_input": "2024-10-01T18:58:28.547031Z",
     "iopub.status.busy": "2024-10-01T18:58:28.546936Z",
     "iopub.status.idle": "2024-10-01T18:58:28.549039Z",
     "shell.execute_reply": "2024-10-01T18:58:28.548834Z"
    }
   },
   "outputs": [
    {
     "data": {
      "text/plain": [
       "array([2459000. , 2459000.1, 2459000.2])"
      ]
     },
     "execution_count": 6,
     "metadata": {},
     "output_type": "execute_result"
    }
   ],
   "source": [
    "lc.time.jd   # Easy conversion to Julian Days"
   ]
  },
  {
   "cell_type": "code",
   "execution_count": 7,
   "id": "ruled-isaac",
   "metadata": {
    "execution": {
     "iopub.execute_input": "2024-10-01T18:58:28.550250Z",
     "iopub.status.busy": "2024-10-01T18:58:28.550161Z",
     "iopub.status.idle": "2024-10-01T18:58:28.552207Z",
     "shell.execute_reply": "2024-10-01T18:58:28.552005Z"
    }
   },
   "outputs": [
    {
     "data": {
      "text/plain": [
       "array(['2020-05-30 12:00:00.000', '2020-05-30 14:24:00.000',\n",
       "       '2020-05-30 16:48:00.000'], dtype='<U23')"
      ]
     },
     "execution_count": 7,
     "metadata": {},
     "output_type": "execute_result"
    }
   ],
   "source": [
    "lc.time.iso  # Easy conversion to ISO time stamps"
   ]
  },
  {
   "cell_type": "markdown",
   "id": "valid-shooting",
   "metadata": {},
   "source": [
    "### ✨ New: Read and write light curves in many file formats\n",
    "\n",
    "Because light curves act like tables, they now have easy `read()` and `write()` methods which allow a [variety of data formats](https://docs.astropy.org/en/stable/io/unified.html#built-in-readers-writers) to be used.  For example, it is now much easier to store a light curve to a human-readable text file:"
   ]
  },
  {
   "cell_type": "code",
   "execution_count": 8,
   "id": "false-sculpture",
   "metadata": {
    "execution": {
     "iopub.execute_input": "2024-10-01T18:58:28.553528Z",
     "iopub.status.busy": "2024-10-01T18:58:28.553442Z",
     "iopub.status.idle": "2024-10-01T18:58:28.770014Z",
     "shell.execute_reply": "2024-10-01T18:58:28.769235Z"
    }
   },
   "outputs": [
    {
     "name": "stdout",
     "output_type": "stream",
     "text": [
      "|   time | flux | flux_err | color |\r\n",
      "| 2000.0 |  1.0 |      0.1 |   red |\r\n",
      "| 2000.1 |  1.0 |      0.1 | green |\r\n",
      "| 2000.2 |  1.0 |      0.1 |  blue |\r\n"
     ]
    }
   ],
   "source": [
    "lc.write(\"/tmp/lightcurve.txt\", format=\"ascii.fixed_width\", overwrite=True)\n",
    "!cat /tmp/lightcurve.txt"
   ]
  },
  {
   "cell_type": "code",
   "execution_count": 9,
   "id": "continued-street",
   "metadata": {
    "execution": {
     "iopub.execute_input": "2024-10-01T18:58:28.773036Z",
     "iopub.status.busy": "2024-10-01T18:58:28.772822Z",
     "iopub.status.idle": "2024-10-01T18:58:28.783801Z",
     "shell.execute_reply": "2024-10-01T18:58:28.783347Z"
    }
   },
   "outputs": [
    {
     "data": {
      "text/html": [
       "<div><i>LightCurve length=3</i>\n",
       "<table id=\"table5885010768\" class=\"table-striped table-bordered table-condensed\">\n",
       "<thead><tr><th>time</th><th>flux</th><th>flux_err</th><th>color</th></tr></thead>\n",
       "<thead><tr><th></th><th></th><th></th><th></th></tr></thead>\n",
       "<thead><tr><th>Time</th><th>float64</th><th>float64</th><th>str5</th></tr></thead>\n",
       "<tr><td>2000.0</td><td>1.0</td><td>0.1</td><td>red</td></tr>\n",
       "<tr><td>2000.1</td><td>1.0</td><td>0.1</td><td>green</td></tr>\n",
       "<tr><td>2000.2</td><td>1.0</td><td>0.1</td><td>blue</td></tr>\n",
       "</table></div>"
      ],
      "text/plain": [
       "<LightCurve length=3>\n",
       " time    flux  flux_err color\n",
       "                             \n",
       " Time  float64 float64   str5\n",
       "------ ------- -------- -----\n",
       "2000.0     1.0      0.1   red\n",
       "2000.1     1.0      0.1 green\n",
       "2000.2     1.0      0.1  blue"
      ]
     },
     "execution_count": 9,
     "metadata": {},
     "output_type": "execute_result"
    }
   ],
   "source": [
    "LightCurve.read(\"/tmp/lightcurve.txt\", format=\"ascii.fixed_width\")"
   ]
  },
  {
   "cell_type": "markdown",
   "id": "dirty-milwaukee",
   "metadata": {},
   "source": [
    "## 2. Search & download data from different pipelines"
   ]
  },
  {
   "cell_type": "markdown",
   "id": "brave-walnut",
   "metadata": {},
   "source": [
    "Lightkurve 2 significantly expands the data sets that can be searched and downloaded from the TESS & Kepler data archives at MAST.\n",
    "\n",
    "### ✨ New: Search operations support different TESS pipelines\n",
    "\n",
    "The search operations now support all the Kepler & TESS light curves available from the data archive at MAST, including community-contributed light curves. A new `author` column in the search results identifies the pipeline (click on a pipeline name for details). As an added bonus, the search and download operations are now *much* faster owing to improved caching."
   ]
  },
  {
   "cell_type": "code",
   "execution_count": 10,
   "id": "nutritional-round",
   "metadata": {
    "execution": {
     "iopub.execute_input": "2024-10-01T18:58:28.786334Z",
     "iopub.status.busy": "2024-10-01T18:58:28.786171Z",
     "iopub.status.idle": "2024-10-01T18:58:37.332035Z",
     "shell.execute_reply": "2024-10-01T18:58:37.331738Z"
    }
   },
   "outputs": [
    {
     "data": {
      "text/html": [
       "SearchResult containing 18 data products.\n",
       "\n",
       "<table id=\"table6041263440\">\n",
       "<thead><tr><th>#</th><th>mission</th><th>year</th><th>author</th><th>exptime</th><th>target_name</th><th>distance</th></tr></thead>\n",
       "<thead><tr><th></th><th></th><th></th><th></th><th>s</th><th></th><th>arcsec</th></tr></thead>\n",
       "<tr><td>0</td><td>TESS Sector 19</td><td>2019</td><td><a href='https://heasarc.gsfc.nasa.gov/docs/tess/pipeline.html'>SPOC</a></td><td>120</td><td>303256075</td><td>0.0</td></tr>\n",
       "<tr><td>1</td><td>TESS Sector 60</td><td>2022</td><td><a href='https://heasarc.gsfc.nasa.gov/docs/tess/pipeline.html'>SPOC</a></td><td>120</td><td>303256075</td><td>0.0</td></tr>\n",
       "<tr><td>2</td><td>TESS Sector 19</td><td>2019</td><td><a href='https://archive.stsci.edu/hlsp/tess-spoc'>TESS-SPOC</a></td><td>1800</td><td>303256075</td><td>0.0</td></tr>\n",
       "<tr><td>3</td><td>TESS Sector 19</td><td>2019</td><td><a href='https://archive.stsci.edu/hlsp/qlp'>QLP</a></td><td>1800</td><td>303256075</td><td>0.0</td></tr>\n",
       "<tr><td>4</td><td>TESS Sector 20</td><td>2019</td><td><a href='https://archive.stsci.edu/hlsp/qlp'>QLP</a></td><td>1800</td><td>303256075</td><td>0.0</td></tr>\n",
       "<tr><td>5</td><td>TESS Sector 25</td><td>2020</td><td><a href='https://archive.stsci.edu/hlsp/qlp'>QLP</a></td><td>1800</td><td>303256075</td><td>0.0</td></tr>\n",
       "<tr><td>6</td><td>TESS Sector 26</td><td>2020</td><td><a href='https://archive.stsci.edu/hlsp/qlp'>QLP</a></td><td>1800</td><td>303256075</td><td>0.0</td></tr>\n",
       "<tr><td>7</td><td>TESS Sector 40</td><td>2021</td><td><a href='https://archive.stsci.edu/hlsp/qlp'>QLP</a></td><td>600</td><td>303256075</td><td>0.0</td></tr>\n",
       "<tr><td>8</td><td>TESS Sector 47</td><td>2021</td><td><a href='https://archive.stsci.edu/hlsp/qlp'>QLP</a></td><td>600</td><td>303256075</td><td>0.0</td></tr>\n",
       "<tr><td>9</td><td>TESS Sector 60</td><td>2022</td><td><a href='https://archive.stsci.edu/hlsp/qlp'>QLP</a></td><td>200</td><td>303256075</td><td>0.0</td></tr>\n",
       "<tr><td>10</td><td>TESS Sector 59</td><td>2022</td><td><a href='https://archive.stsci.edu/hlsp/qlp'>QLP</a></td><td>200</td><td>303256075</td><td>0.0</td></tr>\n",
       "<tr><td>11</td><td>TESS Sector 52</td><td>2022</td><td><a href='https://archive.stsci.edu/hlsp/qlp'>QLP</a></td><td>600</td><td>303256075</td><td>0.0</td></tr>\n",
       "<tr><td>12</td><td>TESS Sector 53</td><td>2022</td><td><a href='https://archive.stsci.edu/hlsp/qlp'>QLP</a></td><td>600</td><td>303256075</td><td>0.0</td></tr>\n",
       "<tr><td>13</td><td>TESS Sector 73</td><td>2023</td><td><a href='https://archive.stsci.edu/hlsp/qlp'>QLP</a></td><td>200</td><td>303256075</td><td>0.0</td></tr>\n",
       "<tr><td>14</td><td>TESS Sector 74</td><td>2024</td><td><a href='https://archive.stsci.edu/hlsp/qlp'>QLP</a></td><td>200</td><td>303256075</td><td>0.0</td></tr>\n",
       "<tr><td>15</td><td>TESS Sector 79</td><td>2024</td><td><a href='https://archive.stsci.edu/hlsp/qlp'>QLP</a></td><td>200</td><td>303256075</td><td>0.0</td></tr>\n",
       "<tr><td>16</td><td>TESS Sector 26</td><td>2020</td><td><a href='https://archive.stsci.edu/hlsp/tasoc'>TASOC</a></td><td>1800</td><td>303256075</td><td>0.0</td></tr>\n",
       "<tr><td>17</td><td>TESS Sector 26</td><td>2020</td><td><a href='https://archive.stsci.edu/hlsp/tasoc'>TASOC</a></td><td>1800</td><td>303256075</td><td>0.0</td></tr>\n",
       "</table>"
      ],
      "text/plain": [
       "SearchResult containing 18 data products.\n",
       "\n",
       " #     mission     year   author  exptime target_name distance\n",
       "                                     s                 arcsec \n",
       "--- -------------- ---- --------- ------- ----------- --------\n",
       "  0 TESS Sector 19 2019      SPOC     120   303256075      0.0\n",
       "  1 TESS Sector 60 2022      SPOC     120   303256075      0.0\n",
       "  2 TESS Sector 19 2019 TESS-SPOC    1800   303256075      0.0\n",
       "  3 TESS Sector 19 2019       QLP    1800   303256075      0.0\n",
       "  4 TESS Sector 20 2019       QLP    1800   303256075      0.0\n",
       "  5 TESS Sector 25 2020       QLP    1800   303256075      0.0\n",
       "  6 TESS Sector 26 2020       QLP    1800   303256075      0.0\n",
       "  7 TESS Sector 40 2021       QLP     600   303256075      0.0\n",
       "  8 TESS Sector 47 2021       QLP     600   303256075      0.0\n",
       "  9 TESS Sector 60 2022       QLP     200   303256075      0.0\n",
       " 10 TESS Sector 59 2022       QLP     200   303256075      0.0\n",
       " 11 TESS Sector 52 2022       QLP     600   303256075      0.0\n",
       " 12 TESS Sector 53 2022       QLP     600   303256075      0.0\n",
       " 13 TESS Sector 73 2023       QLP     200   303256075      0.0\n",
       " 14 TESS Sector 74 2024       QLP     200   303256075      0.0\n",
       " 15 TESS Sector 79 2024       QLP     200   303256075      0.0\n",
       " 16 TESS Sector 26 2020     TASOC    1800   303256075      0.0\n",
       " 17 TESS Sector 26 2020     TASOC    1800   303256075      0.0"
      ]
     },
     "execution_count": 10,
     "metadata": {},
     "output_type": "execute_result"
    }
   ],
   "source": [
    "import lightkurve as lk\n",
    "lk.search_lightcurve(\"Polaris\")"
   ]
  },
  {
   "cell_type": "markdown",
   "id": "utility-reply",
   "metadata": {},
   "source": [
    "### ✨ New: Download TESS fast cadence data\n",
    "\n",
    "The TESS mission recently introduced a new 20-second exposure time mode and decreased the exposure time of its Full Frame Images to 10 minutes.  In response, Lightkurve now allows user to specify the exact exposure time via the optional ``exptime`` argument and column."
   ]
  },
  {
   "cell_type": "code",
   "execution_count": 11,
   "id": "awful-hygiene",
   "metadata": {
    "execution": {
     "iopub.execute_input": "2024-10-01T18:58:37.333766Z",
     "iopub.status.busy": "2024-10-01T18:58:37.333648Z",
     "iopub.status.idle": "2024-10-01T18:58:40.452679Z",
     "shell.execute_reply": "2024-10-01T18:58:40.452405Z"
    }
   },
   "outputs": [
    {
     "data": {
      "text/html": [
       "SearchResult containing 1 data products.\n",
       "\n",
       "<table id=\"table6041888016\">\n",
       "<thead><tr><th>#</th><th>mission</th><th>year</th><th>author</th><th>exptime</th><th>target_name</th><th>distance</th></tr></thead>\n",
       "<thead><tr><th></th><th></th><th></th><th></th><th>s</th><th></th><th>arcsec</th></tr></thead>\n",
       "<tr><td>0</td><td>TESS Sector 27</td><td>2020</td><td><a href='https://heasarc.gsfc.nasa.gov/docs/tess/pipeline.html'>SPOC</a></td><td>20</td><td>441420236</td><td>0.0</td></tr>\n",
       "</table>"
      ],
      "text/plain": [
       "SearchResult containing 1 data products.\n",
       "\n",
       " #     mission     year author exptime target_name distance\n",
       "                                  s                 arcsec \n",
       "--- -------------- ---- ------ ------- ----------- --------\n",
       "  0 TESS Sector 27 2020   SPOC      20   441420236      0.0"
      ]
     },
     "execution_count": 11,
     "metadata": {},
     "output_type": "execute_result"
    }
   ],
   "source": [
    "lk.search_lightcurve(\"AU Mic\", exptime=20)"
   ]
  },
  {
   "cell_type": "markdown",
   "id": "verified-michael",
   "metadata": {},
   "source": [
    "You can also filter search results after the fact via attribute access, e.g. via `search.exptime`:"
   ]
  },
  {
   "cell_type": "code",
   "execution_count": 12,
   "id": "canadian-afghanistan",
   "metadata": {
    "execution": {
     "iopub.execute_input": "2024-10-01T18:58:40.454380Z",
     "iopub.status.busy": "2024-10-01T18:58:40.454262Z",
     "iopub.status.idle": "2024-10-01T18:58:41.763658Z",
     "shell.execute_reply": "2024-10-01T18:58:41.763392Z"
    }
   },
   "outputs": [
    {
     "data": {
      "image/png": "[encoded data removed]",
      "text/plain": [
       "<Figure size 848.5x400 with 1 Axes>"
      ]
     },
     "metadata": {},
     "output_type": "display_data"
    }
   ],
   "source": [
    "search = lk.search_lightcurve(\"AU Mic\")\n",
    "search[search.exptime.value == 20].download().plot();"
   ]
  },
  {
   "cell_type": "markdown",
   "id": "satisfied-knock",
   "metadata": {},
   "source": [
    "## 3. New noise removal tools"
   ]
  },
  {
   "cell_type": "markdown",
   "id": "important-landing",
   "metadata": {},
   "source": [
    "### ✨ New: Remove systematics using Cotrending Basis Vectors\n",
    "\n",
    "Lightkurve 2 adds a new `CotrendingBasisVectors` class to provide a convenient interface to work with the official TESS and Kepler basis vector data products. We also re-implemented the `CBVCorrector` class from scratch to perform the correction in a way that is more similar to the official Kepler/TESS pipeline. This work was led by one of the authors of the official pipeline, Jeff Smith."
   ]
  },
  {
   "cell_type": "code",
   "execution_count": 13,
   "id": "charming-canyon",
   "metadata": {
    "execution": {
     "iopub.execute_input": "2024-10-01T18:58:41.765346Z",
     "iopub.status.busy": "2024-10-01T18:58:41.765239Z",
     "iopub.status.idle": "2024-10-01T18:59:18.924168Z",
     "shell.execute_reply": "2024-10-01T18:59:18.923847Z"
    }
   },
   "outputs": [
    {
     "name": "stdout",
     "output_type": "stream",
     "text": [
      "Optimized Over-fitting metric: 0.9996495411788935\n",
      "Optimized Under-fitting metric: 0.8255822707976961\n",
      "Optimized Alpha: 8.994e+03\n"
     ]
    }
   ],
   "source": [
    "# Download a light curve and apply the new CBVCorrector\n",
    "from lightkurve.correctors import CBVCorrector\n",
    "lc = lk.search_lightcurve(\"TIC 99180739\", author=\"SPOC\", sector=10).download(flux_column=\"sap_flux\")\n",
    "cbvCorrector = CBVCorrector(lc)\n",
    "lc_corrected = cbvCorrector.correct()"
   ]
  },
  {
   "cell_type": "markdown",
   "id": "inside-national",
   "metadata": {},
   "source": [
    "The corrector now produces detailed diagnostic plots showing the light curve before (grey) and after (black) the noise (blue) was removed:"
   ]
  },
  {
   "cell_type": "code",
   "execution_count": 14,
   "id": "designing-possession",
   "metadata": {
    "execution": {
     "iopub.execute_input": "2024-10-01T18:59:18.925697Z",
     "iopub.status.busy": "2024-10-01T18:59:18.925613Z",
     "iopub.status.idle": "2024-10-01T18:59:18.954871Z",
     "shell.execute_reply": "2024-10-01T18:59:18.954574Z"
    }
   },
   "outputs": [],
   "source": [
    "cbvCorrector.diagnose();"
   ]
  },
  {
   "cell_type": "markdown",
   "id": "terminal-packing",
   "metadata": {},
   "source": [
    "### ✨ New: Remove systematics by optimizing under- and over-fitting metrics\n",
    "\n",
    "A `lightkurve.correctors.metrics` module was added to provide functions which can estimate the degree of over- and under-fitting of a corrected light curve. The new `CBVCorrector` utilizes these metrics to find an appropriate, user-tuneable tradeoff. You can learn more about this new feature in the [new CBVCorrector tutorial](tutorials/2-creating-light-curves/2-3-how-to-use-cbvcorrector.html)."
   ]
  },
  {
   "cell_type": "code",
   "execution_count": 15,
   "id": "close-colon",
   "metadata": {
    "execution": {
     "iopub.execute_input": "2024-10-01T18:59:18.956430Z",
     "iopub.status.busy": "2024-10-01T18:59:18.956351Z",
     "iopub.status.idle": "2024-10-01T18:59:39.974285Z",
     "shell.execute_reply": "2024-10-01T18:59:39.973419Z"
    }
   },
   "outputs": [],
   "source": [
    "cbvCorrector.goodness_metric_scan_plot();"
   ]
  },
  {
   "cell_type": "markdown",
   "id": "superior-practitioner",
   "metadata": {},
   "source": [
    "### ✨ New: Inspect pixel-by-pixel light curves using *plot_pixels()*\n",
    "\n",
    "A new ``TargetPixelFile.plot_pixels()`` method has been added which enables the light curves and periodograms of individual pixels to be inspected within a pixel file. This is very useful for investigating the location of specific signals. A [dedicated tutorial](tutorials/3-science-examples/periodograms-verifying-the-location-of-a-signal.html) explains this new feature in detail."
   ]
  },
  {
   "cell_type": "code",
   "execution_count": 16,
   "id": "adjusted-venezuela",
   "metadata": {
    "execution": {
     "iopub.execute_input": "2024-10-01T18:59:39.979238Z",
     "iopub.status.busy": "2024-10-01T18:59:39.978804Z",
     "iopub.status.idle": "2024-10-01T18:59:40.775693Z",
     "shell.execute_reply": "2024-10-01T18:59:40.775363Z"
    }
   },
   "outputs": [],
   "source": [
    "pixelfile = lk.search_targetpixelfile(\"KIC 2435971\", mission=\"Kepler\", quarter=9).download()\n",
    "pixelfile.plot_pixels();"
   ]
  },
  {
   "cell_type": "markdown",
   "id": "nutritional-masters",
   "metadata": {},
   "source": [
    "## Other changes\n",
    "\n",
    "* Support for Python 2 has been removed.\n",
    "* The [online documentation](https://docs.lightkurve.org) has been updated to provide numerous new tutorials and a more comprehensive API reference guide.\n",
    "* Search and download operations are now cached in a more robust way, significantly speeding up accessing data from MAST. \n",
    "* Added a column parameter to LightCurve's plot(), scatter(), and errorbar() methods to enable any column in a light curve object to be plotted. \n",
    "* Added the `LightCurve.create_transit_mask(period, transit_time, duration)` method to conveniently mask planet or eclipsing binary transits. \n",
    "* Added the `LightCurve.search_neighbors()` method to search for light curves around an existing one. \n",
    "* Modified `TargetPixelFile.plot()` to use a more clear hatched style when visualizing the aperture mask on top of pixel data. \n",
    "* Added `SparseDesignMatrix` and modified `RegressionCorrector` to enable systematics removal methods to benefit from scipy.sparse speed-ups. \n",
    "\n",
    "In addition, Lightkurve 2 contains numerous smaller improvements and bugfixes. To see a detailed list of all changes, please see the [Full Changelog](http://docs.lightkurve.org/about/changelog.html)."
   ]
  },
  {
   "cell_type": "markdown",
   "id": "dominant-springfield",
   "metadata": {},
   "source": [
    "## FAQ\n",
    "\n",
    "### How do I install Lightkurve 2?\n",
    "\n",
    "You can upgrade Lightkurve using pip:\n",
    "\n",
    "```\n",
    "python -m pip install --upgrade lightkurve\n",
    "```\n",
    "\n",
    "### How do I keep using Lightkurve 1?\n",
    "\n",
    "You can continue to use Lightkurve 1 by pinning the version number using pip, for example:\n",
    "\n",
    "```\n",
    "python -m pip install lightkurve==1.11\n",
    "```\n",
    "\n",
    "### Will existing Lightkurve code break?\n",
    "\n",
    "While we tried to maximize backwards compatibility, Lightkurve 2 does contain a small number of changes that may break existing code for the following reasons:\n",
    "\n",
    "1. **lc.time is now always an Astropy Time object.**  Unfortunately, many NumPy and SciPy functions do not deal seamlessly with `Time` objects yet. Existing code may have to be modified to pass `lc.time.value` to NumPy/SciPy functions where `lc.time` was passed before.\n",
    "2. **Other numerical columns are now Astropy Quantity objects.**  While Quantity objects are largely compatible with NumPy/SciPy, situations do arise where users may wish to perform operations on `lc.flux.value` instead of `lc.flux`.\n",
    "3. **All metadata is now stored in the lc.meta dictionary**.  This includes any header values of the FITS file from which a light curve was loaded.  For convenience, we continue to support attribute access, e.g. `lc.sector` is available as a shortcut for `lc.meta['SECTOR']`.\n",
    "4. **LightCurveFile classes have been deprecated.** Instead, light curve files can now be loaded using `LightCurve.read(filename, format=\"tess\")`.\n",
    "5. **lc.time can no longer contain NaN values**.  This is because AstroPy Time objects do not currently support NaN values. As a result, light curve reading functions will tend to ignore rows with NaN time values. All other columns in a light curve continue to support NaNs values however.\n",
    "6. **lc.bin() now takes time_bin_size and time_bin_start arguments.** This is for consistency with `astropy.timeseries.aggregate_downsample`. This significantly alters the behavior of binning, because bins are now defined in time instead of by number of data points.\n",
    "7. **lc.fold() now returns un-normalized phase values by default.**  This is for consistency with `TimeSeries.fold()`. For the same reason, the `t0` argument has been deprecated in favor of `epoch_time`, and the method now accepts the extra `epoch_phase`, `wrap_phase`, and `normalize_phase` arguments.\n",
    "8. **Several attributes and methods have been deprecated.**  They still work but will yield a warning and may be removed in the future:\n",
    "  * `lc.astropy_time` => `lc.time`\n",
    "  * `lc.time_format` => `lc.time.format`\n",
    "  * `lc.time_scale` => `lc.time.scale`\n",
    "  * `lc.flux_quantity` => `lc.flux`\n",
    "  * `lc.flux_unit` => `lc.flux.unit`\n",
    "  * `search_lightcurvefile()` => `search_lightcurve()`"
   ]
  },
  {
   "cell_type": "markdown",
   "id": "breathing-rainbow",
   "metadata": {},
   "source": [
    "## Contributors\n",
    "\n",
    "The people who contributed to Lightkurve 2 include:\n",
    "\n",
    "Thomas Barclay, Geert Barentsen, Keaton Bell, Zachory K. Berta-Thompson, Colin J. Burke, Nuno Ramos Carvalho, Ann Marie Cody, Isabel Coleman, Kaiming Cui, Guy Davies, Jessie Dotson, Stephanie Douglas, Scott Fleming, Daniel Foreman-Mackey, Michael Gully-Santiago, Oliver Hall, Christina Hedges, Daniel Hey, Michael Higgins, Derek Homeier, Rebekah Hounsell, Sam Lee, Jose A. Lerma III, Ken Mighell, Susan Mullally, Szabo Pal, Sheila Sagear, Nicholas Saunders, Jeff Smith, Anand Sundaram, Emma Turtelboom, Andrew Vanderburg, Brennan Vincello, José Vinícius de Miranda Cardoso, Peter Williams, Johnny Zhang."
   ]
  }
 ],
 "metadata": {
  "kernelspec": {
   "display_name": "Python 3 (ipykernel)",
   "language": "python",
   "name": "python3"
  },
  "language_info": {
   "codemirror_mode": {
    "name": "ipython",
    "version": 3
   },
   "file_extension": ".py",
   "mimetype": "text/x-python",
   "name": "python",
   "nbconvert_exporter": "python",
   "pygments_lexer": "ipython3",
   "version": "3.11.3"
  }
 },
 "nbformat": 4,
 "nbformat_minor": 5
}
